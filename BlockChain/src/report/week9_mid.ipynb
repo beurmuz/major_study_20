{
 "cells": [
  {
   "cell_type": "markdown",
   "metadata": {},
   "source": [
    "# 201810803 장서령"
   ]
  },
  {
   "cell_type": "markdown",
   "metadata": {},
   "source": [
    "### 1-1 geth@8446에서 admin.nodeInfo 출력 (네트워크 ID 4이하로 출력되지 않게 하고, 36번으로 출력함)"
   ]
  },
  {
   "cell_type": "markdown",
   "metadata": {},
   "source": [
    "### 1-1 답\n",
    "_genesis2.js 파일을 만들어 chainID를  36으로 변경해준 후, _gethNow2.bat 파일을 만들어 port를 8446으로 변경해주었다. 이후 geth network 초기화를 위해  다음의 코드를 실행하였다.\n",
    "> geth --datadir .\\eth init _genesis2.json\n",
    "\n",
    "그리고 _gethNow2.bat를 띄워놓고 다음을 실행함으로써 chainId와 network가 36으로 변경됨을 확인하였다."
   ]
  },
  {
   "cell_type": "code",
   "execution_count": 179,
   "metadata": {},
   "outputs": [
    {
     "name": "stdout",
     "output_type": "stream",
     "text": [
      "{\n",
      "  enode: \"enode://d22b5d9a3a52317e2830a33365e1e9e5bfcbcddffc646eace07d37b72e32ad01e1a876028e18226b5dc821f52874641938c326d0a4cdeeaa44419668b3f925bb@127.0.0.1:38446\",\n",
      "  enr: \"0xf89cb840c0eda4080468a9b98324a6a29a4eb49634afee9f56a0a8571e495fd325ef72161885525d314ef39e0a7079f8d0565c19e1aca4749573fb28bf67bc5e5ff24acc3a83636170ccc5836574683ec5836574683f826964827634826970847f00000189736563703235366b31a103d22b5d9a3a52317e2830a33365e1e9e5bfcbcddffc646eace07d37b72e32ad018374637082962e8375647082962e\",\n",
      "  id: \"ef4801d4d9b97eb20443610783ac23cdb4254d2d1af0b276a6bca54f5b065d61\",\n",
      "  ip: \"127.0.0.1\",\n",
      "  listenAddr: \"[::]:38446\",\n",
      "  name: \"Geth/jsr/v1.8.20-stable-24d727b6/windows-amd64/go1.11.2\",\n",
      "  ports: {\n",
      "    discovery: 38446,\n",
      "    listener: 38446\n",
      "  },\n",
      "  protocols: {\n",
      "    eth: {\n",
      "      config: {\n",
      "        chainId: 36,\n",
      "        eip150Hash: \"0x0000000000000000000000000000000000000000000000000000000000000000\",\n",
      "        eip155Block: 0,\n",
      "        eip158Block: 0,\n",
      "        homesteadBlock: 0\n",
      "      },\n",
      "      difficulty: 137714572,\n",
      "      genesis: \"0x5704d029fe80f4fb605c0cb5e31d591511f10a46a0cb8166f97d8d559f9bc5b0\",\n",
      "      head: \"0xa90d1a1acaf53872303e601ed2f521468216cae4d07753c3e72032de90b8bbc1\",\n",
      "      network: 36\n",
      "    }\n",
      "  }\n",
      "}\n"
     ]
    }
   ],
   "source": [
    "!geth --exec \"admin.nodeInfo\" attach http://127.0.0.1:8446"
   ]
  },
  {
   "cell_type": "markdown",
   "metadata": {},
   "source": [
    "### 1-2 geth@8446에서 계정, ether 잔고(잔고가 5 ether 이상 있어야 함),블록번호를 출력"
   ]
  },
  {
   "cell_type": "code",
   "execution_count": 180,
   "metadata": {},
   "outputs": [
    {
     "name": "stdout",
     "output_type": "stream",
     "text": [
      "Overwriting src/mid1.2_Balance.js\n"
     ]
    }
   ],
   "source": [
    "%%writefile src/mid1.2_Balance.js\n",
    "var ac1 = eth.accounts[4];\n",
    "var ac2 = eth.accounts[5];\n",
    "var bal1 = eth.getBalance(ac1);\n",
    "var bal2 = eth.getBalance(ac2);\n",
    "console.log('The Accounts is: ',eth.accounts);\n",
    "console.log('The Coinbase Balance is: ',web3.fromWei(bal1));\n",
    "console.log('The 2st Balance is: ',web3.fromWei(bal2));\n",
    "console.log('The Blocknumber: ', eth.blockNumber);"
   ]
  },
  {
   "cell_type": "markdown",
   "metadata": {},
   "source": [
    "### 1-2 답"
   ]
  },
  {
   "cell_type": "code",
   "execution_count": 181,
   "metadata": {},
   "outputs": [
    {
     "name": "stdout",
     "output_type": "stream",
     "text": [
      "The Accounts is:  0xc920e93d60afac15d7e2ca2c3fccf5307b3e227e,0xcf4e8b9f748e55d04fe7fccec6d027f1af0d87cb,0x0a20a345e9fc872fec37c61674c99dd2d10488b1,0xe9605f3b42d8dacef65ab4761e3e12789b312142,0xf734b591f560cc45b186e9fa754001532eedb31a,0x9a01562cca6dfb2f0cf93e77dd6ea33117650032\n",
      "The Coinbase Balance is:  252.79\n",
      "The 2st Balance is:  92.21\n",
      "The Blocknumber:  989\n",
      "true\n"
     ]
    }
   ],
   "source": [
    "!geth --exec \"loadScript('src/mid1.2_Balance.js')\" attach http://localhost:8446"
   ]
  },
  {
   "cell_type": "markdown",
   "metadata": {},
   "source": [
    "### 1-3 & 1-5 geth@8446 coinbase에서 geth@8446 2번째 계정으로 1.11 ether 계좌이체, 계좌이체가 성공했다면 geth@8446의 수신측 계정잔고, 수신측 잔고변화 ether, 블록번호를 출력하세요."
   ]
  },
  {
   "cell_type": "code",
   "execution_count": 182,
   "metadata": {},
   "outputs": [
    {
     "name": "stdout",
     "output_type": "stream",
     "text": [
      "Overwriting src/mid1.3_Tran.js\n"
     ]
    }
   ],
   "source": [
    "%%writefile src/mid1.3_Tran.js\n",
    "miner.setEtherbase(eth.accounts[4]);\n",
    "console.log('coinbase: ', eth.coinbase);\n",
    "var bal1=eth.getBalance(eth.coinbase);\n",
    "var bal2=eth.getBalance(eth.accounts[5]);\n",
    "var ch1=web3.fromWei(bal2,\"ether\");\n",
    "console.log('The Sender balance in ether: ', web3.fromWei(bal1,\"ether\"));\n",
    "console.log('The Receiver balance in ether: ', ch1);\n",
    "console.log('Tranaction Count: ', eth.getTransactionCount(eth.coinbase));\n",
    "var t=eth.sendTransaction({from:eth.coinbase, to:eth.accounts[5], value:1110000000000000000});\n",
    "console.log('TransactionHash: ',t);\n",
    "console.log('...mining start');\n",
    "miner.start(1);admin.sleepBlocks(1);miner.stop();\n",
    "console.log('mining done...');\n",
    "var bal1new=eth.getBalance(eth.coinbase);\n",
    "var bal2new=eth.getBalance(eth.accounts[5]);\n",
    "var ch2=web3.fromWei(bal2new,\"ether\");\n",
    "console.log('- New Sender balance in ether: ', web3.fromWei(bal1new,\"ether\"));\n",
    "console.log('- New Receiver balance in ether: ', ch2);\n",
    "console.log('- The change of Receiver in ether: ', ch2-ch1);\n",
    "console.log('block number: ', eth.blockNumber);"
   ]
  },
  {
   "cell_type": "markdown",
   "metadata": {},
   "source": [
    "### 1-3&1-5 답"
   ]
  },
  {
   "cell_type": "code",
   "execution_count": 183,
   "metadata": {},
   "outputs": [
    {
     "name": "stdout",
     "output_type": "stream",
     "text": [
      "coinbase:  0xf734b591f560cc45b186e9fa754001532eedb31a\n",
      "The Sender balance in ether:  252.79\n",
      "The Receiver balance in ether:  92.21\n",
      "Tranaction Count:  16\n",
      "TransactionHash:  0xb79acdd7012e07f9521e1711e7e2bba4e091f2ebbacc6c4daf1562d9e89b2415\n",
      "...mining start\n",
      "mining done...\n",
      "- New Sender balance in ether:  256.68\n",
      "- New Receiver balance in ether:  93.32\n",
      "- The change of Receiver in ether:  1.1099999999999994\n",
      "block number:  990\n",
      "true\n"
     ]
    }
   ],
   "source": [
    "!geth --exec \"loadScript('src/mid1.3_Tran.js')\" attach http://localhost:8446"
   ]
  },
  {
   "cell_type": "markdown",
   "metadata": {},
   "source": [
    "### 1-4 계좌이체의 hash값을 사용해 getTransactionReceipt 출력\n",
    "### 1-4 답"
   ]
  },
  {
   "cell_type": "code",
   "execution_count": 185,
   "metadata": {},
   "outputs": [
    {
     "name": "stdout",
     "output_type": "stream",
     "text": [
      "{\n",
      "  blockHash: \"0x6ef66b40f8541b3f887b9959c272e4ad1d270bfbf8c8ba0e7be547a2a4fe0b7a\",\n",
      "  blockNumber: 990,\n",
      "  contractAddress: null,\n",
      "  cumulativeGasUsed: 21000,\n",
      "  from: \"0xf734b591f560cc45b186e9fa754001532eedb31a\",\n",
      "  gasUsed: 21000,\n",
      "  logs: [],\n",
      "  logsBloom: \"0x00000000000000000000000000000000000000000000000000000000000000000000000000000000000000000000000000000000000000000000000000000000000000000000000000000000000000000000000000000000000000000000000000000000000000000000000000000000000000000000000000000000000000000000000000000000000000000000000000000000000000000000000000000000000000000000000000000000000000000000000000000000000000000000000000000000000000000000000000000000000000000000000000000000000000000000000000000000000000000000000000000000000000000000000000000000\",\n",
      "  root: \"0xe892f2b66b985dacb0822dead9cc343b799cda863319286bc35cb019a8d5c6b7\",\n",
      "  to: \"0x9a01562cca6dfb2f0cf93e77dd6ea33117650032\",\n",
      "  transactionHash: \"0xb79acdd7012e07f9521e1711e7e2bba4e091f2ebbacc6c4daf1562d9e89b2415\",\n",
      "  transactionIndex: 0\n",
      "}\n"
     ]
    }
   ],
   "source": [
    "!geth --exec \"eth.getTransactionReceipt('0xb79acdd7012e07f9521e1711e7e2bba4e091f2ebbacc6c4daf1562d9e89b2415')\" attach http://localhost:8446"
   ]
  },
  {
   "cell_type": "markdown",
   "metadata": {},
   "source": [
    "### 2-1 컨트랙은 Math.sol로 저장하고, 함수는 powerOf2로 명명해서 프로그램 작성"
   ]
  },
  {
   "cell_type": "markdown",
   "metadata": {},
   "source": [
    "### 2-1 답"
   ]
  },
  {
   "cell_type": "code",
   "execution_count": 186,
   "metadata": {},
   "outputs": [
    {
     "name": "stdout",
     "output_type": "stream",
     "text": [
      "Overwriting src\\Math.sol\n"
     ]
    }
   ],
   "source": [
    "%%writefile src\\Math.sol\n",
    "pragma solidity ^0.4.0;\n",
    "contract Math{\n",
    "    function powerOf2 (uint input) public pure returns(uint) {\n",
    "            uint out =1;\n",
    "          for (uint i=0; i<input; i++) {\n",
    "              out *=2;\n",
    "        }\n",
    "        return out;\n",
    "    }\n",
    "}"
   ]
  },
  {
   "cell_type": "markdown",
   "metadata": {},
   "source": [
    "### 2-2 컴파일해서 abi, gas, bin을 출력\n",
    "### 2-2 답"
   ]
  },
  {
   "cell_type": "code",
   "execution_count": 187,
   "metadata": {},
   "outputs": [
    {
     "name": "stdout",
     "output_type": "stream",
     "text": [
      "\n",
      "======= src\\Math.sol:Math =======\n",
      "Gas estimation:\n",
      "construction:\n",
      "   93 + 44600 = 44693\n",
      "external:\n",
      "   powerOf2(uint256):\tinfinite\n",
      "Binary: \n",
      "608060405234801561001057600080fd5b5060df8061001f6000396000f300608060405260043610603f576000357c0100000000000000000000000000000000000000000000000000000000900463ffffffff168063bdacc0cf146044575b600080fd5b348015604f57600080fd5b50606c600480360381019080803590602001909291905050506082565b6040518082815260200191505060405180910390f35b600080600060019150600090505b8381101560a95760028202915080806001019150506090565b81925050509190505600a165627a7a72305820b7a23981db3312ef61ba7d69946bc5ef5c68cbc62fe85fa3ff7142444e2fc34e0029\n",
      "Contract JSON ABI \n",
      "[{\"constant\":true,\"inputs\":[{\"name\":\"input\",\"type\":\"uint256\"}],\"name\":\"powerOf2\",\"outputs\":[{\"name\":\"\",\"type\":\"uint256\"}],\"payable\":false,\"stateMutability\":\"pure\",\"type\":\"function\"}]\n"
     ]
    }
   ],
   "source": [
    "!solc --abi --bin --gas src\\Math.sol"
   ]
  },
  {
   "cell_type": "markdown",
   "metadata": {},
   "source": [
    "### 2-3 Node로 배포 (배포 스크립트 작성)\n",
    "### 2-3 답(배포)"
   ]
  },
  {
   "cell_type": "code",
   "execution_count": 227,
   "metadata": {},
   "outputs": [
    {
     "name": "stdout",
     "output_type": "stream",
     "text": [
      "Overwriting src/MathDeploy.js\n"
     ]
    }
   ],
   "source": [
    "%%writefile src/MathDeploy.js\n",
    "var Web3=require('web3');\n",
    "var web3;\n",
    "if (typeof web3 !== 'undefined') {\n",
    "    web3 = new Web3(web3.currentProvider);\n",
    "} else {\n",
    "    web3 = new Web3(new Web3.providers.HttpProvider(\"http://127.0.0.1:8446\"));\n",
    "}\n",
    "var _abiArray=[{\"constant\":true,\"inputs\":[{\"name\":\"input\",\"type\":\"uint256\"}],\"name\":\"powerOf2\",\"outputs\":[{\"name\":\"\",\"type\":\"uint256\"}],\"payable\":false,\"stateMutability\":\"pure\",\"type\":\"function\"}];\n",
    "var _bin=\"608060405234801561001057600080fd5b5060df8061001f6000396000f300608060405260043610603f576000357c0100000000000000000000000000000000000000000000000000000000900463ffffffff168063bdacc0cf146044575b600080fd5b348015604f57600080fd5b50606c600480360381019080803590602001909291905050506082565b6040518082815260200191505060405180910390f35b600080600060019150600090505b8381101560a95760028202915080806001019150506090565b81925050509190505600a165627a7a72305820b7a23981db3312ef61ba7d69946bc5ef5c68cbc62fe85fa3ff7142444e2fc34e0029\";\n",
    "var _contract = new web3.eth.Contract(_abiArray);\n",
    "_contract\n",
    "    .deploy({data:\"0x\"+_bin})\n",
    "    .send({from: \"0xf734b591f560cc45b186e9fa754001532eedb31a\", gas: 364124, gasPrice: '1000000000'})\n",
    "    .then(function(newContractInstance){\n",
    "        console.log(newContractInstance.options.address) // instance with the new contract address\n",
    "    });"
   ]
  },
  {
   "cell_type": "code",
   "execution_count": 229,
   "metadata": {},
   "outputs": [
    {
     "name": "stdout",
     "output_type": "stream",
     "text": [
      "0x6cd754b863dEB372E4205dDFCeAfCAF154f1f090\n"
     ]
    }
   ],
   "source": [
    "!node src\\MathDeploy.js"
   ]
  },
  {
   "cell_type": "markdown",
   "metadata": {},
   "source": [
    "### 2-4 Node로 사용 (사용 스크립트 작성, 8과 32를 입력해서 결과 출력)"
   ]
  },
  {
   "cell_type": "code",
   "execution_count": 230,
   "metadata": {},
   "outputs": [
    {
     "name": "stdout",
     "output_type": "stream",
     "text": [
      "Overwriting src/MathUse.js\n"
     ]
    }
   ],
   "source": [
    "%%writefile src/MathUse.js\n",
    "var Web3=require('web3');\n",
    "var web3 = new Web3(new Web3.providers.HttpProvider(\"http://127.0.0.1:8446\"));\n",
    "var shelloContract = new web3.eth.Contract([{\"constant\":true,\"inputs\":[{\"name\":\"input\",\"type\":\"uint256\"}],\"name\":\"powerOf2\",\"outputs\":[{\"name\":\"\",\"type\":\"uint256\"}],\"payable\":false,\"stateMutability\":\"pure\",\"type\":\"function\"}],\n",
    "                                      \"0x6cd754b863dEB372E4205dDFCeAfCAF154f1f090\");\n",
    "shelloContract.methods.powerOf2(8).call().then(function(str) {console.log(str);});\n",
    "shelloContract.methods.powerOf2(32).call().then(function(str) {console.log(str);});"
   ]
  },
  {
   "cell_type": "markdown",
   "metadata": {},
   "source": [
    "### 2-4 답"
   ]
  },
  {
   "cell_type": "code",
   "execution_count": 231,
   "metadata": {},
   "outputs": [
    {
     "name": "stdout",
     "output_type": "stream",
     "text": [
      "256\n",
      "4294967296\n"
     ]
    }
   ],
   "source": [
    "!node src/MathUse.js"
   ]
  },
  {
   "cell_type": "markdown",
   "metadata": {},
   "source": [
    "### 2-5 웹페이지 powerOf2.html을 작성 (32를 입력하고, 결과를 화면에 출력하고 캡쳐해서 별도 제출)"
   ]
  },
  {
   "cell_type": "code",
   "execution_count": 242,
   "metadata": {},
   "outputs": [
    {
     "name": "stdout",
     "output_type": "stream",
     "text": [
      "Overwriting scripts/powerOf2.html\n"
     ]
    }
   ],
   "source": [
    "%%writefile scripts/powerOf2.html\n",
    "<!doctype>\n",
    "<html>\n",
    "<head>\n",
    "<script src=\"https://cdn.jsdelivr.net/npm/web3@0.20.5/dist/web3.min.js\"></script>\n",
    "<script type=\"text/javascript\">\n",
    "    //var Web3 = require('web3');  //can be removed\n",
    "    var web3 = new Web3(new Web3.providers.HttpProvider(\"http://127.0.0.1:8446\"));\n",
    "\n",
    "    function displaypowerOf2() {\n",
    "        //web3@0.20.x\n",
    "        var powerContract = web3.eth.contract([{\"constant\":true,\"inputs\":[{\"name\":\"input\",\"type\":\"uint256\"}],\"name\":\"powerOf2\",\"outputs\":[{\"name\":\"\",\"type\":\"uint256\"}],\"payable\":false,\"stateMutability\":\"pure\",\"type\":\"function\"}]);\n",
    "        var power = powerContract.at(\"0x6cd754b863dEB372E4205dDFCeAfCAF154f1f090\");\n",
    "        var power = power.powerOf2(32);\n",
    "        document.getElementById('result').innerText = \"The message from blockchain: \" + power;\n",
    "        document.getElementById('web3coinbase').innerText = 'coinbase: ' + web3.eth.coinbase;\n",
    "    }\n",
    "</script>\n",
    "</head>\n",
    "<body>\n",
    "    <h1>Math.powerOf2</h1>\n",
    "    <button type=\"button\" onClick=\"displaypowerOf2();\">Display PowerOf2</button>\n",
    "    <div></div>\n",
    "    <div id=\"result\"></div>\n",
    "    <div id=\"web3coinbase\"></div>\n",
    "</body>\n",
    "</html>"
   ]
  },
  {
   "cell_type": "code",
   "execution_count": null,
   "metadata": {},
   "outputs": [],
   "source": []
  }
 ],
 "metadata": {
  "kernelspec": {
   "display_name": "Python 3",
   "language": "python",
   "name": "python3"
  },
  "language_info": {
   "codemirror_mode": {
    "name": "ipython",
    "version": 3
   },
   "file_extension": ".py",
   "mimetype": "text/x-python",
   "name": "python",
   "nbconvert_exporter": "python",
   "pygments_lexer": "ipython3",
   "version": "3.7.6"
  }
 },
 "nbformat": 4,
 "nbformat_minor": 4
}
