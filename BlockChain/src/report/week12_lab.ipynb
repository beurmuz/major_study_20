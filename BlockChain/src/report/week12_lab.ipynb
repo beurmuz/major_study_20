{
 "cells": [
  {
   "cell_type": "markdown",
   "metadata": {},
   "source": [
    "## 연습문제 Multiply7\n",
    "\n",
    "\n",
    "앞서 Multiply7을 구현해 보았다.\n",
    "이 컨트랙에 이벤트를 추가해서 구현해보자.\n",
    "geth 또는 ganache 가운데 어느 것이나 선택해서 실행해도 좋다.\n",
    "아래 주어진 미완성 코드를 구현해서 노드에서 이벤트를 띄워보자.\n",
    "\n",
    "\n",
    "* 함수는 param4인자를 받아서 곱하기 7 연산을 한다. 8과 16의 연산을 실행하자. 그 결과는 56과 112가 출력될 것이다.\n",
    "* 이벤트로 넘겨주는 매개변수 param1은 누가 이 함수를 호출했는지 (address), param2는 언제 호출되었는지 (timestamp), 마지막으로 param3는 연산결과를 출력하도록 한다.\n",
    "\n",
    "* 미완성 코드\n",
    "\n",
    "contract Multiply7Event {\n",
    "\n",
    "    event Print(param1, param2, param3);\n",
    "\n",
    "    function multiply(param4)"
   ]
  },
  {
   "cell_type": "markdown",
   "metadata": {},
   "source": [
    "### 1단계 : 컨트랙 개발"
   ]
  },
  {
   "cell_type": "code",
   "execution_count": 3,
   "metadata": {},
   "outputs": [
    {
     "name": "stdout",
     "output_type": "stream",
     "text": [
      "Overwriting src/Multiply7Event.sol\n"
     ]
    }
   ],
   "source": [
    "%%writefile src/Multiply7Event.sol\n",
    "\n",
    "pragma solidity ^0.5.0;\n",
    "\n",
    "contract Multiply7Event{\n",
    "        event Print(\n",
    "        address indexed param1,//param1, who paged?\n",
    "        uint param2,//uint256 timestamp,//param2, when print?\n",
    "        uint param3//param3, operate result\n",
    "    );\n",
    "    function multiply (uint param4) public{ //param4, and multi7\n",
    "        emit Print(msg.sender, now, 7*param4);\n",
    "        //return (input*7);\n",
    "    }\n",
    "}"
   ]
  },
  {
   "cell_type": "markdown",
   "metadata": {},
   "source": [
    "### 2단계 : 컴파일"
   ]
  },
  {
   "cell_type": "code",
   "execution_count": 4,
   "metadata": {
    "scrolled": false
   },
   "outputs": [
    {
     "name": "stdout",
     "output_type": "stream",
     "text": [
      "\n",
      "======= src/Multiply7Event.sol:Multiply7Event =======\n",
      "Gas estimation:\n",
      "construction:\n",
      "   99 + 46600 = 46699\n",
      "external:\n",
      "   multiply(uint256):\t1942\n",
      "Binary:\n",
      "6080604052348015600f57600080fd5b5060e98061001e6000396000f3fe6080604052348015600f57600080fd5b506004361060285760003560e01c8063c6888fa114602d575b600080fd5b605660048036036020811015604157600080fd5b81019080803590602001909291905050506058565b005b3373ffffffffffffffffffffffffffffffffffffffff167f91da4985ab616136202f4e81fd2d8cac1eb12591132d609cece407f7c6fb92054283600702604051808381526020018281526020019250505060405180910390a25056fea265627a7a72315820aaad7155218d1ee10efe9a7e130d71151dda2dca5a50112684a20002454a900f64736f6c63430005100032\n",
      "Contract JSON ABI\n",
      "[{\"anonymous\":false,\"inputs\":[{\"indexed\":true,\"internalType\":\"address\",\"name\":\"param1\",\"type\":\"address\"},{\"indexed\":false,\"internalType\":\"uint256\",\"name\":\"param2\",\"type\":\"uint256\"},{\"indexed\":false,\"internalType\":\"uint256\",\"name\":\"param3\",\"type\":\"uint256\"}],\"name\":\"Print\",\"type\":\"event\"},{\"constant\":false,\"inputs\":[{\"internalType\":\"uint256\",\"name\":\"param4\",\"type\":\"uint256\"}],\"name\":\"multiply\",\"outputs\":[],\"payable\":false,\"stateMutability\":\"nonpayable\",\"type\":\"function\"}]\n"
     ]
    }
   ],
   "source": [
    "!solc --abi --gas --bin src/Multiply7Event.sol"
   ]
  },
  {
   "cell_type": "markdown",
   "metadata": {},
   "source": [
    "### 3단계 : 배포"
   ]
  },
  {
   "cell_type": "code",
   "execution_count": 17,
   "metadata": {},
   "outputs": [
    {
     "name": "stdout",
     "output_type": "stream",
     "text": [
      "Overwriting src/Multiply7EventDeploy.js\n"
     ]
    }
   ],
   "source": [
    "%%writefile src/Multiply7EventDeploy.js\n",
    "var Web3=require('web3');\n",
    "var web3 = new Web3(new Web3.providers.HttpProvider(\"http://127.0.0.1:8345\"));\n",
    "var _abiArray=[{\"anonymous\":false,\"inputs\":[{\"indexed\":true,\"internalType\":\"address\",\"name\":\"param1\",\"type\":\"address\"},{\"indexed\":false,\"internalType\":\"uint256\",\"name\":\"param2\",\"type\":\"uint256\"},{\"indexed\":false,\"internalType\":\"uint256\",\"name\":\"param3\",\"type\":\"uint256\"}],\"name\":\"Print\",\"type\":\"event\"},{\"constant\":false,\"inputs\":[{\"internalType\":\"uint256\",\"name\":\"param4\",\"type\":\"uint256\"}],\"name\":\"multiply\",\"outputs\":[],\"payable\":false,\"stateMutability\":\"nonpayable\",\"type\":\"function\"}];\n",
    "//var _abiArray=JSON.parse(_abiStr);\n",
    "var _bin=\"0x\" + \"6080604052348015600f57600080fd5b5060e98061001e6000396000f3fe6080604052348015600f57600080fd5b506004361060285760003560e01c8063c6888fa114602d575b600080fd5b605660048036036020811015604157600080fd5b81019080803590602001909291905050506058565b005b3373ffffffffffffffffffffffffffffffffffffffff167f91da4985ab616136202f4e81fd2d8cac1eb12591132d609cece407f7c6fb92054283600702604051808381526020018281526020019250505060405180910390a25056fea265627a7a72315820aaad7155218d1ee10efe9a7e130d71151dda2dca5a50112684a20002454a900f64736f6c63430005100032\";\n",
    "//unlock the account with a password provided\n",
    "//web3.personal.unlockAccount(web3.eth.accounts[0],'password');\n",
    "async function deploy() {\n",
    "    const accounts = await web3.eth.getAccounts();\n",
    "    console.log(\"Deploying the contract from \" + accounts[0]);\n",
    "    var deployed = await new web3.eth.Contract(_abiArray)\n",
    "        .deploy({data: _bin})\n",
    "        .send({from: accounts[0], gas: 364124, gasPrice: '1000000000'}, function(err, transactionHash) {\n",
    "                if(!err) console.log(\"hash: \" + transactionHash); \n",
    "        })\n",
    "        //.then(function(newContractInstance) {\n",
    "        //    console.log(newContractInstance.options.address)\n",
    "        //});\n",
    "    console.log(\"---> The contract deployed to: \" + deployed.options.address)\n",
    "}\n",
    "deploy()"
   ]
  },
  {
   "cell_type": "code",
   "execution_count": 38,
   "metadata": {},
   "outputs": [
    {
     "name": "stdout",
     "output_type": "stream",
     "text": [
      "Deploying the contract from 0x291540Bf30130879CeAd669e725490e245Cc0FD2\n",
      "hash: 0xa4c287ef02fbece2c83a9aab9f057e28481c5b4c3569549cc5a7e686e4dbe7d7\n",
      "---> The contract deployed to: 0x1989D04c0D6D49Ca265bF47a2b69589148fa1553\n"
     ]
    }
   ],
   "source": [
    "!node src/Multiply7EventDeploy.js"
   ]
  },
  {
   "cell_type": "markdown",
   "metadata": {},
   "source": [
    "### 4단계 : 사용"
   ]
  },
  {
   "cell_type": "code",
   "execution_count": 39,
   "metadata": {},
   "outputs": [
    {
     "name": "stdout",
     "output_type": "stream",
     "text": [
      "Overwriting src/Multiply7EventUse.js\n"
     ]
    }
   ],
   "source": [
    "%%writefile src/Multiply7EventUse.js\n",
    "// 8과 16을 받는 use파일\n",
    "var Web3=require('web3');\n",
    "var web3;\n",
    "if (typeof web3 !== 'undefined') {\n",
    "    web3 = new Web3(web3.currentProvider);\n",
    "} else {\n",
    "    var web3 = new Web3(new Web3.providers.WebsocketProvider(\"http://127.0.0.1:8345\"));\n",
    "}\n",
    "var _abiArray=[{\"anonymous\":false,\"inputs\":[{\"indexed\":true,\"internalType\":\"address\",\"name\":\"param1\",\"type\":\"address\"},{\"indexed\":false,\"internalType\":\"uint256\",\"name\":\"param2\",\"type\":\"uint256\"},{\"indexed\":false,\"internalType\":\"uint256\",\"name\":\"param3\",\"type\":\"uint256\"}],\"name\":\"Print\",\"type\":\"event\"},{\"constant\":false,\"inputs\":[{\"internalType\":\"uint256\",\"name\":\"param4\",\"type\":\"uint256\"}],\"name\":\"multiply\",\"outputs\":[],\"payable\":false,\"stateMutability\":\"nonpayable\",\"type\":\"function\"}];\n",
    "//var _abiArray=JSON.parse(_abiStr);\n",
    "var _test = new web3.eth.Contract(_abiArray, '0x1989D04c0D6D49Ca265bF47a2b69589148fa1553');\n",
    "var event = _test.events.Print({fromBlock: 0}, function (error, result) {\n",
    "    if (!error) {\n",
    "        //console.log(\"Event fired: \" + JSON.stringify(result) + \"\\n---> \" + JSON.stringify(result.returnValues));\n",
    "        console.log(\"\\nEvent fired: \" + JSON.stringify(result.returnValues));\n",
    "        //process.exit(1);\n",
    "    }\n",
    "});\n",
    "\n",
    "async function doIt() {\n",
    "    const accounts = await web3.eth.getAccounts();\n",
    "    console.log(\"Account: \" + accounts[0]);\n",
    "    const balanceBefore = await web3.eth.getBalance(accounts[0]);\n",
    "    console.log(\"Balance before: \" + balanceBefore);\n",
    "    console.log(\"-----------------------------------------------------------------------------------------------\");\n",
    "    const value1 = await _test.methods.multiply(8)\n",
    "        .send({from: accounts[0], gas: 364124, gasPrice: '1000000000'})\n",
    "        //.then(function(value) {console.log(\"---> MyFunction called \" + JSON.stringify(value1) +\n",
    "        //                               '\\n---> '+ JSON.stringify(value1.events.Print.returnValues));});\n",
    "    console.log(\"---> MyFunction called \" + JSON.stringify(value1) +\n",
    "        '\\n\\n---> '+ JSON.stringify(value1.events.Print.returnValues));\n",
    "    console.log(\"-----------------------------------------------------------------------------------------------\");\n",
    "    const value2 = await _test.methods.multiply(16)\n",
    "        .send({from: accounts[0], gas: 364124, gasPrice: '1000000000'})\n",
    "        //.then(function(value) {console.log(\"---> MyFunction called \" + JSON.stringify(value2) +\n",
    "        //                               '\\n---> '+ JSON.stringify(value2.events.Print.returnValues));});\n",
    "    console.log(\"---> MyFunction called \" + JSON.stringify(value2) +\n",
    "        '\\n\\n---> '+ JSON.stringify(value2.events.Print.returnValues));\n",
    "    \n",
    "    console.log(\"-----------------------------------------------------------------------------------------------\");\n",
    "    const balanceAfter = await web3.eth.getBalance(accounts[0]);\n",
    "    console.log(\"Balance after: \" + balanceAfter);\n",
    "    console.log(\"Balance diff: \" + (balanceBefore - balanceAfter));\n",
    "}\n",
    "\n",
    "doIt()"
   ]
  },
  {
   "cell_type": "code",
   "execution_count": 40,
   "metadata": {},
   "outputs": [
    {
     "name": "stdout",
     "output_type": "stream",
     "text": [
      "Account: 0x291540Bf30130879CeAd669e725490e245Cc0FD2\n",
      "Balance before: 99999896237000000000\n",
      "-----------------------------------------------------------------------------------------------\n",
      "\n",
      "Event fired: {\"0\":\"0x291540Bf30130879CeAd669e725490e245Cc0FD2\",\"1\":\"1591440354\",\"2\":\"56\",\"param1\":\"0x291540Bf30130879CeAd669e725490e245Cc0FD2\",\"param2\":\"1591440354\",\"param3\":\"56\"}\n",
      "---> MyFunction called {\"transactionHash\":\"0x3938afb5cd22e74f5af83eaf88173f9a616af6c3f58b9b45110d7961f140cb51\",\"transactionIndex\":0,\"blockHash\":\"0x50462907a5695f44e1b7380e5e6310e6c2c2ba16caef9eac1c79524cce63301f\",\"blockNumber\":2,\"from\":\"0x291540bf30130879cead669e725490e245cc0fd2\",\"to\":\"0x1989d04c0d6d49ca265bf47a2b69589148fa1553\",\"gasUsed\":23146,\"cumulativeGasUsed\":23146,\"contractAddress\":null,\"status\":true,\"logsBloom\":\"0x00000000000000000000000000000000400000000000000000000000000000000000000000000000000000000000201000000000000000000000000100000000000000000000010000000000000000000000000000000000000000000000000000000000000000000000000000000000000000000000000000000000000000000000000000000000000000000000000002000000000000000000000000000000000000080000000000000000000000000000000000000000000000000004000000000000000000000000000000000000000002000000000000000000000000000000000000000000000000000000000000000000000000000000000000000000\",\"events\":{\"Print\":{\"logIndex\":0,\"transactionIndex\":0,\"transactionHash\":\"0x3938afb5cd22e74f5af83eaf88173f9a616af6c3f58b9b45110d7961f140cb51\",\"blockHash\":\"0x50462907a5695f44e1b7380e5e6310e6c2c2ba16caef9eac1c79524cce63301f\",\"blockNumber\":2,\"address\":\"0x1989D04c0D6D49Ca265bF47a2b69589148fa1553\",\"type\":\"mined\",\"id\":\"log_2ee32df6\",\"returnValues\":{\"0\":\"0x291540Bf30130879CeAd669e725490e245Cc0FD2\",\"1\":\"1591440354\",\"2\":\"56\",\"param1\":\"0x291540Bf30130879CeAd669e725490e245Cc0FD2\",\"param2\":\"1591440354\",\"param3\":\"56\"},\"event\":\"Print\",\"signature\":\"0x91da4985ab616136202f4e81fd2d8cac1eb12591132d609cece407f7c6fb9205\",\"raw\":{\"data\":\"0x000000000000000000000000000000000000000000000000000000005edb73e20000000000000000000000000000000000000000000000000000000000000038\",\"topics\":[\"0x91da4985ab616136202f4e81fd2d8cac1eb12591132d609cece407f7c6fb9205\",\"0x000000000000000000000000291540bf30130879cead669e725490e245cc0fd2\"]}}}}\n",
      "\n",
      "---> {\"0\":\"0x291540Bf30130879CeAd669e725490e245Cc0FD2\",\"1\":\"1591440354\",\"2\":\"56\",\"param1\":\"0x291540Bf30130879CeAd669e725490e245Cc0FD2\",\"param2\":\"1591440354\",\"param3\":\"56\"}\n",
      "-----------------------------------------------------------------------------------------------\n",
      "\n",
      "Event fired: {\"0\":\"0x291540Bf30130879CeAd669e725490e245Cc0FD2\",\"1\":\"1591440354\",\"2\":\"112\",\"param1\":\"0x291540Bf30130879CeAd669e725490e245Cc0FD2\",\"param2\":\"1591440354\",\"param3\":\"112\"}\n",
      "---> MyFunction called {\"transactionHash\":\"0x5a9465803e9dbf3041fd8a25817f6f9a35665ea0259f34e4d08f26b94a490ff7\",\"transactionIndex\":0,\"blockHash\":\"0xbc9669655b39c35a27e888f1500e436da34060b7ff944396eb0ae51ca351b9ed\",\"blockNumber\":3,\"from\":\"0x291540bf30130879cead669e725490e245cc0fd2\",\"to\":\"0x1989d04c0d6d49ca265bf47a2b69589148fa1553\",\"gasUsed\":23146,\"cumulativeGasUsed\":23146,\"contractAddress\":null,\"status\":true,\"logsBloom\":\"0x00000000000000000000000000000000400000000000000000000000000000000000000000000000000000000000201000000000000000000000000100000000000000000000010000000000000000000000000000000000000000000000000000000000000000000000000000000000000000000000000000000000000000000000000000000000000000000000000002000000000000000000000000000000000000080000000000000000000000000000000000000000000000000004000000000000000000000000000000000000000002000000000000000000000000000000000000000000000000000000000000000000000000000000000000000000\",\"events\":{\"Print\":{\"logIndex\":0,\"transactionIndex\":0,\"transactionHash\":\"0x5a9465803e9dbf3041fd8a25817f6f9a35665ea0259f34e4d08f26b94a490ff7\",\"blockHash\":\"0xbc9669655b39c35a27e888f1500e436da34060b7ff944396eb0ae51ca351b9ed\",\"blockNumber\":3,\"address\":\"0x1989D04c0D6D49Ca265bF47a2b69589148fa1553\",\"type\":\"mined\",\"id\":\"log_455d9b63\",\"returnValues\":{\"0\":\"0x291540Bf30130879CeAd669e725490e245Cc0FD2\",\"1\":\"1591440354\",\"2\":\"112\",\"param1\":\"0x291540Bf30130879CeAd669e725490e245Cc0FD2\",\"param2\":\"1591440354\",\"param3\":\"112\"},\"event\":\"Print\",\"signature\":\"0x91da4985ab616136202f4e81fd2d8cac1eb12591132d609cece407f7c6fb9205\",\"raw\":{\"data\":\"0x000000000000000000000000000000000000000000000000000000005edb73e20000000000000000000000000000000000000000000000000000000000000070\",\"topics\":[\"0x91da4985ab616136202f4e81fd2d8cac1eb12591132d609cece407f7c6fb9205\",\"0x000000000000000000000000291540bf30130879cead669e725490e245cc0fd2\"]}}}}\n",
      "\n",
      "---> {\"0\":\"0x291540Bf30130879CeAd669e725490e245Cc0FD2\",\"1\":\"1591440354\",\"2\":\"112\",\"param1\":\"0x291540Bf30130879CeAd669e725490e245Cc0FD2\",\"param2\":\"1591440354\",\"param3\":\"112\"}\n",
      "-----------------------------------------------------------------------------------------------\n",
      "Balance after: 99999849945000000000\n",
      "Balance diff: 46291999997952\n"
     ]
    }
   ],
   "source": [
    "!node src/Multiply7EventUse.js"
   ]
  },
  {
   "cell_type": "code",
   "execution_count": null,
   "metadata": {},
   "outputs": [],
   "source": []
  }
 ],
 "metadata": {
  "kernelspec": {
   "display_name": "Python 3",
   "language": "python",
   "name": "python3"
  },
  "language_info": {
   "codemirror_mode": {
    "name": "ipython",
    "version": 3
   },
   "file_extension": ".py",
   "mimetype": "text/x-python",
   "name": "python",
   "nbconvert_exporter": "python",
   "pygments_lexer": "ipython3",
   "version": "3.7.6"
  }
 },
 "nbformat": 4,
 "nbformat_minor": 4
}
