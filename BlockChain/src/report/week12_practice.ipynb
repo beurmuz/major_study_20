{
 "cells": [
  {
   "cell_type": "markdown",
   "metadata": {},
   "source": [
    "## 실습 : Deposit"
   ]
  },
  {
   "cell_type": "markdown",
   "metadata": {},
   "source": [
    "### 1단계 : 컨트랙 개발"
   ]
  },
  {
   "cell_type": "code",
   "execution_count": 1,
   "metadata": {},
   "outputs": [
    {
     "name": "stdout",
     "output_type": "stream",
     "text": [
      "Writing src/TestDepositEvent.sol\n"
     ]
    }
   ],
   "source": [
    "%%writefile src/TestDepositEvent.sol\n",
    "pragma solidity ^0.5.0;\n",
    "\n",
    "contract TestDepositEvent {\n",
    "    event Deposit(\n",
    "        address indexed _from,\n",
    "        bytes32 indexed _id,\n",
    "        uint _value\n",
    "    );\n",
    "    function deposit(bytes32 _id) public payable {\n",
    "        emit Deposit(msg.sender, _id, msg.value);\n",
    "    }\n",
    "}"
   ]
  },
  {
   "cell_type": "markdown",
   "metadata": {},
   "source": [
    "### 2단계 : 컴파일"
   ]
  },
  {
   "cell_type": "code",
   "execution_count": 2,
   "metadata": {},
   "outputs": [
    {
     "name": "stdout",
     "output_type": "stream",
     "text": [
      "\n",
      "======= src/TestDepositEvent.sol:TestDepositEvent =======\n",
      "Gas estimation:\n",
      "construction:\n",
      "   93 + 42200 = 42293\n",
      "external:\n",
      "   deposit(bytes32):\t2009\n",
      "Binary:\n",
      "6080604052348015600f57600080fd5b5060d38061001e6000396000f3fe608060405260043610601c5760003560e01c8063b214faa5146021575b600080fd5b604a60048036036020811015603557600080fd5b8101908080359060200190929190505050604c565b005b803373ffffffffffffffffffffffffffffffffffffffff167f19dacbf83c5de6658e14cbf7bcae5c15eca2eedecf1c66fbca928e4d351bea0f346040518082815260200191505060405180910390a35056fea265627a7a72315820833791e3a4151485b6afeaf53c7009ed63af7549fc4666b71bf6d4a55940e73564736f6c63430005100032\n",
      "Contract JSON ABI\n",
      "[{\"anonymous\":false,\"inputs\":[{\"indexed\":true,\"internalType\":\"address\",\"name\":\"_from\",\"type\":\"address\"},{\"indexed\":true,\"internalType\":\"bytes32\",\"name\":\"_id\",\"type\":\"bytes32\"},{\"indexed\":false,\"internalType\":\"uint256\",\"name\":\"_value\",\"type\":\"uint256\"}],\"name\":\"Deposit\",\"type\":\"event\"},{\"constant\":false,\"inputs\":[{\"internalType\":\"bytes32\",\"name\":\"_id\",\"type\":\"bytes32\"}],\"name\":\"deposit\",\"outputs\":[],\"payable\":true,\"stateMutability\":\"payable\",\"type\":\"function\"}]\n"
     ]
    }
   ],
   "source": [
    "!solc --abi --bin --gas src/TestDepositEvent.sol"
   ]
  },
  {
   "cell_type": "markdown",
   "metadata": {},
   "source": [
    "### 3단계 : 배포"
   ]
  },
  {
   "cell_type": "code",
   "execution_count": 17,
   "metadata": {},
   "outputs": [
    {
     "name": "stdout",
     "output_type": "stream",
     "text": [
      "Overwriting src/TestDepositEventDeploy.js\n"
     ]
    }
   ],
   "source": [
    "%%writefile src/TestDepositEventDeploy.js\n",
    "var Web3=require('web3');\n",
    "var web3 = new Web3(new Web3.providers.HttpProvider(\"http://127.0.0.1:8345\"));\n",
    "var _abiArray=[{\"anonymous\":false,\"inputs\":[{\"indexed\":true,\"internalType\":\"address\",\"name\":\"_from\",\"type\":\"address\"},{\"indexed\":true,\"internalType\":\"bytes32\",\"name\":\"_id\",\"type\":\"bytes32\"},{\"indexed\":false,\"internalType\":\"uint256\",\"name\":\"_value\",\"type\":\"uint256\"}],\"name\":\"Deposit\",\"type\":\"event\"},{\"constant\":false,\"inputs\":[{\"internalType\":\"bytes32\",\"name\":\"_id\",\"type\":\"bytes32\"}],\"name\":\"deposit\",\"outputs\":[],\"payable\":true,\"stateMutability\":\"payable\",\"type\":\"function\"}];\n",
    "//var _abiArray=JSON.parse(_abiStr);\n",
    "var _bin=\"0x\" + \"6080604052348015600f57600080fd5b5060d38061001e6000396000f3fe608060405260043610601c5760003560e01c8063b214faa5146021575b600080fd5b604a60048036036020811015603557600080fd5b8101908080359060200190929190505050604c565b005b803373ffffffffffffffffffffffffffffffffffffffff167f19dacbf83c5de6658e14cbf7bcae5c15eca2eedecf1c66fbca928e4d351bea0f346040518082815260200191505060405180910390a35056fea265627a7a72315820833791e3a4151485b6afeaf53c7009ed63af7549fc4666b71bf6d4a55940e73564736f6c63430005100032\";\n",
    "//unlock the account with a password provided\n",
    "//web3.personal.unlockAccount(web3.eth.accounts[0],'password');\n",
    "async function deploy() {\n",
    "    const accounts = await web3.eth.getAccounts();\n",
    "    console.log(\"Deploying the contract from \" + accounts[0]);\n",
    "    var deployed = await new web3.eth.Contract(_abiArray)\n",
    "        .deploy({data: _bin})\n",
    "        .send({from: accounts[0], gas: 364124, gasPrice: '1000000000'}, function(err, transactionHash) {\n",
    "                if(!err) console.log(\"hash: \" + transactionHash); \n",
    "        })\n",
    "        //.then(function(newContractInstance) {\n",
    "        //    console.log(newContractInstance.options.address)\n",
    "        //});\n",
    "    console.log(\"---> The contract deployed to: \" + deployed.options.address)\n",
    "}\n",
    "deploy()"
   ]
  },
  {
   "cell_type": "code",
   "execution_count": 13,
   "metadata": {},
   "outputs": [
    {
     "name": "stdout",
     "output_type": "stream",
     "text": [
      "Deploying the contract from 0xe57031CF55DEBdd411CAa043901268201A2E21F7\n",
      "hash: 0x4c0f2f863ed2407ea925963ec5630000bdd79ee2451d96afca849646c75556f5\n",
      "---> The contract deployed to: 0xA051F2C36E16Ec41af3208dE4Db55535cb0E5636\n"
     ]
    }
   ],
   "source": [
    "!node src/TestDepositEventDeploy.js"
   ]
  },
  {
   "cell_type": "code",
   "execution_count": 14,
   "metadata": {},
   "outputs": [
    {
     "name": "stdout",
     "output_type": "stream",
     "text": [
      "{\n",
      "  blockHash: \"0x192bb5d0116a0261c339046048b2a542ffffc392febd6321b8f815a18fae8be7\",\n",
      "  blockNumber: 1,\n",
      "  contractAddress: \"0xa051f2c36e16ec41af3208de4db55535cb0e5636\",\n",
      "  cumulativeGasUsed: 99029,\n",
      "  from: \"0xe57031cf55debdd411caa043901268201a2e21f7\",\n",
      "  gasUsed: 99029,\n",
      "  logs: [],\n",
      "  logsBloom: \"0x00000000000000000000000000000000000000000000000000000000000000000000000000000000000000000000000000000000000000000000000000000000000000000000000000000000000000000000000000000000000000000000000000000000000000000000000000000000000000000000000000000000000000000000000000000000000000000000000000000000000000000000000000000000000000000000000000000000000000000000000000000000000000000000000000000000000000000000000000000000000000000000000000000000000000000000000000000000000000000000000000000000000000000000000000000000\",\n",
      "  status: \"0x1\",\n",
      "  to: null,\n",
      "  transactionHash: \"0x4c0f2f863ed2407ea925963ec5630000bdd79ee2451d96afca849646c75556f5\",\n",
      "  transactionIndex: 0\n",
      "}\n"
     ]
    }
   ],
   "source": [
    "!geth --exec \"eth.getTransactionReceipt('0x4c0f2f863ed2407ea925963ec5630000bdd79ee2451d96afca849646c75556f5');\" attach http://127.0.0.1:8345"
   ]
  },
  {
   "cell_type": "markdown",
   "metadata": {},
   "source": [
    "### 4단계 : 사용"
   ]
  },
  {
   "cell_type": "code",
   "execution_count": 15,
   "metadata": {},
   "outputs": [
    {
     "name": "stdout",
     "output_type": "stream",
     "text": [
      "Overwriting src/TestDepositEventUse.js\n"
     ]
    }
   ],
   "source": [
    "%%writefile src/TestDepositEventUse.js\n",
    "var Web3=require('web3');\n",
    "var web3;\n",
    "if (typeof web3 !== 'undefined') {\n",
    "    web3 = new Web3(web3.currentProvider);\n",
    "} else {\n",
    "    var web3 = new Web3(new Web3.providers.WebsocketProvider(\"http://127.0.0.1:8345\"));\n",
    "}\n",
    "var _abiArray=[{\"anonymous\":false,\"inputs\":[{\"indexed\":true,\"internalType\":\"address\",\"name\":\"_from\",\"type\":\"address\"},{\"indexed\":true,\"internalType\":\"bytes32\",\"name\":\"_id\",\"type\":\"bytes32\"},{\"indexed\":false,\"internalType\":\"uint256\",\"name\":\"_value\",\"type\":\"uint256\"}],\"name\":\"Deposit\",\"type\":\"event\"},{\"inputs\":[{\"internalType\":\"bytes32\",\"name\":\"_id\",\"type\":\"bytes32\"}],\"name\":\"deposit\",\"outputs\":[],\"stateMutability\":\"payable\",\"type\":\"function\"}];\n",
    "//var _abiArray=JSON.parse(_abiStr);\n",
    "var _test = new web3.eth.Contract(_abiArray, '0xA051F2C36E16Ec41af3208dE4Db55535cb0E5636');\n",
    "var event = _test.events.Deposit({fromBlock: 0}, function (error, result) {\n",
    "    if (!error) {\n",
    "        //console.log(\"Event fired: \" + JSON.stringify(result) + \"\\n---> \" + JSON.stringify(result.returnValues));\n",
    "        console.log(\"Event fired: \" + JSON.stringify(result.returnValues));\n",
    "        //process.exit(1);\n",
    "    }\n",
    "});\n",
    "\n",
    "async function doIt() {\n",
    "    const accounts = await web3.eth.getAccounts();\n",
    "    console.log(\"Account: \" + accounts[0]);\n",
    "    const balanceBefore = await web3.eth.getBalance(accounts[0]);\n",
    "    console.log(\"Balance before: \" + balanceBefore);\n",
    "    const value = await _test.methods.deposit(\"0x111\")\n",
    "        .send({from: accounts[0], gas: 364124, gasPrice: '1000000000'})\n",
    "        //.then(function(value) {console.log(\"---> MyFunction called \" + JSON.stringify(value) +\n",
    "        //                               '\\n---> '+ JSON.stringify(value.events.Deposit.returnValues));});\n",
    "    console.log(\"---> MyFunction called \" + JSON.stringify(value) +\n",
    "        '\\n---> '+ JSON.stringify(value.events.Deposit.returnValues));\n",
    "    const balanceAfter = await web3.eth.getBalance(accounts[0]);\n",
    "    console.log(\"Balance after: \" + balanceAfter);\n",
    "    console.log(\"Balance diff: \" + (balanceBefore - balanceAfter));\n",
    "}\n",
    "\n",
    "doIt()"
   ]
  },
  {
   "cell_type": "code",
   "execution_count": 16,
   "metadata": {},
   "outputs": [
    {
     "name": "stdout",
     "output_type": "stream",
     "text": [
      "Account: 0xe57031CF55DEBdd411CAa043901268201A2E21F7\n",
      "Balance before: 99999900971000000000\n",
      "Event fired: {\"0\":\"0xe57031CF55DEBdd411CAa043901268201A2E21F7\",\"1\":\"0x1110000000000000000000000000000000000000000000000000000000000000\",\"2\":\"0\",\"_from\":\"0xe57031CF55DEBdd411CAa043901268201A2E21F7\",\"_id\":\"0x1110000000000000000000000000000000000000000000000000000000000000\",\"_value\":\"0\"}\n",
      "---> MyFunction called {\"transactionHash\":\"0xc14700a7d4ea4d61ef5264f4f5eca2e08d9be5372153261af9b5a3055f1ff552\",\"transactionIndex\":0,\"blockHash\":\"0xd6adf6c929d523ea21c155a695f1a23b3732c9b8cdc58df50f322e45f5533195\",\"blockNumber\":2,\"from\":\"0xe57031cf55debdd411caa043901268201a2e21f7\",\"to\":\"0xa051f2c36e16ec41af3208de4db55535cb0e5636\",\"gasUsed\":23225,\"cumulativeGasUsed\":23225,\"contractAddress\":null,\"status\":true,\"logsBloom\":\"0x00000000000000000000000000000000000004000000000000000000000000000000000000000000000000000000000000000000000000000000000000000000000100000000000000000000000000000000000000000000000000000020000000000000000000000000000000000000000000000000000000040000000000000000000000000000000000000000000002000000000000000000000004000000000000001000000000000000000001000000000000080000000000001000000000000000004000000000000000000000000000000000000000000000000000000000000000000000000000000000000000000000000000002000000000000000\",\"events\":{\"Deposit\":{\"logIndex\":0,\"transactionIndex\":0,\"transactionHash\":\"0xc14700a7d4ea4d61ef5264f4f5eca2e08d9be5372153261af9b5a3055f1ff552\",\"blockHash\":\"0xd6adf6c929d523ea21c155a695f1a23b3732c9b8cdc58df50f322e45f5533195\",\"blockNumber\":2,\"address\":\"0xA051F2C36E16Ec41af3208dE4Db55535cb0E5636\",\"type\":\"mined\",\"id\":\"log_f834ac96\",\"returnValues\":{\"0\":\"0xe57031CF55DEBdd411CAa043901268201A2E21F7\",\"1\":\"0x1110000000000000000000000000000000000000000000000000000000000000\",\"2\":\"0\",\"_from\":\"0xe57031CF55DEBdd411CAa043901268201A2E21F7\",\"_id\":\"0x1110000000000000000000000000000000000000000000000000000000000000\",\"_value\":\"0\"},\"event\":\"Deposit\",\"signature\":\"0x19dacbf83c5de6658e14cbf7bcae5c15eca2eedecf1c66fbca928e4d351bea0f\",\"raw\":{\"data\":\"0x0000000000000000000000000000000000000000000000000000000000000000\",\"topics\":[\"0x19dacbf83c5de6658e14cbf7bcae5c15eca2eedecf1c66fbca928e4d351bea0f\",\"0x000000000000000000000000e57031cf55debdd411caa043901268201a2e21f7\",\"0x1110000000000000000000000000000000000000000000000000000000000000\"]}}}}\n",
      "---> {\"0\":\"0xe57031CF55DEBdd411CAa043901268201A2E21F7\",\"1\":\"0x1110000000000000000000000000000000000000000000000000000000000000\",\"2\":\"0\",\"_from\":\"0xe57031CF55DEBdd411CAa043901268201A2E21F7\",\"_id\":\"0x1110000000000000000000000000000000000000000000000000000000000000\",\"_value\":\"0\"}\n",
      "Balance after: 99999877746000000000\n",
      "Balance diff: 23225000001536\n"
     ]
    }
   ],
   "source": [
    "!node src/TestDepositEventUse.js"
   ]
  },
  {
   "cell_type": "code",
   "execution_count": null,
   "metadata": {},
   "outputs": [],
   "source": []
  }
 ],
 "metadata": {
  "kernelspec": {
   "display_name": "Python 3",
   "language": "python",
   "name": "python3"
  },
  "language_info": {
   "codemirror_mode": {
    "name": "ipython",
    "version": 3
   },
   "file_extension": ".py",
   "mimetype": "text/x-python",
   "name": "python",
   "nbconvert_exporter": "python",
   "pygments_lexer": "ipython3",
   "version": "3.7.6"
  }
 },
 "nbformat": 4,
 "nbformat_minor": 4
}
