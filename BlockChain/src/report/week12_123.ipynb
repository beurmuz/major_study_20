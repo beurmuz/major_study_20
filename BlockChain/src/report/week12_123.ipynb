{
 "cells": [
  {
   "cell_type": "markdown",
   "metadata": {},
   "source": [
    "## 1번째 강의"
   ]
  },
  {
   "cell_type": "markdown",
   "metadata": {},
   "source": [
    "## solidity 함수\n",
    "\n",
    "함수는 built-in(제공되는) 함수와 user-defined(사용자가 정의하는) 함수가 있다. \n",
    "\n",
    "- 함수의 선언방법\n",
    "\n",
    "> function (parameter types) {internal | external} [pure | view | payable] [returns (return types)] varName;\n",
    "\n",
    "1. 생성자 constructor() \n",
    "생성자는 컨트랙의 객체를 생성함. 소유자가 누구인지를 설정할 때나, 처음에 설정이 필요한 변수를 초기화할 경우 사용한다. (단, 객체를 만들 때 마다 매번 초기화 되는 게 아니다.) 최초의 한번만 초기화가 된다.\n",
    "\n",
    "- 생성자는 구현하지 않아도 된다. 그럴 땐 기본 생성자가 주어진다.\n",
    "- 생성자는 단 1개만 허용된다. overloading(함수이름은 동일하나 인자만 다른 함수)가 불가능하다. \n",
    "- 보통 public으로 선언하고, 함수 내에서만 쓰려면 internal로 정의해준다.\n",
    "> contructor() public{}\n",
    "\n",
    "2. view와 pure함수\n",
    "상태를 변경하지 않는 함수는 view나 pure로 표기한다. 이는 local에서만 실행되는 것이므로 블록체인의 transactions이 일어나지 않는다. view는 read only 함수이다.\n",
    "\n",
    "pure는 제약이 많다. 함수 내에서 지역변수만을 쓰고, 수정 불가능하고, 읽지도 않는 경우에 쓴다. \n",
    "\n",
    "⇒ view나 pure가 아닌 경우에는 transactoin에 무엇인가를 한다는 것.\n",
    "이때에는 반환값이 없고, transaction 해시를 반환하게 된다.\n",
    "만약 반환값을 이용해서 무엇인가를 하고 싶다면 event를 통해 남겨진 값을 로그에서 확인해다 써야한다.\n",
    "\n",
    "pure가 할 수 없는 것\n",
    "- 상태변수 state variables를 읽거나\n",
    "- 컨트랙의 잔고를 확인할 때 this.balance 같은 것\n",
    "- 전역변수 block, tx, msg를 읽는 경우\n",
    "- pure로 표기되지 않는 함수 호출 시\n",
    "- opcodes로 작성된 경우\n",
    "\n",
    "view를 사용할 수 없는 경우\n",
    "- view는 읽는 것이다. 때문에 상태 변수에 저장하는 것\n",
    "- event가 발생하는 경우(로그에 쓰는 것이므로 안됨)\n",
    "- 다른 컨트랙 생성 및 삭제 시에도 불가\n",
    "- call함수로 송금 시\n",
    "- view or pure가 아닌 함수를 호출하는 경우\n",
    "- 어셈블리 코드(opcodes)로 작성된 코드\n",
    "\n",
    "블록체인에 무엇인가를 쓰는 함수\n",
    "- send(), transfer(), callValue()\n",
    "\n",
    "\n",
    "payable 함수 \n",
    ": wei든 Ether든 입출금하는 경우에 사용된다. \n",
    "web3를 호출하는 측에서 {value:0}에 ether를 입력하면 msg.value로 전달된다. 컨트랙에서 호출하는 경우는 value()를 쓴다. \n",
    "\n",
    "금액을 적을 때에는 반드시 payable함수를 이용해야한다. 컨트랙 호출 시에는 call과 value를 이용해서 괄호 안에 금액을 적어준다.\n",
    "\n",
    "\n",
    "가시성\n",
    ": public, internal, private, external\n",
    "public은 외부에서 누구나 사용이 가능하다.\n",
    "internal은 블록체인 내부에서 쓰이거나 상속관계에서 쓰임\n",
    "private은 자신만 사용 가능함.\n",
    "external은 외부에서만 사용할 수 있음.\n",
    "\n",
    "함수 배치시 순서 유의하기\n",
    ": 생성자 / fallback / external / public / internal / private"
   ]
  },
  {
   "cell_type": "markdown",
   "metadata": {},
   "source": [
    "## modifier\n",
    "함수의 제약조건으로, 어떤 함수가 실행되려면 만족해야 하는 조건을 modifier로 정할 수 있다. "
   ]
  },
  {
   "cell_type": "markdown",
   "metadata": {},
   "source": [
    "## 2번째 강의 \n",
    "BankV3 스마트 컨트랙을 만들고,배포, 사용해보기"
   ]
  },
  {
   "cell_type": "markdown",
   "metadata": {},
   "source": [
    "### 1단계 : 컨트랙 개발"
   ]
  },
  {
   "cell_type": "code",
   "execution_count": 1,
   "metadata": {},
   "outputs": [
    {
     "name": "stdout",
     "output_type": "stream",
     "text": [
      "Writing src/BankV3.sol\n"
     ]
    }
   ],
   "source": [
    "%%writefile src/BankV3.sol\n",
    "\n",
    "pragma solidity ^0.5.0;\n",
    "\n",
    "contract BankV3 {\n",
    "    address owner;\n",
    "    uint balance; //contract의 잔고를 추적하기 위해서 쓰임\n",
    "    uint256 timeToDeposit; //10초 흘러가는지 확인하기 위한 변수\n",
    "    \n",
    "    event PrintLog(string); //event\n",
    "    event Sent(address from, address to, uint amount);\n",
    "    constructor() public {\n",
    "        owner = msg.sender; //초기화를 메세지를 전송하는 주소로 설정(전역변수)\n",
    "        balance = 0; //초기값\n",
    "    }\n",
    "    function() external { //fallback,호출 했는데 해당하는 함수가 없을 경우 실행됨\n",
    "        emit PrintLog(\"Fallback called\");\n",
    "    }\n",
    "    function forwardTo(address payable _receiver) public payable onlyOwner { //인자는 받는 사람, 실행은 owner일 경우에만 하도록 modifier 1설정\n",
    "        _receiver.transfer(msg.value);//receiver로 msg.value만큼 전송\n",
    "        emit Sent(msg.sender, _receiver, msg.value); //forawrdTo(계좌이체)가 일어났을 땐 Sent라는 event를 발생시킴\n",
    "        \n",
    "    }\n",
    "    function getBalance() public view returns(uint, uint) { //잔고를 읽는 함수 \n",
    "        return (balance, address(this).balance); //두개의 잔고 반환 수동으로 추적하는 balance와, 자동으로 추적하는 this.balance\n",
    "    }\n",
    "    \n",
    "    /*금액을 넘겨줘서 deposit하는 경우, 원래는 매개변수가 없어도 value라는 field에 금액을 넣으면 deposit이 됨\n",
    "    매개변수를 비워놔도 되지만, value field와 amount field를 일치시키기 위함*/\n",
    "    function deposit(uint amount) public payable onlyAfter { //modifier 2\n",
    "        timeToDeposit = now + 10 seconds; //10초 지난 것을 여기서 측정함\n",
    "        require(msg.value == amount); //값이 동일한 경우에만 실행됨. 동일하지 않으면 예외 발생\n",
    "        balance += amount; //deposit되면 balance를 추적해야함\n",
    "    }\n",
    "    //전액인출하는 함수\n",
    "    function withdrawAll() public onlyOwner minBalance { //오직 Owner만, 최소 잔액이 있어야만 전액 인출할 수 있음, modifier 3설정 \n",
    "        balance -= address(this).balance; //전체 출금하니 이 금액만큼 잔고에서 제거\n",
    "        msg.sender.transfer(address(this).balance); // 출금\n",
    "    }\n",
    "    modifier onlyOwner {\n",
    "        require(msg.sender == owner); // msg.sender가 owner일때만 한다\n",
    "        _; // 호출하는 소스코드\n",
    "    }\n",
    "    modifier onlyAfter {\n",
    "        require(now >= timeToDeposit); // now가 10초 더한 timeTOdeposit과 크거나 같아야 함\n",
    "        _; // 소스코드가 합쳐지고 나서 실행되도록 함\n",
    "    }\n",
    "    modifier minBalance { // 잔고가 101wei보다 클 경우에만 실행\n",
    "        require(address(this).balance > 101 wei); // 소스코드가 여기에 합쳐지도록 함\n",
    "        _;\n",
    "    }\n",
    "    \n",
    "}"
   ]
  },
  {
   "cell_type": "markdown",
   "metadata": {},
   "source": [
    "### 2단계 : 컴파일"
   ]
  },
  {
   "cell_type": "code",
   "execution_count": 2,
   "metadata": {},
   "outputs": [
    {
     "name": "stdout",
     "output_type": "stream",
     "text": [
      "\n",
      "======= src/BankV3.sol:BankV3 =======\n",
      "Gas estimation:\n",
      "construction:\n",
      "   26125 + 201200 = 227325\n",
      "external:\n",
      "   fallback:\t1790\n",
      "   deposit(uint256):\t41947\n",
      "   forwardTo(address):\tinfinite\n",
      "   getBalance():\t1027\n",
      "   withdrawAll():\tinfinite\n",
      "Binary:\n",
      "608060405234801561001057600080fd5b50336000806101000a81548173ffffffffffffffffffffffffffffffffffffffff021916908373ffffffffffffffffffffffffffffffffffffffff16021790555060006001819055506103ee806100686000396000f3fe60806040526004361061003f5760003560e01c806312065fe0146100b657806327d8ad88146100e8578063853828b61461012c578063b6b55f2514610143575b34801561004b57600080fd5b507f968f0302429ff0e5bd56a45ce3ba1f4fa79f4b822857e438616435f00c3b59fd60405180806020018281038252600f8152602001807f46616c6c6261636b2063616c6c6564000000000000000000000000000000000081525060200191505060405180910390a1005b3480156100c257600080fd5b506100cb610171565b604051808381526020018281526020019250505060405180910390f35b61012a600480360360208110156100fe57600080fd5b81019080803573ffffffffffffffffffffffffffffffffffffffff169060200190929190505050610180565b005b34801561013857600080fd5b506101416102c2565b005b61016f6004803603602081101561015957600080fd5b8101908080359060200190929190505050610381565b005b60008060015447915091509091565b6000809054906101000a900473ffffffffffffffffffffffffffffffffffffffff1673ffffffffffffffffffffffffffffffffffffffff163373ffffffffffffffffffffffffffffffffffffffff16146101d957600080fd5b8073ffffffffffffffffffffffffffffffffffffffff166108fc349081150290604051600060405180830381858888f1935050505015801561021f573d6000803e3d6000fd5b507f3990db2d31862302a685e8086b5755072a6e2b5b780af1ee81ece35ee3cd3345338234604051808473ffffffffffffffffffffffffffffffffffffffff1673ffffffffffffffffffffffffffffffffffffffff1681526020018373ffffffffffffffffffffffffffffffffffffffff1673ffffffffffffffffffffffffffffffffffffffff168152602001828152602001935050505060405180910390a150565b6000809054906101000a900473ffffffffffffffffffffffffffffffffffffffff1673ffffffffffffffffffffffffffffffffffffffff163373ffffffffffffffffffffffffffffffffffffffff161461031b57600080fd5b6065471161032857600080fd5b476001600082825403925050819055503373ffffffffffffffffffffffffffffffffffffffff166108fc479081150290604051600060405180830381858888f1935050505015801561037e573d6000803e3d6000fd5b50565b60025442101561039057600080fd5b600a42016002819055508034146103a657600080fd5b806001600082825401925050819055505056fea265627a7a723158201106f1b5227d80d31f8d10d35fae0849693ef12f217bf379ebfbd69ae67e68c764736f6c63430005100032\n",
      "Contract JSON ABI\n",
      "[{\"inputs\":[],\"payable\":false,\"stateMutability\":\"nonpayable\",\"type\":\"constructor\"},{\"anonymous\":false,\"inputs\":[{\"indexed\":false,\"internalType\":\"string\",\"name\":\"\",\"type\":\"string\"}],\"name\":\"PrintLog\",\"type\":\"event\"},{\"anonymous\":false,\"inputs\":[{\"indexed\":false,\"internalType\":\"address\",\"name\":\"from\",\"type\":\"address\"},{\"indexed\":false,\"internalType\":\"address\",\"name\":\"to\",\"type\":\"address\"},{\"indexed\":false,\"internalType\":\"uint256\",\"name\":\"amount\",\"type\":\"uint256\"}],\"name\":\"Sent\",\"type\":\"event\"},{\"payable\":false,\"stateMutability\":\"nonpayable\",\"type\":\"fallback\"},{\"constant\":false,\"inputs\":[{\"internalType\":\"uint256\",\"name\":\"amount\",\"type\":\"uint256\"}],\"name\":\"deposit\",\"outputs\":[],\"payable\":true,\"stateMutability\":\"payable\",\"type\":\"function\"},{\"constant\":false,\"inputs\":[{\"internalType\":\"address payable\",\"name\":\"_receiver\",\"type\":\"address\"}],\"name\":\"forwardTo\",\"outputs\":[],\"payable\":true,\"stateMutability\":\"payable\",\"type\":\"function\"},{\"constant\":true,\"inputs\":[],\"name\":\"getBalance\",\"outputs\":[{\"internalType\":\"uint256\",\"name\":\"\",\"type\":\"uint256\"},{\"internalType\":\"uint256\",\"name\":\"\",\"type\":\"uint256\"}],\"payable\":false,\"stateMutability\":\"view\",\"type\":\"function\"},{\"constant\":false,\"inputs\":[],\"name\":\"withdrawAll\",\"outputs\":[],\"payable\":false,\"stateMutability\":\"nonpayable\",\"type\":\"function\"}]\n"
     ]
    }
   ],
   "source": [
    "!solc --gas --abi --bin src/BankV3.sol"
   ]
  },
  {
   "cell_type": "markdown",
   "metadata": {},
   "source": [
    "### 3단계 : 컨트랙 배포"
   ]
  },
  {
   "cell_type": "markdown",
   "metadata": {},
   "source": [
    "이번에는 async, await로 변경하여 코드를 작성해보자. 배포 함수를 async function deploy()로 선언한다.\n",
    "우선 deploy()함수를 만들고, 그 안에 계정 구하는 것, await로 계정을 구해서 넣어본다.\n",
    "\n",
    "전송한 후 금액 확인도 await send()함수로 만들어 잔고가 즉각 반영되도록 해보자."
   ]
  },
  {
   "cell_type": "code",
   "execution_count": 4,
   "metadata": {},
   "outputs": [
    {
     "name": "stdout",
     "output_type": "stream",
     "text": [
      "Overwriting src/BankV3Deploy.js\n"
     ]
    }
   ],
   "source": [
    "%%writefile src/BankV3Deploy.js\n",
    "\n",
    "var Web3 = require('web3'); //라이브러리설정\n",
    "var web3 = new Web3(new Web3.providers.HttpProvider(\"http://127.0.0.1:8345\"));\n",
    "//var _abiArray = JSON.parse(_abiStr); //js의 dictionary\n",
    "var _abiArray = [{\"inputs\":[],\"payable\":false,\"stateMutability\":\"nonpayable\",\"type\":\"constructor\"},{\"anonymous\":false,\"inputs\":[{\"indexed\":false,\"internalType\":\"string\",\"name\":\"\",\"type\":\"string\"}],\"name\":\"PrintLog\",\"type\":\"event\"},{\"anonymous\":false,\"inputs\":[{\"indexed\":false,\"internalType\":\"address\",\"name\":\"from\",\"type\":\"address\"},{\"indexed\":false,\"internalType\":\"address\",\"name\":\"to\",\"type\":\"address\"},{\"indexed\":false,\"internalType\":\"uint256\",\"name\":\"amount\",\"type\":\"uint256\"}],\"name\":\"Sent\",\"type\":\"event\"},{\"payable\":false,\"stateMutability\":\"nonpayable\",\"type\":\"fallback\"},{\"constant\":false,\"inputs\":[{\"internalType\":\"uint256\",\"name\":\"amount\",\"type\":\"uint256\"}],\"name\":\"deposit\",\"outputs\":[],\"payable\":true,\"stateMutability\":\"payable\",\"type\":\"function\"},{\"constant\":false,\"inputs\":[{\"internalType\":\"address payable\",\"name\":\"_receiver\",\"type\":\"address\"}],\"name\":\"forwardTo\",\"outputs\":[],\"payable\":true,\"stateMutability\":\"payable\",\"type\":\"function\"},{\"constant\":true,\"inputs\":[],\"name\":\"getBalance\",\"outputs\":[{\"internalType\":\"uint256\",\"name\":\"\",\"type\":\"uint256\"},{\"internalType\":\"uint256\",\"name\":\"\",\"type\":\"uint256\"}],\"payable\":false,\"stateMutability\":\"view\",\"type\":\"function\"},{\"constant\":false,\"inputs\":[],\"name\":\"withdrawAll\",\"outputs\":[],\"payable\":false,\"stateMutability\":\"nonpayable\",\"type\":\"function\"}];\n",
    "//key:value로 이루어진 독특한 notation임\n",
    "var _bin = \"0x\" + \"608060405234801561001057600080fd5b50336000806101000a81548173ffffffffffffffffffffffffffffffffffffffff021916908373ffffffffffffffffffffffffffffffffffffffff16021790555060006001819055506103ee806100686000396000f3fe60806040526004361061003f5760003560e01c806312065fe0146100b657806327d8ad88146100e8578063853828b61461012c578063b6b55f2514610143575b34801561004b57600080fd5b507f968f0302429ff0e5bd56a45ce3ba1f4fa79f4b822857e438616435f00c3b59fd60405180806020018281038252600f8152602001807f46616c6c6261636b2063616c6c6564000000000000000000000000000000000081525060200191505060405180910390a1005b3480156100c257600080fd5b506100cb610171565b604051808381526020018281526020019250505060405180910390f35b61012a600480360360208110156100fe57600080fd5b81019080803573ffffffffffffffffffffffffffffffffffffffff169060200190929190505050610180565b005b34801561013857600080fd5b506101416102c2565b005b61016f6004803603602081101561015957600080fd5b8101908080359060200190929190505050610381565b005b60008060015447915091509091565b6000809054906101000a900473ffffffffffffffffffffffffffffffffffffffff1673ffffffffffffffffffffffffffffffffffffffff163373ffffffffffffffffffffffffffffffffffffffff16146101d957600080fd5b8073ffffffffffffffffffffffffffffffffffffffff166108fc349081150290604051600060405180830381858888f1935050505015801561021f573d6000803e3d6000fd5b507f3990db2d31862302a685e8086b5755072a6e2b5b780af1ee81ece35ee3cd3345338234604051808473ffffffffffffffffffffffffffffffffffffffff1673ffffffffffffffffffffffffffffffffffffffff1681526020018373ffffffffffffffffffffffffffffffffffffffff1673ffffffffffffffffffffffffffffffffffffffff168152602001828152602001935050505060405180910390a150565b6000809054906101000a900473ffffffffffffffffffffffffffffffffffffffff1673ffffffffffffffffffffffffffffffffffffffff163373ffffffffffffffffffffffffffffffffffffffff161461031b57600080fd5b6065471161032857600080fd5b476001600082825403925050819055503373ffffffffffffffffffffffffffffffffffffffff166108fc479081150290604051600060405180830381858888f1935050505015801561037e573d6000803e3d6000fd5b50565b60025442101561039057600080fd5b600a42016002819055508034146103a657600080fd5b806001600082825401925050819055505056fea265627a7a723158201106f1b5227d80d31f8d10d35fae0849693ef12f217bf379ebfbd69ae67e68c764736f6c63430005100032\";\n",
    "//binary는 16진수로.\n",
    "//unlock the account with a password provided\n",
    "//web3.personal.unlockAccount(web3.eth.accounts[0],'password');\n",
    "async function deploy() { //async로 선언, 그 안에 promise 반환하는 것을 await해서 결과값을 받아내겠다는 것\n",
    "    const accounts = await web3.eth.getAccounts();\n",
    "    console.log(\"Deploying the contract from \" + accounts[0]); //deploy하고있는 coinbase출력\n",
    "    var deployed = await new web3.eth.Contract(_abiArray)\n",
    "        .deploy({data: _bin}) //blockchain하고, blockchain에 send하는\n",
    "        .send({from: accounts[0], gas: 1000000}, function(err, transactionHash) {\n",
    "                if(!err) console.log(\"hash: \" + transactionHash); \n",
    "        }) //send가 되고나면 결과가 deploy에 들어가도록 함\n",
    "        //.then(function(newContractInstance){\n",
    "        //    console.log(newContractInstance.options.address)\n",
    "        //});\n",
    "    console.log(\"---> The contract deployed to: \" + deployed.options.address) //contract이 어디에 deployed되고있는지 출력\n",
    "}\n",
    "deploy()"
   ]
  },
  {
   "cell_type": "code",
   "execution_count": 5,
   "metadata": {},
   "outputs": [
    {
     "name": "stdout",
     "output_type": "stream",
     "text": [
      "Deploying the contract from 0x850B458BE3986cf87a9ff6b117eA19287A57B93A\n",
      "hash: 0x48444383fe03942c4e96be1e33e8806cf78adec2a3357259a8c35fd20f47b79a\n",
      "---> The contract deployed to: 0x87f92560f0575D55909E719C4a5458Bbf5d0Bcf9\n"
     ]
    }
   ],
   "source": [
    "!node src/BankV3Deploy.js"
   ]
  },
  {
   "cell_type": "markdown",
   "metadata": {},
   "source": [
    "---> The contract deployed to:address는 복사해놓고 사용할 때 써야함."
   ]
  },
  {
   "cell_type": "markdown",
   "metadata": {},
   "source": [
    "### 4단계 : 사용\n",
    "10초 이내 저축, 잔고101보다 적은데 출금 ⇒  설정한 제약조건을 지켜서 실행해야함\n",
    "\n",
    "async방식으로 짜여짐. 블록체인에 send()가 필요한 함수는 비동기적으로 처리하기 위해 await으로 처리함. 비동기적으로 처리하면, 입금 deposit()하고 getBalance()시 잔고에 입금분만큼 반영이 됨"
   ]
  },
  {
   "cell_type": "code",
   "execution_count": 7,
   "metadata": {},
   "outputs": [
    {
     "name": "stdout",
     "output_type": "stream",
     "text": [
      "Overwriting src/BankV3Use.js\n"
     ]
    }
   ],
   "source": [
    "%%writefile src/BankV3Use.js\n",
    "var Web3=require('web3');\n",
    "var web3 = new Web3(new Web3.providers.HttpProvider(\"http://127.0.0.1:8345\"));\n",
    "var _abiArray = [{\"inputs\":[],\"payable\":false,\"stateMutability\":\"nonpayable\",\"type\":\"constructor\"},{\"anonymous\":false,\"inputs\":[{\"indexed\":false,\"internalType\":\"string\",\"name\":\"\",\"type\":\"string\"}],\"name\":\"PrintLog\",\"type\":\"event\"},{\"anonymous\":false,\"inputs\":[{\"indexed\":false,\"internalType\":\"address\",\"name\":\"from\",\"type\":\"address\"},{\"indexed\":false,\"internalType\":\"address\",\"name\":\"to\",\"type\":\"address\"},{\"indexed\":false,\"internalType\":\"uint256\",\"name\":\"amount\",\"type\":\"uint256\"}],\"name\":\"Sent\",\"type\":\"event\"},{\"payable\":false,\"stateMutability\":\"nonpayable\",\"type\":\"fallback\"},{\"constant\":false,\"inputs\":[{\"internalType\":\"uint256\",\"name\":\"amount\",\"type\":\"uint256\"}],\"name\":\"deposit\",\"outputs\":[],\"payable\":true,\"stateMutability\":\"payable\",\"type\":\"function\"},{\"constant\":false,\"inputs\":[{\"internalType\":\"address payable\",\"name\":\"_receiver\",\"type\":\"address\"}],\"name\":\"forwardTo\",\"outputs\":[],\"payable\":true,\"stateMutability\":\"payable\",\"type\":\"function\"},{\"constant\":true,\"inputs\":[],\"name\":\"getBalance\",\"outputs\":[{\"internalType\":\"uint256\",\"name\":\"\",\"type\":\"uint256\"},{\"internalType\":\"uint256\",\"name\":\"\",\"type\":\"uint256\"}],\"payable\":false,\"stateMutability\":\"view\",\"type\":\"function\"},{\"constant\":false,\"inputs\":[],\"name\":\"withdrawAll\",\"outputs\":[],\"payable\":false,\"stateMutability\":\"nonpayable\",\"type\":\"function\"}];\n",
    "var bank = new web3.eth.Contract(_abiArray, \"0x87f92560f0575D55909E719C4a5458Bbf5d0Bcf9\");\n",
    "\n",
    "//event를 생성할 때 만들어주는 코드\n",
    "//var filter = bank.PrintLog(function (error, result) {\n",
    "//  if (!error)\n",
    "//    console.log(result);\n",
    "//});\n",
    "//console.log(bank.sendTo(0x778ea91cb0d0879c22ca20c5aea6fbf8cbeed480, 100,{from:web3.eth.accounts[0],gas:100000}));\n",
    "\n",
    "async function doIt() { //async로 doIt함수를 만들었음\n",
    "    const accounts = await web3.eth.getAccounts();\n",
    "    console.log(\"Account: \" + accounts[0]);\n",
    "    const balanceBefore = await web3.eth.getBalance(accounts[0]);\n",
    "    console.log(\"Balance before: \" + balanceBefore);\n",
    "    bank.methods.getBalance().call().then(console.log); //버전3의 잔고 출력\n",
    "    await bank.methods.deposit(111).send({from: accounts[0], value:111}); //send함수가 있으니 await처리\n",
    "          //deposit의 111은 그냥 아라비아 숫자인 것, value에 적는 111은 내 잔고에서 빠져서 내잔고로 deposit되는 것 즉 컨트랙으로 입금이 되는것\n",
    "          //await로 프로그래밍했기 때문에, 잔고가 반영되어 있을 것 \n",
    "    bank.methods.getBalance().call().then(console.log);\n",
    "    await bank.methods.withdrawAll().send({from: accounts[0]});    //전액인출, greater than 101\n",
    "    bank.methods.getBalance().call().then(console.log);\n",
    "    const balanceAfter = await web3.eth.getBalance(accounts[0]);\n",
    "    console.log(\"Balance after: \" + balanceAfter);\n",
    "    console.log(\"Balance diff: \" + (balanceBefore - balanceAfter));\n",
    "    // '+'가 숫자를 만나면 연산을, 문자열을 만나면 합성을 함\n",
    "}\n",
    "doIt()"
   ]
  },
  {
   "cell_type": "code",
   "execution_count": 8,
   "metadata": {},
   "outputs": [
    {
     "name": "stdout",
     "output_type": "stream",
     "text": [
      "Account: 0x850B458BE3986cf87a9ff6b117eA19287A57B93A\n",
      "Balance before: 99994137180000000000\n",
      "Result { '0': '0', '1': '0' }\n",
      "Result { '0': '111', '1': '111' }\n",
      "Result { '0': '0', '1': '0' }\n",
      "Balance after: 99992464860000000000\n",
      "Balance diff: 1672320000000000\n"
     ]
    }
   ],
   "source": [
    "!node src/BankV3Use.js"
   ]
  },
  {
   "cell_type": "markdown",
   "metadata": {},
   "source": [
    "Result에서 앞의 '0'은 Balance고, '1'은 this.Balance임\n",
    "\n",
    "일치하면 오류가 없는 것.\n",
    "\n",
    "차액은 wei만큼 발생"
   ]
  },
  {
   "cell_type": "markdown",
   "metadata": {},
   "source": [
    "## 3번째 강의\n",
    "## Events와 Logs\n",
    "\n",
    "어떤 함수가 실행되는 경우 이벤트가 발생되는 것으로 함. \n",
    "\n",
    "함수가 호출되고, 함수 내의 emit 명령어로 이벤트가 발생. 그러면 이벤트는 로그에 기록이 되고, 그로부터 이벤트가 인식됨. EVM의 로그 기능을 사용함.\n",
    "\n",
    "로그는 blockchain에 저장된다. 이벤트는 상속이 가능하기에 부모가 정의한 이벤트를 자식이 물려받아 발생시킬 수 있다. \n",
    "\n",
    "- 이벤트 생성방법\n",
    "  - 1. 이벤트 설정. 함수명은 CamelCase로 적어주고, 인자를 넣을 수 있으며, 인자 3개까지 로그에서 인덱스로 사용가능하다. 인자의 해시 값이 ### 로그의 topic ### 으로 출력됨\n",
    "    > event PrintLog()\n",
    "    \n",
    "  - 2. 함수를 호출할 때 이벤트가 발생하도록 연결. 이 연결을 'binding'바인딩이라고 함\n",
    "    > function fireEvent() {\n",
    "         emit PrintLog() \n",
    "       .... }\n",
    "       \n",
    "  - 3. 이벤트 발생을 callback 함수로 Listening함. instance.event.PrintLog(), 인자가 있어도 생략 가능. JavaScript callbacks를 사용하여 이벤트가 호출되는지 리스닝함. 이는 2가지 방법이 있다.\n",
    "        - 이벤트를 생성하고 리스닝하기 - 1) 따로쓰는 방법\n",
    "        \n",
    "        > var myEvent = myInstance.events.PrintLog({from: web3.eth.accounts[0]}, {\n",
    "            fromBlock : 0, //어느 block부터 들을것인지를 명세할 수 있음\n",
    "            toBlock : 'latest'\n",
    "           });\n",
    "        \n",
    "        > myEvent.watch(function (error, result) { //watch도 할 수 있다.\n",
    "            if (!error) {\n",
    "                console.log(\"Event triggered ===> \", result);\n",
    "                process.exit(1);\n",
    "            }\n",
    "          });\n",
    "        \n",
    "        - 이벤트를 생성하고 리스닝하기 - 2) 하나로 합쳐서 쓰는 방법\n",
    "        \n",
    "        > var myEvent = myInstance.events.PrintLog({fromBlock : 0}, \n",
    "          fromfunction(error, event) { //이벤트 명과 옵션을 열어서 block을 줌)\n",
    "              if(!error) //그리고 callback 함수\n",
    "                  console.log(event);\n",
    "          });\n",
    "        \n",
    "  - 4. 함수 호출로 이벤트 발생. 이벤트를 가지고 있는 함수 호출, _instance.MyFunction() or _instance.MyEvent.watch()\n",
    "    > myInstance.fireEvent();\n",
    "    \n",
    "  - 5. 이벤트 watch중지\n",
    "    > myEvent.stopWatching();"
   ]
  },
  {
   "cell_type": "markdown",
   "metadata": {},
   "source": [
    "### 간단한 이벤트 만들기 node, listening 이용하기\n",
    "\n",
    "### 1단계 : 컨트랙 개발"
   ]
  },
  {
   "cell_type": "code",
   "execution_count": 15,
   "metadata": {},
   "outputs": [
    {
     "name": "stdout",
     "output_type": "stream",
     "text": [
      "Overwriting src/EventTest.sol\n"
     ]
    }
   ],
   "source": [
    "%%writefile  src/EventTest.sol\n",
    "pragma solidity ^0.6.0;\n",
    "contract EventTest {\n",
    "    event MyLog(string my);\n",
    "    function myFunction() public {//function\n",
    "        emit MyLog(\"Hello World!\"); //event는 emit, 이벤트 명은 MyLog()\n",
    "    } // 결과는 deploy후 로그창에서 디버그를 누르고, log부분을 확인해본다.\n",
    "}"
   ]
  },
  {
   "cell_type": "markdown",
   "metadata": {},
   "source": [
    "### 2단계 : 컴파일"
   ]
  },
  {
   "cell_type": "code",
   "execution_count": 16,
   "metadata": {},
   "outputs": [
    {
     "name": "stdout",
     "output_type": "stream",
     "text": [
      "\n",
      "======= src/EventTest.sol:EventTest =======\n",
      "Gas estimation:\n",
      "construction:\n",
      "   93 + 42600 = 42693\n",
      "external:\n",
      "   myFunction():\t1748\n",
      "Binary:\n",
      "6080604052348015600f57600080fd5b5060d58061001e6000396000f3fe6080604052348015600f57600080fd5b506004361060285760003560e01c8063c3780a3a14602d575b600080fd5b60336035565b005b7f5186edd9beca61d795526ca1f274260b3fc74be3e10e1f02e1be1552e14f137360405180806020018281038252600c8152602001807f48656c6c6f20576f726c6421000000000000000000000000000000000000000081525060200191505060405180910390a156fea26469706673582212207ebc81d2197f982c8d84cdda84be086849eb3d5beaa6ae96a90b729e9e36205764736f6c63430006030033\n",
      "Contract JSON ABI\n",
      "[{\"anonymous\":false,\"inputs\":[{\"indexed\":false,\"internalType\":\"string\",\"name\":\"my\",\"type\":\"string\"}],\"name\":\"MyLog\",\"type\":\"event\"},{\"inputs\":[],\"name\":\"myFunction\",\"outputs\":[],\"stateMutability\":\"nonpayable\",\"type\":\"function\"}]\n"
     ]
    }
   ],
   "source": [
    "!solc --abi --bin --gas src/EventTest.sol"
   ]
  },
  {
   "cell_type": "markdown",
   "metadata": {},
   "source": [
    "### 3단계 : 배포"
   ]
  },
  {
   "cell_type": "code",
   "execution_count": 17,
   "metadata": {},
   "outputs": [
    {
     "name": "stdout",
     "output_type": "stream",
     "text": [
      "Overwriting src/EventTestDeploy.js\n"
     ]
    }
   ],
   "source": [
    "%%writefile src/EventTestDeploy.js\n",
    "\n",
    "var Web3 = require('web3'); //라이브러리 Import\n",
    "var web3 = new Web3(new Web3.providers.HttpProvider(\"http://127.0.0.1:8345\"));\n",
    "//var _abiArray = JSON.parse(_abiStr);\n",
    "var _abiArray=[{\"anonymous\":false,\"inputs\":[{\"indexed\":false,\"internalType\":\"string\",\"name\":\"my\",\"type\":\"string\"}],\"name\":\"MyLog\",\"type\":\"event\"},{\"inputs\":[],\"name\":\"myFunction\",\"outputs\":[],\"stateMutability\":\"nonpayable\",\"type\":\"function\"}];\n",
    "var _bin=\"0x\"+\"6080604052348015600f57600080fd5b5060d58061001e6000396000f3fe6080604052348015600f57600080fd5b506004361060285760003560e01c8063c3780a3a14602d575b600080fd5b60336035565b005b7f5186edd9beca61d795526ca1f274260b3fc74be3e10e1f02e1be1552e14f137360405180806020018281038252600c8152602001807f48656c6c6f20576f726c6421000000000000000000000000000000000000000081525060200191505060405180910390a156fea26469706673582212207ebc81d2197f982c8d84cdda84be086849eb3d5beaa6ae96a90b729e9e36205764736f6c63430006030033\";\n",
    "\n",
    "async function deploy() { //deploy함수 생성\n",
    "    const accounts = await web3.eth.getAccounts();\n",
    "    console.log(\"Deploying the contract from \" + accounts[0]); //배열로 coinbase출력\n",
    "    var deployed = await new web3.eth.Contract(_abiArray)\n",
    "        .deploy({data: _bin}) //deploy하고 blockchain으로 보냄. gas가 사용이 되지 않으면 반환이 됨.\n",
    "        .send({from: accounts[0], gas: 364124, gasPrice: '1000000000'}, function(err, transactionHash) {\n",
    "                if(!err) console.log(\"hash: \" + transactionHash); \n",
    "        })\n",
    "        //.then(function(newContractInstance) {\n",
    "        //    console.log(newContractInstance.options.address)\n",
    "        //});\n",
    "    console.log(\"---> The contract deployed to: \" + deployed.options.address) //디폴로이된 주소 출력\n",
    "}\n",
    "deploy()"
   ]
  },
  {
   "cell_type": "markdown",
   "metadata": {},
   "source": [
    " geth(사설망)에서 배포하려면 계정 암호를 풀고, 마이닝을 해주어야 password or unlock 오류가 발생하지 않는다."
   ]
  },
  {
   "cell_type": "code",
   "execution_count": 18,
   "metadata": {},
   "outputs": [
    {
     "name": "stdout",
     "output_type": "stream",
     "text": [
      "Deploying the contract from 0x8fe93287ea92f1Ae4FbF820F4aB68765cAdcC0E4\n",
      "hash: 0xc4059909ac68e3ca933d923820681e43b6916e6e63153f837ab59033be01dc62\n",
      "---> The contract deployed to: 0x91778E70F909FAE0F1B86Aa6C479d789518F1A25\n"
     ]
    }
   ],
   "source": [
    "!node src/EventTestDeploy.js"
   ]
  },
  {
   "cell_type": "markdown",
   "metadata": {},
   "source": [
    "위에서 주어진 hash값으로 처리결과를 알 수 있다. gas의 사용량, contractAddress도 찾을 수 있다. "
   ]
  },
  {
   "cell_type": "code",
   "execution_count": 21,
   "metadata": {},
   "outputs": [
    {
     "name": "stdout",
     "output_type": "stream",
     "text": [
      "{\n",
      "  blockHash: \"0xd3b4a0c684b9f93090811e42df93489b16f8b477bc3c5f6abb7924557a68c764\",\n",
      "  blockNumber: 1,\n",
      "  contractAddress: \"0xeff184d9d68005d8895c7f1de6e68bf9bb563459\",\n",
      "  cumulativeGasUsed: 99005,\n",
      "  from: \"0xe05147cc72a1cb37cf02c7dfb777184e532f0aa6\",\n",
      "  gasUsed: 99005,\n",
      "  logs: [],\n",
      "  logsBloom: \"0x00000000000000000000000000000000000000000000000000000000000000000000000000000000000000000000000000000000000000000000000000000000000000000000000000000000000000000000000000000000000000000000000000000000000000000000000000000000000000000000000000000000000000000000000000000000000000000000000000000000000000000000000000000000000000000000000000000000000000000000000000000000000000000000000000000000000000000000000000000000000000000000000000000000000000000000000000000000000000000000000000000000000000000000000000000000\",\n",
      "  status: \"0x1\",\n",
      "  to: null,\n",
      "  transactionHash: \"0x15ba0c993eb58531eaf61ed290b3e95ddc0f66388b3cb94ad91acd0281cbb717\",\n",
      "  transactionIndex: 0\n",
      "}\n"
     ]
    }
   ],
   "source": [
    "!geth --exec \"eth.getTransactionReceipt('0x15ba0c993eb58531eaf61ed290b3e95ddc0f66388b3cb94ad91acd0281cbb717');\" attach http://127.0.0.1:8345"
   ]
  },
  {
   "cell_type": "markdown",
   "metadata": {},
   "source": [
    " cumulativeGasUsed: 99005 가 사용된 gas의 비용이다. (바이너리 코드의 값까지도 산정해서 나온 결과값이다.)\n"
   ]
  },
  {
   "cell_type": "markdown",
   "metadata": {},
   "source": [
    "### 4단계 : 사용"
   ]
  },
  {
   "cell_type": "markdown",
   "metadata": {},
   "source": [
    "'''JSON.stringify'''는 Object의 내용을 문자열로 출력함"
   ]
  },
  {
   "cell_type": "code",
   "execution_count": 10,
   "metadata": {},
   "outputs": [
    {
     "name": "stdout",
     "output_type": "stream",
     "text": [
      "Overwriting src/EventTestHttpNoEventFiredUse.js\n"
     ]
    }
   ],
   "source": [
    "%%writefile src/EventTestHttpNoEventFiredUse.js\n",
    "// 이벤트가 출력되지 않는 코드(HttpProvider때문)\n",
    "\n",
    "var Web3=require('web3');\n",
    "var web3 = new Web3(new Web3.providers.HttpProvider(\"http://127.0.0.1:8345\")); \n",
    "//HttpProvider를 하게 되면 event가 fire되지 않음. 이는 안되는 걸 보여주기 위함\n",
    "var _abiArray=[{\"anonymous\":false,\"inputs\":[{\"indexed\":false,\"internalType\":\"string\",\"name\":\"my\",\"type\":\"string\"}],\"name\":\"MyLog\",\"type\":\"event\"},{\"inputs\":[],\"name\":\"myFunction\",\"outputs\":[],\"stateMutability\":\"nonpayable\",\"type\":\"function\"}];\n",
    "var _test = new web3.eth.Contract(_abiArray, '0xe49D9895997E895D897783Bc4661f027CA6A1199');\n",
    "var event = _test.events.MyLog({fromBlock: 0}, function (error, result) {\n",
    "    //callback함수는 error first 구문으로 작성해준다. result는 MyLog를 실행하게되면 나오는 JSON결과가 result로 출력됨. \n",
    "    if (!error) { //이벤트명, 이는 가나슈이니 fromblock이 0부터임.\n",
    "        console.log(\"Event fired: \" + JSON.stringify(result) + \"\\n---> \" + JSON.stringify(result.returnValues));\n",
    "    } //JSON.stringify(result.내용을 출력해서 보게 됨) 뒤에있는 result만 출력해서 봐도 됨. \n",
    "});\n",
    "\n",
    "async function doIt() {\n",
    "    const accounts = await web3.eth.getAccounts();\n",
    "    console.log(\"Account: \" + accounts[0]);\n",
    "    const balanceBefore = await web3.eth.getBalance(accounts[0]);\n",
    "    console.log(\"Balance before: \" + balanceBefore);\n",
    "    const value = await _test.methods.myFunction() \n",
    "    //앞서 만든 인스턴스 이름의 methods.함수이름 적고, 이 함수를 await(비동기 방식으로 실행), 결과를 value를 받음.\n",
    "        .send({from: accounts[0], gas: 364124, gasPrice: '1000000000'})\n",
    "        //.then(function(value) {console.log(\"---> myFunction called \"+JSON.stringify(value)+\n",
    "        //                               '\\n---> '+ JSON.stringify(value.events.MyLog.returnValues));});\n",
    "    console.log(\"---> myFunction called \"+JSON.stringify(value)+ //위의 const value를 받음\n",
    "        '\\n---> '+ JSON.stringify(value.events.MyLog.returnValues)); //하나의 field를.. \n",
    "    const balanceAfter = await web3.eth.getBalance(accounts[0]);\n",
    "    console.log(\"Balance after: \" + balanceAfter);\n",
    "    console.log(\"Balance diff: \" + (balanceBefore - balanceAfter));\n",
    "} //잔고 처리 전 후 빼기 등\n",
    "doIt()"
   ]
  },
  {
   "cell_type": "code",
   "execution_count": 11,
   "metadata": {},
   "outputs": [
    {
     "name": "stdout",
     "output_type": "stream",
     "text": [
      "Account: 0xCd42b098B9Aa8bbc5A6ACe7a938FD31Ae39bC857\n",
      "Balance before: 99999900779000000000\n",
      "---> myFunction called {\"transactionHash\":\"0xff17b6d6b6f98913abb94f9fc48c22344118127623033c570cb42abfa0629b71\",\"transactionIndex\":0,\"blockHash\":\"0x11bf4413775ad0764a53ae2d21bf25ddef82226f87b53b7de3791c93ea07a753\",\"blockNumber\":2,\"from\":\"0xcd42b098b9aa8bbc5a6ace7a938fd31ae39bc857\",\"to\":\"0xe49d9895997e895d897783bc4661f027ca6a1199\",\"gasUsed\":22812,\"cumulativeGasUsed\":22812,\"contractAddress\":null,\"status\":true,\"logsBloom\":\"0x00000000000000000000000000000000000000000000000000000000000000000000000000000000000000000000000000000000000000000000000000000000000001000000000000000000000000000000000000000000000200010000000000000000000000000000000000004000000000000000000000000001000000000000000000000000000000000000000000000000000000000000000000000000000000000000000000000000000000000000000000000000000000000000000000000000000000000000000000000000000000000000000000000000000000000000040000000000000000000000000000000000000000000000000000000000\",\"events\":{\"MyLog\":{\"logIndex\":0,\"transactionIndex\":0,\"transactionHash\":\"0xff17b6d6b6f98913abb94f9fc48c22344118127623033c570cb42abfa0629b71\",\"blockHash\":\"0x11bf4413775ad0764a53ae2d21bf25ddef82226f87b53b7de3791c93ea07a753\",\"blockNumber\":2,\"address\":\"0xe49D9895997E895D897783Bc4661f027CA6A1199\",\"type\":\"mined\",\"id\":\"log_be3a333e\",\"returnValues\":{\"0\":\"Hello World!\",\"my\":\"Hello World!\"},\"event\":\"MyLog\",\"signature\":\"0x5186edd9beca61d795526ca1f274260b3fc74be3e10e1f02e1be1552e14f1373\",\"raw\":{\"data\":\"0x0000000000000000000000000000000000000000000000000000000000000020000000000000000000000000000000000000000000000000000000000000000c48656c6c6f20576f726c64210000000000000000000000000000000000000000\",\"topics\":[\"0x5186edd9beca61d795526ca1f274260b3fc74be3e10e1f02e1be1552e14f1373\"]}}}}\n",
      "---> {\"0\":\"Hello World!\",\"my\":\"Hello World!\"}\n",
      "Balance after: 99999877967000000000\n",
      "Balance diff: 22812000010240\n"
     ]
    }
   ],
   "source": [
    "!node src/EventTestHttpNoEventFiredUse.js"
   ]
  },
  {
   "cell_type": "markdown",
   "metadata": {},
   "source": [
    "이벤트가 출력되지 않는다. 때문에 HttpProvider가 아닌 WebsocketProvide로 변경해서 출력해보자."
   ]
  },
  {
   "cell_type": "markdown",
   "metadata": {},
   "source": [
    "### _abi에 넣어주는 값은 배포시 나온\n",
    "---> The contract deployed to: 0xeFf184d9D68005D8895C7F1dE6e68bf9bb563459 값을 넣어준다."
   ]
  },
  {
   "cell_type": "code",
   "execution_count": 1,
   "metadata": {},
   "outputs": [
    {
     "name": "stdout",
     "output_type": "stream",
     "text": [
      "Overwriting src/EventTestWsUse.js\n"
     ]
    }
   ],
   "source": [
    "%%writefile src/EventTestWsUse.js\n",
    "//websocket으로 변경 후 출력이 되는 코드(week12 원본)\n",
    "\n",
    "var Web3=require('web3');\n",
    "var web3 = new Web3(new Web3.providers.WebsocketProvider(\"http://127.0.0.1:8345\"));\n",
    "var _abiArray=[{\"anonymous\":false,\"inputs\":[{\"indexed\":false,\"internalType\":\"string\",\"name\":\"my\",\"type\":\"string\"}],\"name\":\"MyLog\",\"type\":\"event\"},{\"inputs\":[],\"name\":\"myFunction\",\"outputs\":[],\"stateMutability\":\"nonpayable\",\"type\":\"function\"}];\n",
    "var _test = new web3.eth.Contract(_abiArray, '0xeFf184d9D68005D8895C7F1dE6e68bf9bb563459');\n",
    "var event = _test.events.MyLog({fromBlock: 0}, function (error, result) {\n",
    "    if (!error) {\n",
    "        console.log(\"Event fired: \" + JSON.stringify(result) + \"\\n---> \" + JSON.stringify(result.returnValues));\n",
    "    }\n",
    "});\n",
    "\n",
    "async function doIt() {\n",
    "    const accounts = await web3.eth.getAccounts();\n",
    "    console.log(\"Account: \" + accounts[0]);\n",
    "    const balanceBefore = await web3.eth.getBalance(accounts[0]);\n",
    "    console.log(\"Balance before: \" + balanceBefore);\n",
    "    const value = await _test.methods.myFunction()\n",
    "        .send({from: accounts[0], gas: 364124, gasPrice: '1000000000'})\n",
    "        //.then(function(value) {console.log(\"---> myFunction called \"+JSON.stringify(value)+\n",
    "        //                               '\\n---> '+ JSON.stringify(value.events.MyLog.returnValues));});\n",
    "    console.log(\"---> myFunction called \"+JSON.stringify(value)+\n",
    "        '\\n---> '+ JSON.stringify(value.events.MyLog.returnValues));\n",
    "    const balanceAfter = await web3.eth.getBalance(accounts[0]);\n",
    "    console.log(\"Balance after: \" + balanceAfter);\n",
    "    console.log(\"Balance diff: \" + (balanceBefore - balanceAfter));\n",
    "}\n",
    "doIt()"
   ]
  },
  {
   "cell_type": "markdown",
   "metadata": {},
   "source": [
    "## 파일에 로그쓰기"
   ]
  },
  {
   "cell_type": "code",
   "execution_count": 19,
   "metadata": {},
   "outputs": [
    {
     "name": "stdout",
     "output_type": "stream",
     "text": [
      "Overwriting src/EventTestWsUse.js\n"
     ]
    }
   ],
   "source": [
    "%%writefile src/EventTestWsUse.js\n",
    "//week13 업데이트 내용\n",
    "\n",
    "var Web3=require('web3');\n",
    "var fs=require('fs');\n",
    "var web3 = new Web3(new Web3.providers.WebsocketProvider(\"http://127.0.0.1:8345\"));\n",
    "var _abiArray=[{\"anonymous\":false,\"inputs\":[{\"indexed\":false,\"internalType\":\"string\",\"name\":\"my\",\"type\":\"string\"}],\"name\":\"MyLog\",\"type\":\"event\"},{\"inputs\":[],\"name\":\"myFunction\",\"outputs\":[],\"stateMutability\":\"nonpayable\",\"type\":\"function\"}];\n",
    "\n",
    "async function doIt() {\n",
    "    var _test = new web3.eth.Contract(_abiArray, '0x91778E70F909FAE0F1B86Aa6C479d789518F1A25');\n",
    "    var event = _test.events.MyLog({fromBlock: 0}, function (error, result) {\n",
    "        if (!error) {\n",
    "            log = JSON.stringify(result.returnValues);\n",
    "            console.log(\"Event fired: \" + log);\n",
    "            //fs.writeFile(\"src/EventTestLog.txt\", log, \"utf-8\", function(e)\n",
    "                           {\n",
    "            fs.appendFile(\"src/EventTestLog.txt\", log, \"utf-8\", function(e) {\n",
    "                if(!e) {\n",
    "                    console.log(\">> Writing to file\");\n",
    "                }\n",
    "            });\n",
    "        }\n",
    "    });\n",
    "    const accounts = await web3.eth.getAccounts();\n",
    "    console.log(\"Account: \" + accounts[0]);\n",
    "    const balanceBefore = await web3.eth.getBalance(accounts[0]);\n",
    "    console.log(\"Balance before: \" + balanceBefore);\n",
    "    const value = await _test.methods.myFunction()\n",
    "        .send({from: accounts[0], gas: 364124, gasPrice: '1000000000'})\n",
    "        //.then(function(value) {console.log(\"---> myFunction called \" + JSON.stringify(value.events.MyLog.returnValues));});\n",
    "    console.log(\"---> myFunction called \" + JSON.stringify(value.events.MyLog.returnValues));\n",
    "    const balanceAfter = await web3.eth.getBalance(accounts[0]);\n",
    "    console.log(\"Balance after: \" + balanceAfter);\n",
    "    console.log(\"Balance diff: \" + (balanceBefore - balanceAfter));\n",
    "    process.exit(1);        \n",
    "}\n",
    "\n",
    "doIt()"
   ]
  },
  {
   "cell_type": "code",
   "execution_count": 20,
   "metadata": {},
   "outputs": [
    {
     "name": "stdout",
     "output_type": "stream",
     "text": [
      "Account: 0x8fe93287ea92f1Ae4FbF820F4aB68765cAdcC0E4\n",
      "Balance before: 99999900779000000000\n",
      "Event fired: {\"0\":\"Hello World!\",\"my\":\"Hello World!\"}\n",
      ">> Writing to file\n",
      "---> myFunction called {\"0\":\"Hello World!\",\"my\":\"Hello World!\"}\n",
      "Balance after: 99999877967000000000\n",
      "Balance diff: 22812000010240\n"
     ]
    }
   ],
   "source": [
    "!node src/EventTestWsUse.js"
   ]
  },
  {
   "cell_type": "code",
   "execution_count": 21,
   "metadata": {},
   "outputs": [
    {
     "name": "stdout",
     "output_type": "stream",
     "text": [
      "{\"0\":\"Hello World!\",\"my\":\"Hello World!\"}{\"0\":\"Hello World!\",\"my\":\"Hello World!\"}{\"0\":\"Hello World!\",\"my\":\"Hello World!\"}\n"
     ]
    }
   ],
   "source": [
    "!type C:\\Users\\15Z970-G.AA5BK\\Code\\jsr\\src\\EventTestLog.txt"
   ]
  },
  {
   "cell_type": "markdown",
   "metadata": {},
   "source": [
    "이벤트를 발생할때에는 꼭 Websocket을 이용해야 한다.\n",
    "결과에서 Event가 Fired되고 있고,\n",
    "returnValues만하면 ---> {\"0\":\"Hello World!\",\"my\":\"Hello World!\"}가 나옴을 확인가능\n",
    "\n"
   ]
  },
  {
   "cell_type": "markdown",
   "metadata": {},
   "source": [
    "### week12 lab의 사용 원본 코드이다. 값을 하나만 넣을때에는 이 코드를 사용하면 됨"
   ]
  },
  {
   "cell_type": "code",
   "execution_count": null,
   "metadata": {},
   "outputs": [],
   "source": [
    "%%writefile src/Multiply7EventUse.js \n",
    "//원본\n",
    "var Web3=require('web3');\n",
    "var web3;\n",
    "if (typeof web3 !== 'undefined') {\n",
    "    web3 = new Web3(web3.currentProvider);\n",
    "} else {\n",
    "    var web3 = new Web3(new Web3.providers.WebsocketProvider(\"http://127.0.0.1:8345\"));\n",
    "}\n",
    "var _abiArray=[{\"anonymous\":false,\"inputs\":[{\"indexed\":true,\"internalType\":\"address\",\"name\":\"param1\",\"type\":\"address\"},{\"indexed\":false,\"internalType\":\"uint256\",\"name\":\"param2\",\"type\":\"uint256\"},{\"indexed\":false,\"internalType\":\"uint256\",\"name\":\"param3\",\"type\":\"uint256\"}],\"name\":\"Print\",\"type\":\"event\"},{\"constant\":false,\"inputs\":[{\"internalType\":\"uint256\",\"name\":\"param4\",\"type\":\"uint256\"}],\"name\":\"multiply\",\"outputs\":[],\"payable\":false,\"stateMutability\":\"nonpayable\",\"type\":\"function\"}];\n",
    "//var _abiArray=JSON.parse(_abiStr);\n",
    "var _test = new web3.eth.Contract(_abiArray, '0x1D201B7f94B32B458de40249946ae3D86bf245FB');\n",
    "var event = _test.events.Print({fromBlock: 0}, function (error, result) {\n",
    "    if (!error) {\n",
    "        //console.log(\"Event fired: \" + JSON.stringify(result) + \"\\n---> \" + JSON.stringify(result.returnValues));\n",
    "        console.log(\"Event fired: \" + JSON.stringify(result.returnValues));\n",
    "        //process.exit(1);\n",
    "    }\n",
    "});\n",
    "\n",
    "async function doIt() {\n",
    "    const accounts = await web3.eth.getAccounts();\n",
    "    console.log(\"Account: \" + accounts[0]);\n",
    "    const balanceBefore = await web3.eth.getBalance(accounts[0]);\n",
    "    console.log(\"Balance before: \" + balanceBefore);\n",
    "    const value = await _test.methods.multiply(8)\n",
    "        .send({from: accounts[0], gas: 364124, gasPrice: '1000000000'})\n",
    "        //.then(function(value) {console.log(\"---> MyFunction called \" + JSON.stringify(value) +\n",
    "        //                               '\\n---> '+ JSON.stringify(value.events.Print.returnValues));});\n",
    "    console.log(\"---> MyFunction called \" + JSON.stringify(value) +\n",
    "        '\\n\\n---> '+ JSON.stringify(value.events.Print.returnValues));\n",
    "    const balanceAfter = await web3.eth.getBalance(accounts[0]);\n",
    "    console.log(\"Balance after: \" + balanceAfter);\n",
    "    console.log(\"Balance diff: \" + (balanceBefore - balanceAfter));\n",
    "}\n",
    "\n",
    "doIt()"
   ]
  }
 ],
 "metadata": {
  "kernelspec": {
   "display_name": "Python 3",
   "language": "python",
   "name": "python3"
  },
  "language_info": {
   "codemirror_mode": {
    "name": "ipython",
    "version": 3
   },
   "file_extension": ".py",
   "mimetype": "text/x-python",
   "name": "python",
   "nbconvert_exporter": "python",
   "pygments_lexer": "ipython3",
   "version": "3.7.6"
  }
 },
 "nbformat": 4,
 "nbformat_minor": 4
}
