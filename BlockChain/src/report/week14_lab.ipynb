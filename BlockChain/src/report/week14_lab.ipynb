{
 "cells": [
  {
   "cell_type": "markdown",
   "metadata": {},
   "source": [
    "## 연습문제 - 201810803 장서령\n",
    "\n",
    "주의:\n",
    "\n",
    " - 다른 과제보다 많이 약 10% 배점합니다\n",
    "\n",
    " - 다른 학생과 협력하지 마세요.\n",
    "\n",
    " - 제한시간이 다른 과제에 비해 짧아요 (3.5일)\n",
    "\n",
    "\n",
    "\n",
    "A, B 2인의 가위바위보 후 내기금액을 이긴 사람에게 지급하는 게임을 블록체인에 개발하세요.\n",
    "\n",
    "게임 컨트랙은 Rsp, 구현할 함수는 다음과 같다. 그 외 필요로 하는 함수는 추가할 수 있다.\n",
    "\n",
    "\n",
    "\n",
    "함수 | 설명\n",
    "\n",
    "-----|-----\n",
    "\n",
    "setA | 무작위로 가위, 바위, 보를 생성하고, 설정한다. ```1000 wei```씩 금액을 건다.\n",
    "\n",
    "setB | 외부에서 직접 입력하여 설정한다. ```1000 wei```씩 금액을 건다.\n",
    "\n",
    "play | 가위, 바위, 보의 승패를 정한다.\n",
    "\n",
    "distributeBetAmount | 이긴 측에게 내기 금액을 분배한다. A가 이기면 B의 내기 금액 ```1000 wei```를 가지게 된다.\n",
    "\n",
    "getMatchResult() | \"A wins\", \"B wins\", \"tie\" 결과를 출력\n",
    "\n",
    "\n",
    "\n",
    "노드에서 게임을 다음과 같이 진행하세요.\n",
    "\n",
    "- 게임 전의 A잔고, B잔고, 컨트랙 잔고 출력\n",
    "\n",
    "- A가 내기금액 걸고, 컴퓨터에서 무작위로 선택한 가위바위보\n",
    "\n",
    "- B가 내기금액 걸고, 사용자가 입력한 가위바위보\n",
    "\n",
    "- 승부내기\n",
    "\n",
    "- 누가 이겼는지 출력\n",
    "\n",
    "- 게임 끝나고 A잔고, B잔고, 컨트랙 잔고 출력"
   ]
  },
  {
   "cell_type": "markdown",
   "metadata": {},
   "source": [
    "## 1단계 : 컨트랙 개발"
   ]
  },
  {
   "cell_type": "code",
   "execution_count": 3,
   "metadata": {},
   "outputs": [
    {
     "name": "stdout",
     "output_type": "stream",
     "text": [
      "Overwriting src/Rsp.sol\n"
     ]
    }
   ],
   "source": [
    "%%writefile src/Rsp.sol\n",
    "pragma solidity ^0.5.0;\n",
    "\n",
    "contract Rsp { //32bit짜리 숫자를 생성하는 rand함수 만들기\n",
    "    uint8 randA;\n",
    "    uint8 randB;\n",
    "    uint8 whatresult;\n",
    "    string transresult=\"\";\n",
    "    address owner; //컨트랙 제작자\n",
    "    mapping (address => uint) balanceOf; // 잔고를 저장하는 mapping. 잔고의 key는 address, address의 key는 uint\n",
    "    constructor() public { // 생성자, 누구나 객체를 만들 수 있음\n",
    "        owner = msg.sender;  \n",
    "    }\n",
    "    \n",
    "    //무작위로 가위, 바위, 보를 생성하고, 설정한다. 1000 wei씩 금액을 건다.\n",
    "    function setA(uint amount) payable public {\n",
    "        require(msg.value == amount);\n",
    "        balanceOf[msg.sender] += amount;\n",
    "        randA = uint8(uint256(keccak256(abi.encodePacked(block.timestamp, block.difficulty)))%3);\n",
    "        // 0 : 가위, 1 : 바위, 2 : 보\n",
    "    } \n",
    "\n",
    "    //외부에서 직접 입력하여 설정한다. 1000 wei씩 금액을 건다.\n",
    "    function setB(address addr, uint amount, uint8 _value) payable public {\n",
    "        require(msg.value == amount);\n",
    "        balanceOf[addr] += amount;\n",
    "        randB = _value;\n",
    "    }\n",
    "    \n",
    "    //가위, 바위, 보의 승패를 정한다.\n",
    "    function play() public { //tie = 3, A win = 4, B win = 5\n",
    "        if(randA==0) { //가위\n",
    "            if(randB==0) { //가위\n",
    "                whatresult= 3;\n",
    "            }\n",
    "            else if(randB==1){ //바위\n",
    "                whatresult= 5;\n",
    "            }\n",
    "            else{ //B가 보\n",
    "                whatresult= 4;\n",
    "            }\n",
    "        }\n",
    "        else if(randA == 1) { //바위\n",
    "            if(randB==0) { //가위\n",
    "                whatresult= 4;\n",
    "            }\n",
    "            else if(randB==1) {\n",
    "                whatresult= 3;\n",
    "            }\n",
    "            else {\n",
    "                whatresult= 5;\n",
    "            }\n",
    "        }\n",
    "        else if(randA==2){ //보\n",
    "            if(randB==0){ //가위\n",
    "                whatresult= 5;\n",
    "            }\n",
    "            else if(randB==1){\n",
    "                whatresult= 4;\n",
    "            }\n",
    "            else {\n",
    "                whatresult= 3;\n",
    "            }\n",
    "        }\n",
    "        if(whatresult==3){\n",
    "            transresult = \"tie\";\n",
    "        }\n",
    "        else if(whatresult==4){\n",
    "            transresult = \"A win\";\n",
    "        }\n",
    "        else if(whatresult==5){\n",
    "            transresult = \"B win\";\n",
    "        }\n",
    "    }\n",
    "    \n",
    "    //이긴 측에게 내기 금액을 분배한다. A가 이기면 B의 내기 금액 1000 wei를 가지게 된다.\n",
    "    function distributeBetAmount(address payable receiver) public payable{\n",
    "        if(whatresult==3){ //tie\n",
    "            balanceOf[receiver];\n",
    "            balanceOf[msg.sender];\n",
    "        }\n",
    "        else if(whatresult==4){ //A win\n",
    "            balanceOf[receiver] -= 1000;\n",
    "            balanceOf[msg.sender] += 1000;\n",
    "        }\n",
    "        else if(whatresult==5){ //B win\n",
    "            balanceOf[msg.sender] -= 1000;\n",
    "            balanceOf[receiver] += 1000;\n",
    "        }\n",
    "    }\n",
    "    \n",
    "    // 컨트랙 잔고 확인\n",
    "    function getContract() public view returns(uint){\n",
    "         return (address(this).balance);\n",
    "    }\n",
    "    \n",
    "    //A의 잔고 확인\n",
    "    function getA() public view returns(uint) {\n",
    "        return (balanceOf[owner]); // A의 잔고 출력       \n",
    "    }\n",
    "    \n",
    "    //B의 잔고 확인\n",
    "    function getB(address addr) public view returns(uint) {\n",
    "        return balanceOf[addr]; //B의 계좌 잔고를 읽어옴\n",
    "    }\n",
    "    \n",
    "    //\"A wins\", \"B wins\", \"tie\" 결과를 출력\n",
    "    function getMatchResult()public view returns(string memory) {\n",
    "        return (transresult);\n",
    "    }\n",
    "    \n",
    "    function getwhatresult() public view returns(uint) {\n",
    "        return (whatresult);\n",
    "    }\n",
    "    \n",
    "}"
   ]
  },
  {
   "cell_type": "markdown",
   "metadata": {},
   "source": [
    "## 2단계 : 컴파일"
   ]
  },
  {
   "cell_type": "code",
   "execution_count": 4,
   "metadata": {},
   "outputs": [],
   "source": [
    "!solc src/Rsp.sol --combined-json abi,bin > src/Rsp.json"
   ]
  },
  {
   "cell_type": "markdown",
   "metadata": {},
   "source": [
    "## 3단계 : 배포"
   ]
  },
  {
   "cell_type": "code",
   "execution_count": 5,
   "metadata": {},
   "outputs": [
    {
     "name": "stdout",
     "output_type": "stream",
     "text": [
      "Overwriting src/RspDeploy.js\n"
     ]
    }
   ],
   "source": [
    "%%writefile src/RspDeploy.js\n",
    "var Web3 = require('web3');\n",
    "var web3 = new Web3(new Web3.providers.HttpProvider(\"http://127.0.0.1:8345\"));\n",
    "var fs=require('fs');\n",
    "var _str = fs.readFileSync(\"src/Rsp.json\");\n",
    "var _json = JSON.parse(_str)\n",
    "//var _abiArray = JSON.parse(_json.contracts.sHello2.abi);\n",
    "var _abiArray = JSON.parse(_json.contracts[\"src/Rsp.sol:Rsp\"].abi);\n",
    "//var _bin = _json.contracts.sHello2.bin;\n",
    "var _bin=\"0x\" + _json.contracts[\"src/Rsp.sol:Rsp\"].bin;\n",
    "\n",
    "//unlock the account with a password provided\n",
    "//web3.personal.unlockAccount(web3.eth.accounts[0],'password');\n",
    "async function deploy() {\n",
    "    const accounts = await web3.eth.getAccounts();\n",
    "    console.log(\"Deploying the contract from \" + accounts[0]);\n",
    "\n",
    "    new web3.eth.Contract(_abiArray).deploy({data: _bin}).estimateGas(function(err, gas) {\n",
    "        if(!err) console.log(\">> gas: \"+ gas); //gas를 산정하는 함수를 위에 넣어놓음 \n",
    "    });\n",
    "\n",
    "    var deployed = await new web3.eth.Contract(_abiArray)\n",
    "        .deploy({data: _bin})\n",
    "        .send({from: accounts[0], gas: 791305}, function(err, transactionHash) {\n",
    "                if(!err) console.log(\"hash: \" + transactionHash); \n",
    "        })\n",
    "        //.then(function(newContractInstance){\n",
    "        //    console.log(newContractInstance.options.address)\n",
    "        //});\n",
    "    console.log(\"---> The contract deployed to: \" + deployed.options.address)\n",
    "}\n",
    "\n",
    "deploy()"
   ]
  },
  {
   "cell_type": "code",
   "execution_count": 6,
   "metadata": {},
   "outputs": [
    {
     "name": "stdout",
     "output_type": "stream",
     "text": [
      "Deploying the contract from 0x284b80A9B31d519A9eDE1902eabB0724258d7f64\n",
      ">> gas: 733695\n",
      "hash: 0x55b8ff5e6bddb5761b8e8cf5f8c153ea7286c2d4e096626bf7253e98d30881eb\n",
      "---> The contract deployed to: 0x83Ca6fB049621290ACe825472054FF00eB017998\n"
     ]
    }
   ],
   "source": [
    "!node src/RspDeploy.js"
   ]
  },
  {
   "cell_type": "markdown",
   "metadata": {},
   "source": [
    "## 4단계 : 사용"
   ]
  },
  {
   "cell_type": "code",
   "execution_count": 7,
   "metadata": {},
   "outputs": [
    {
     "name": "stdout",
     "output_type": "stream",
     "text": [
      "Overwriting src/RspUse.js\n"
     ]
    }
   ],
   "source": [
    "%%writefile src/RspUse.js\n",
    "var Web3=require('web3');\n",
    "var web3=new Web3(new Web3.providers.HttpProvider(\"http://127.0.0.1:8345\"));       //ok\n",
    "var fs=require('fs');\n",
    "var _str = fs.readFileSync(\"src/Rsp.json\");\n",
    "var _json = JSON.parse(_str)\n",
    "//var _abiArray = JSON.parse(_json.contracts.sHello2.abi);\n",
    "var _abiArray = JSON.parse(_json.contracts[\"src/Rsp.sol:Rsp\"].abi);\n",
    "\n",
    "async function doIt() {//arr 대신 _rspGame\n",
    "    var _rspGame = new web3.eth.Contract(_abiArray, \"0x83Ca6fB049621290ACe825472054FF00eB017998\");\n",
    "    const accounts = await web3.eth.getAccounts();\n",
    "    console.log(\"<The Init Balance>\"); //A,B,컨트랙 초기잔고 출력 \n",
    "    const Ainit = await _rspGame.methods.getA().call();           \n",
    "    const Binit = await _rspGame.methods.getB(accounts[1]).call(); \n",
    "    const Cinit = await _rspGame.methods.getContract().call();\n",
    "    console.log(\"A : \" + Ainit);\n",
    "    console.log(\"Contract : \" + Cinit);\n",
    "    console.log(\"B : \" + Binit);\n",
    "    console.log(\"setA, setB---------\");\n",
    "    console.log(\"\\n\");\n",
    "    await _rspGame.methods.setA(\"1000\").send({from: accounts[0], gas:135482,value:1000}); //A 가위바위보\n",
    "    await _rspGame.methods.setB(accounts[1],\"1000\",\"1\").send({from: accounts[0], gas:135482,value:1000}); //B 가위바위보\n",
    "    const A = await _rspGame.methods.getA().call();           \n",
    "    const B = await _rspGame.methods.getB(accounts[1]).call(); \n",
    "    const C = await _rspGame.methods.getContract().call();\n",
    "    console.log(\"<The Balance Before The Game>\"); //A,B,컨트랙 게임 전 잔고 출력 \n",
    "    console.log(\"A : \" + A);\n",
    "    //console.log(\"Contract : \" + C);\n",
    "    console.log(\"B : \" + B);\n",
    "    \n",
    "    console.log(\"play----------------\");\n",
    "    await _rspGame.methods.play().send({from: accounts[0], gas:135482}); //승부내기\n",
    "    console.log(\"\\n\");\n",
    "    console.log(\"<The Match Result>\");\n",
    "    const Mresult = await _rspGame.methods.getMatchResult().call();\n",
    "    console.log(\"result is... \" + Mresult); //이긴사람 출력  \n",
    "    const what = await _rspGame.methods.getwhatresult().call();   // \n",
    "    console.log(\"whatresult is \"+what); //                  \n",
    "    console.log(\"send the money-------\"); \n",
    "    await _rspGame.methods.distributeBetAmount(accounts[1]).send({from: accounts[0], gas:135482});\n",
    "    console.log(\"\\n\");\n",
    "                       \n",
    "    console.log(\"<The Last Balance>\");\n",
    "    const AafterBal = await _rspGame.methods.getA().call();\n",
    "    const ContractafterBal = await _rspGame.methods.getB(accounts[1]).call(); \n",
    "    const BafterBal = await _rspGame.methods.getContract().call();\n",
    "    console.log(\"A : \" + AafterBal);\n",
    "    console.log(\"Contract : \" + ContractafterBal);\n",
    "    console.log(\"B : \" + BafterBal);\n",
    "}\n",
    "\n",
    "doIt()"
   ]
  },
  {
   "cell_type": "code",
   "execution_count": 8,
   "metadata": {},
   "outputs": [
    {
     "name": "stdout",
     "output_type": "stream",
     "text": [
      "<The Init Balance>\n",
      "A : 0\n",
      "Contract : 0\n",
      "B : 0\n",
      "setA, setB---------\n",
      "\n",
      "\n",
      "<The Balance Before The Game>\n",
      "A : 1000\n",
      "B : 1000\n",
      "play----------------\n",
      "\n",
      "\n",
      "<The Match Result>\n",
      "result is... tie\n",
      "whatresult is 3\n",
      "send the money-------\n",
      "\n",
      "\n",
      "<The Last Balance>\n",
      "A : 1000\n",
      "Contract : 1000\n",
      "B : 2000\n"
     ]
    }
   ],
   "source": [
    "!node src/RspUse.js"
   ]
  },
  {
   "cell_type": "markdown",
   "metadata": {},
   "source": [
    "####  A와 컨트랙이 다르다고 생각하고 풀었다. 실습했던 Bankv4에 대한 내용이 있는 강의자료를 정독하면서 풀었다. owner의 잔고가 변하는 반면 컨트랙 잔고의 변동은 없다는 표의 내용을 보고 A와 컨트랙이 다르다고 생각했다.\n",
    "\n",
    "3일 내내 geth를 이용해서 문제를 해결하려고 했으나, out of gas와 ABI 문제가 발생한다고 계속 오류가 떠서 결국 가나슈로 과제를 해결했다. geth를 이용하면 배포단계까지는 성공하나, 계속 컨트랙 사용 단계에서 오류가 발생했다. 리믹스 코드를 돌려보며 오류가 있는지 없는지도 확인해보았고, 또 리믹스로 함수를 실행할 때마다 소모된 gas값을 보고 사용 단계에서 js파일을 만들 때 이용하였음에도 불구하고 오류가 해결되지 않았다. 또한 ABI도.. 분명 맞는데, 계속 gas 문제가 발생했다.  솔리리티를 삭제하고 버전도 다운시켜보고 다시 업 시켜보기도 했지만 그것도 안되었고, web3의 버전문제인가 싶어서 web3도 삭제하고 다시 깔아보았지만 해결할 수 없었다.매번 과제를 할 때마다 geth로 해보려고 온갖 노력을 해보지만, 정말 매번 도전해도 해결되지가 않는다. geth로 사용에 성공한 학우들에게 혹시 gas값을 얼마만큼 주었는지 물어보면서 비슷한 금액대로 해보아도 해결할 수가 없었다. gas오류가 떴을 때 어떻게 해결했었냐고도 물어보면 다들 안되다가 갑자기 되었다며.. 정확한 이유를 아는 학우들도 아무도 없었다. \n",
    "\n",
    "\n",
    "교수님, geth로 사용에 성공할 경우 가나슈를 이용해서 과제를 해결한 경우보다 10점을 더 주신다고 말씀하셨는데, 솔직히 많은 배점을 주시는게 아닌가 싶습니다.. 저도 게스로 성공하고 싶고 과제를 할 때마다 매번 솔리디티 버전도 바꾸어보고, 트러플인가 하는 것도 설치해보고 그랬는데도 해결되지 않습니다... geth로 성공한 친구들이 정확한 이유를 알고 geth로 성공시킨 것이라면 말이 다르겠지만, 대부분의 친구들이 갑자기 해결되었다고 말하는데, 추가 배점을 너무 크게 주는 것이 아닌지요..ㅠㅠ 평소 API가 많이 어려워서 그만큼 더 열심히 하려고 노력하는데도 정말 geth 문제는 어떻게 해야할지 잘 모르겠습니다.. 정말 gas값을 엄청 바꿔보아도 해결하지 못했어요.. 교수님께선 게스로 과제를 해결한 친구들이 더 많은 노력을 했으니 점수 배점을 크게 주시겠다고 말씀하셨는데, 가나슈로 과제를 해결한다고 해서 게스로 과제를 해결한 친구들만큼 노력을 하지 않는 게 아닙니다...ㅠㅠㅠㅠ 꼭 알아주셨으면 좋겠어요..ㅠㅠㅠㅠㅠ "
   ]
  },
  {
   "cell_type": "code",
   "execution_count": null,
   "metadata": {},
   "outputs": [],
   "source": []
  }
 ],
 "metadata": {
  "kernelspec": {
   "display_name": "Python 3",
   "language": "python",
   "name": "python3"
  },
  "language_info": {
   "codemirror_mode": {
    "name": "ipython",
    "version": 3
   },
   "file_extension": ".py",
   "mimetype": "text/x-python",
   "name": "python",
   "nbconvert_exporter": "python",
   "pygments_lexer": "ipython3",
   "version": "3.7.6"
  }
 },
 "nbformat": 4,
 "nbformat_minor": 4
}
