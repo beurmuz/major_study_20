{
 "cells": [
  {
   "cell_type": "markdown",
   "metadata": {},
   "source": [
    "# 네트워크"
   ]
  },
  {
   "cell_type": "markdown",
   "metadata": {},
   "source": [
    "접속 및 동기화"
   ]
  },
  {
   "cell_type": "code",
   "execution_count": 3,
   "metadata": {},
   "outputs": [
    {
     "ename": "SyntaxError",
     "evalue": "invalid syntax (<ipython-input-3-f24be79c3cd4>, line 1)",
     "output_type": "error",
     "traceback": [
      "\u001b[1;36m  File \u001b[1;32m\"<ipython-input-3-f24be79c3cd4>\"\u001b[1;36m, line \u001b[1;32m1\u001b[0m\n\u001b[1;33m    $ geth --syncmode fast --cache=1024 console #공중망\u001b[0m\n\u001b[1;37m    ^\u001b[0m\n\u001b[1;31mSyntaxError\u001b[0m\u001b[1;31m:\u001b[0m invalid syntax\n"
     ]
    }
   ],
   "source": [
    "$ geth --syncmode fast --cache=1024 console #공중망"
   ]
  },
  {
   "cell_type": "markdown",
   "metadata": {},
   "source": [
    "## geth testnet 실행명령어"
   ]
  },
  {
   "cell_type": "code",
   "execution_count": 5,
   "metadata": {},
   "outputs": [
    {
     "name": "stdout",
     "output_type": "stream",
     "text": [
      "Overwriting _geth_testnet.sh\n"
     ]
    }
   ],
   "source": [
    "%%writefile _geth_testnet.sh\n",
    "_dir=$HOME/Downloads/eth/testnet\n",
    "_log=$HOME/Downloads/eth/testnet.log\n",
    "geth --identity \"jslTestNode\" \\\n",
    "--verbosity 3 \\\n",
    "--rpc --rpcaddr \"117.16.44.45\" --rpcport \"8444\" --rpccorsdomain \"*\" \\\n",
    "--datadir $_dir \\\n",
    "--port \"30444\" \\\n",
    "--maxpeers 3 \\\n",
    "--rpcapi \"admin,db,eth,debug,miner,net,shh,txpool,personal,web3\" \\\n",
    "--ipcdisable \\\n",
    "--networkid 3 \\\n",
    "console 2>>$_log"
   ]
  },
  {
   "cell_type": "markdown",
   "metadata": {},
   "source": [
    "## genesis.json 설정"
   ]
  },
  {
   "cell_type": "code",
   "execution_count": 7,
   "metadata": {},
   "outputs": [
    {
     "name": "stdout",
     "output_type": "stream",
     "text": [
      "Overwriting _genesis.json\n"
     ]
    }
   ],
   "source": [
    "%%writefile _genesis.json\n",
    "{\n",
    "  \"config\": {\n",
    "    \"chainId\": 33,\n",
    "    \"homesteadBlock\": 0,\n",
    "    \"eip155Block\": 0,\n",
    "    \"eip158Block\": 0,\n",
    "    \"eip158Block\": 0\n",
    "  },\n",
    "  \"nonce\": \"0x0000000000000033\",\n",
    "  \"timestamp\": \"0x0\",\n",
    "  \"parentHash\": \"0x0000000000000000000000000000000000000000000000000000000000000000\",\n",
    "  \"gasLimit\": \"0x8000000\",\n",
    "  \"difficulty\": \"0x100\",\n",
    "  \"mixhash\": \"0x0000000000000000000000000000000000000000000000000000000000000000\",\n",
    "  \"coinbase\": \"0x3333333333333333333333333333333333333333\",\n",
    "  \"alloc\": {}\n",
    "}"
   ]
  },
  {
   "cell_type": "markdown",
   "metadata": {},
   "source": [
    "### geth 네트워크 초기화"
   ]
  },
  {
   "cell_type": "code",
   "execution_count": null,
   "metadata": {},
   "outputs": [],
   "source": []
  },
  {
   "cell_type": "code",
   "execution_count": null,
   "metadata": {},
   "outputs": [],
   "source": []
  }
 ],
 "metadata": {
  "kernelspec": {
   "display_name": "Python 3",
   "language": "python",
   "name": "python3"
  },
  "language_info": {
   "codemirror_mode": {
    "name": "ipython",
    "version": 3
   },
   "file_extension": ".py",
   "mimetype": "text/x-python",
   "name": "python",
   "nbconvert_exporter": "python",
   "pygments_lexer": "ipython3",
   "version": "3.7.6"
  }
 },
 "nbformat": 4,
 "nbformat_minor": 4
}
