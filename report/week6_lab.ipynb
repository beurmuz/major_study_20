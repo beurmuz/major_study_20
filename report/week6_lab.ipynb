{
 "cells": [
  {
   "cell_type": "markdown",
   "metadata": {},
   "source": [
    "## 문제1\n",
    "\n",
    "* ganache-cli를 백그라운드로 띄우고, node에서 연결하여, coinbase주소를 출력하세요."
   ]
  },
  {
   "cell_type": "code",
   "execution_count": 3,
   "metadata": {},
   "outputs": [
    {
     "name": "stdout",
     "output_type": "stream",
     "text": [
      "Overwriting src/week6_lab11.js\n"
     ]
    }
   ],
   "source": [
    "%%writefile src/week6_lab11.js\n",
    "var Web3 = require('web3');\n",
    "var web3=new Web3(new Web3.providers.HttpProvider(\"http://localhost:8345\"));\n",
    "web3.eth.getCoinbase().then(console.log);"
   ]
  },
  {
   "cell_type": "code",
   "execution_count": 4,
   "metadata": {},
   "outputs": [
    {
     "name": "stdout",
     "output_type": "stream",
     "text": [
      "0xbf6ec8821f59ba1f2c3d2f2a4d197410404bbec9\n"
     ]
    }
   ],
   "source": [
    "!node src/week6_lab11.js"
   ]
  },
  {
   "cell_type": "markdown",
   "metadata": {},
   "source": [
    "* 위 문제를 geth를 띄우고 실행해보세요. geth에서의 coinbase를 출력하세요."
   ]
  },
  {
   "cell_type": "code",
   "execution_count": 5,
   "metadata": {},
   "outputs": [
    {
     "name": "stdout",
     "output_type": "stream",
     "text": [
      "Overwriting src/week6_lab12.js\n"
     ]
    }
   ],
   "source": [
    "%%writefile src/week6_lab12.js\n",
    "var Web3 = require('web3');\n",
    "var web3=new Web3(new Web3.providers.HttpProvider(\"http://localhost:8445\"));\n",
    "web3.eth.getCoinbase().then(console.log);"
   ]
  },
  {
   "cell_type": "code",
   "execution_count": 6,
   "metadata": {},
   "outputs": [
    {
     "name": "stdout",
     "output_type": "stream",
     "text": [
      "0xc920e93d60afac15d7e2ca2c3fccf5307b3e227e\n"
     ]
    }
   ],
   "source": [
    "!node src/week6_lab12.js attach http://localhost:8445"
   ]
  },
  {
   "cell_type": "markdown",
   "metadata": {},
   "source": [
    "* ganache-cli의 coinbase에서 geth의 coinbase로 1 ether를 송금해 보세요. 송금 성공이면 잔고변화를 출력하고, 실패이면 그 이유를 간단히 설명하세요."
   ]
  },
  {
   "cell_type": "code",
   "execution_count": 7,
   "metadata": {},
   "outputs": [
    {
     "name": "stdout",
     "output_type": "stream",
     "text": [
      "Overwriting src/week6_lab131.js\n"
     ]
    }
   ],
   "source": [
    "%%writefile src/week6_lab131.js\n",
    "var Web3 = require('web3');\n",
    "var web3 = new Web3('http://127.0.0.1:8345');\n",
    "console.log('Balance before of Ganache, Geth coinbase');\n",
    "var gana_before=\"0xbf6ec8821f59ba1f2c3d2f2a4d197410404bbec9\";\n",
    "gana_bal=web3.eth.getBalance(gana_before).then(console.log);\n",
    "var geth_before=\"0xc920e93d60afac15d7e2ca2c3fccf5307b3e227e\";\n",
    "web3.eth.getBalance(geth_before).then(console.log);"
   ]
  },
  {
   "cell_type": "code",
   "execution_count": 8,
   "metadata": {},
   "outputs": [
    {
     "name": "stdout",
     "output_type": "stream",
     "text": [
      "Balance before of Ganache, Geth coinbase\n",
      "100000000000000000000\n",
      "0\n"
     ]
    }
   ],
   "source": [
    "!node src/week6_lab131.js"
   ]
  },
  {
   "cell_type": "code",
   "execution_count": 11,
   "metadata": {},
   "outputs": [
    {
     "name": "stdout",
     "output_type": "stream",
     "text": [
      "Overwriting src/week6_lab132.js\n"
     ]
    }
   ],
   "source": [
    "%%writefile src/week6_lab132.js\n",
    "var Web3 = require('web3');\n",
    "var web3 = new Web3('http://127.0.0.1:8345');\n",
    "var ganaacc=\"0xbf6ec8821f59ba1f2c3d2f2a4d197410404bbec9\";\n",
    "var gethacc=\"0xc920e93d60afac15d7e2ca2c3fccf5307b3e227e\";\n",
    "web3.eth.sendTransaction({from:ganaacc, to:gethacc, value:1});\n",
    "var gana_after = web3.eth.getBalance(ganaacc).then(console.log); \n",
    "var geth_after = web3.eth.getBalance(gethacc).then(console.log);\n",
    "console.log('After remittance of Ganache, geth ')\n",
    "gana_after\n",
    "geth_after"
   ]
  },
  {
   "cell_type": "code",
   "execution_count": 12,
   "metadata": {},
   "outputs": [
    {
     "name": "stdout",
     "output_type": "stream",
     "text": [
      "After remittance of Ganache, geth \n",
      "99999579999999999999\n",
      "1\n"
     ]
    }
   ],
   "source": [
    "!node src/week6_lab132.js"
   ]
  },
  {
   "cell_type": "markdown",
   "metadata": {},
   "source": [
    "각각의 잔고에 변화가 생긴 것으로 보아, ganache의 coinbase에서 geth의 coinbase로 1ether가 송금 되었음을 확인할 수 있다. "
   ]
  },
  {
   "cell_type": "markdown",
   "metadata": {},
   "source": [
    "## 문제 2\n",
    "\n",
    "* ganache-cli에 연결하고, 현재 coinbase의 잔고를 ether로 출력하세요."
   ]
  },
  {
   "cell_type": "code",
   "execution_count": 51,
   "metadata": {},
   "outputs": [
    {
     "name": "stdout",
     "output_type": "stream",
     "text": [
      "Overwriting src/week6_lab21.js\n"
     ]
    }
   ],
   "source": [
    "%%writefile src/week6_lab21.js\n",
    "var Web3 = require('web3');\n",
    "var web3=new Web3(new Web3.providers.HttpProvider(\"http://localhost:8345\"));\n",
    "console.log('change the Balance of Ganache');\n",
    "var gana_before=\"0xbf6ec8821f59ba1f2c3d2f2a4d197410404bbec9\";\n",
    "chanether=web3.utils.fromWei('99999159999999999998', 'ether');\n",
    "console.log(chanether);"
   ]
  },
  {
   "cell_type": "code",
   "execution_count": 52,
   "metadata": {
    "scrolled": true
   },
   "outputs": [
    {
     "name": "stdout",
     "output_type": "stream",
     "text": [
      "change the Balance of Ganache\n",
      "99.999159999999999998\n"
     ]
    }
   ],
   "source": [
    "!node src/week6_lab21.js "
   ]
  },
  {
   "cell_type": "markdown",
   "metadata": {},
   "source": [
    "* 현재 거래소 환전가격을 구해서 한화로 계산하여 얼마인지 출력하세요."
   ]
  },
  {
   "cell_type": "code",
   "execution_count": 53,
   "metadata": {},
   "outputs": [
    {
     "name": "stdout",
     "output_type": "stream",
     "text": [
      "1 ether is KRW : 227900\n",
      "The 99.999159999999999998 ether is KRW 22789808\n"
     ]
    }
   ],
   "source": [
    "print(\"1 ether is KRW : 227900\")\n",
    "krw=227900*99.999159999999999998\n",
    "print(\"The 99.999159999999999998 ether is KRW %i\" %(krw) )"
   ]
  }
 ],
 "metadata": {
  "kernelspec": {
   "display_name": "Python 3",
   "language": "python",
   "name": "python3"
  },
  "language_info": {
   "codemirror_mode": {
    "name": "ipython",
    "version": 3
   },
   "file_extension": ".py",
   "mimetype": "text/x-python",
   "name": "python",
   "nbconvert_exporter": "python",
   "pygments_lexer": "ipython3",
   "version": "3.7.6"
  }
 },
 "nbformat": 4,
 "nbformat_minor": 4
}
