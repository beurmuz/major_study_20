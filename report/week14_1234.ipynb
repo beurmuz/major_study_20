{
 "cells": [
  {
   "cell_type": "markdown",
   "metadata": {},
   "source": [
    "# 1번째 영상"
   ]
  },
  {
   "cell_type": "markdown",
   "metadata": {},
   "source": [
    "## array\n",
    "배열은 데이터 순서가 없는 set과 달리 순서가 있어서, 넣는 순서대로 저장이 되고, 순서를 의미하는 index를 사용해서 특정 요소를 지정할 수 있음.\n",
    "\n",
    "- 고정배열 : 컴파일 시점에 메모리가 배정되는 것으로, 배열이 저장하는 데이터 개수를 사정에 정할 수 있다.\n",
    "   > string[3] cities1 = [\"Seoul\", \"Sydeny\", \"Tokyo\"];\n",
    "   \n",
    "- 동적배열 : 런타임(실행) 시점에 메모리가 배정되는 것으로 저장하는 데이터의 개수를 미리 정할 수 없고 나중에 정해진다. new 명령어로 생성가능하며, 괄호 안에 개수를 적어서 초기화할 수 있음\n",
    "   > int[] memory num = new int[](3);\n",
    "   \n",
    "#### * string은 그 자체로 동적배열임. 동적배열은 storage함수에만 사용할 수 있고, memory변수에는 사용할 수 없음. storage배열에는 push()함수, pop()함수를 사용하여 데이터 추가 및 없앨 수 있음\n",
    "   > string[] cities2;\n",
    "   \n",
    "   > cities2.push(\"New York\");\n",
    "     \n",
    "   > cities2.push(\"Beijing\");\n",
    "   \n",
    "- 다차원 배열 : 정수의 동적 2차원 배열로, 앞의 3은 요소의 개수를, 뒤는 배열의 개수를 의마한다. 다음 예는 3개의 요소를 가진 배열이 2개라는 선언!\n",
    "   > uint[3][] marks = [[100,85,95],[20,30,40]];\n",
    "\n",
    "### 배열의 동작\n",
    "- 동적배열은 그 크기를 알 수 없어 반환이 불가능함. 배열을 반환하려면 사전에 크기를 알아야함. \n",
    "- 배열을 삭제하는 경우 특정 인덱스를 정해서 delete array[index]. 그러나 그 데이터 항목은 그대로 유지된다는 점에 주의해야함! 예를 들어, 배열 data[1,2,3,4]에서 delete data[2]를 하면 [1,2,0,4]가 됨.\n",
    "- length를 통해 배열 크기를 알 수 있음\n",
    "- push는 storage 배열에만 사용하고(즉 변수상태의 배열), memory 배열에는 사용할 수 없음\n",
    "\n",
    "### 실습해보자!"
   ]
  },
  {
   "cell_type": "markdown",
   "metadata": {},
   "source": [
    "## 1단계 : 컨트랙 개발"
   ]
  },
  {
   "cell_type": "code",
   "execution_count": 4,
   "metadata": {},
   "outputs": [
    {
     "name": "stdout",
     "output_type": "stream",
     "text": [
      "Overwriting src/ArrayTest2.sol\n"
     ]
    }
   ],
   "source": [
    "%%writefile src/ArrayTest2.sol\n",
    "pragma solidity ^0.6.0;\n",
    "pragma experimental ABIEncoderV2;\n",
    "\n",
    "contract ArrayTest2 {\n",
    "    string[3] cities1=[\"Seoul\", \"Sydney\", \"Tokyo\"];  //문자열 고정배열, 데이터를 넣고 초기화함\n",
    "    string[] cities2 = new string[](2);  //동적배열로 cities2를 만들고, new명령어로 갯수 할당\n",
    "    string[] cities3;  //문자열 배열 선언\n",
    "    int[5] mathMarks;  //점수와 관련된 것, 여기서 70점 이상을 걸러낼 것\n",
    "    uint[3][] marks=[[100, 80, 95],[20,30,40]];  //다차원 배열 선언 [3][2]\n",
    "\n",
    "    function getDynamicArrMemory() pure public returns(uint[] memory) { //uint[]배열로 반환, 매개변수에서 반환하는 것이니 memory를 반드시 적어야 함 \n",
    "        uint[] memory num=new uint[](3);  //dynamic, 동적 배열이나 크기도 정하고 데이터도 다 넣었음\n",
    "        for (uint i=0; i<num.length; i++) //초기화 가, length까지 반복함\n",
    "            num[i]=i;       //push() not allowed for array memeory, i번째에 i를 넣고 반환\n",
    "        return num;\n",
    "    }\n",
    "    //string is a dynamic array itself, which can not be returned.\n",
    "    //function setArrMemory() view public returns(string[] memory) { //반환이 있으면 returns를 써주어야 함 but문자열일때는 string이 그 자체로 동적배열이라, 반환이 되지 않음. 때문에 지워야 함\n",
    "    function getStringDynamicArrMemory() pure public { //반환이 되지 않을 것\n",
    "        //array storage not allowed, storage는 우측의 로컬에서 생성되고 있기 때문에 memory를 써야 함 \n",
    "        //error: string[2] storage places = [\"9000\", \"Sydney\"];\n",
    "        string[2] memory places = [\"9000\", \"Sydney\"]; //고정배열로 선언. \n",
    "        //array memory push not allowed\n",
    "        //places.push(\"Seoul\");\n",
    "        places[0]=\"Seoul\"; //특정 요소를 잡아서 data를 넣을 수는 있음  \n",
    "        //return places; //데이터 반환. but쓸 수 없음\n",
    "    }\n",
    "    /*returning 'string[] storage' is not allowed\n",
    "    function getCities1_() view public returns(string[] memory) {\n",
    "        return cities1;  //can not return stoarge var. \n",
    "    }*/\n",
    "    function getCities1() view public returns(string memory) { //특정요소만 반환하는 함수, 위에cities를 선언해주었으니 pure가 아닌 view사용, string도 참조타입이니 memory로 반환\n",
    "        return cities1[0];\n",
    "    }\n",
    "    function getCities1Length() view public returns(uint) { return cities1.length; }\n",
    "    function setCities23() public { //2,3번째를 editing하니까 이렇게 주고,\n",
    "        cities2[0]=\"New York\";\n",
    "        cities2.push(\"Busan\"); //동적배열이니 push사용 가능\n",
    "        cities3.push(\"New York\"); //동적배열이니 push사용 가능 \n",
    "        cities3.push(\"Beijing\");\n",
    "    }\n",
    "    //dynamic array return needs \"pragma experimental ABIEncoderV2;\"\n",
    "    function getCities2() view public returns(string[] memory){\n",
    "        return cities2; //동적배열을 반환 하려면 함수를 이렇게 또 만들어야 함 \n",
    "    }\n",
    "    function setMathMarks() public {\n",
    "        mathMarks=[100,60,95,50,80]; //70점이상이면 100,95,80만 반환할 것\n",
    "    }\n",
    "\n",
    "\n",
    "    //run setMathMarks() beforehand\n",
    "   /* function getMathAbove70_() view public returns(int[] memory) {\n",
    "        // size is not allocated yet -> invalid opcode error\n",
    "        int[] memory mathAbove70; //local에서 써야 gas비용이 적게 듦\n",
    "        uint counter = 0; //mathAbove70을 count하기 위한 변수선언\n",
    "        for(uint8 i=0;i<mathMarks.length;i++)\n",
    "            if(mathMarks[i]>70) { //점수가 70점 이상이 되면, \n",
    "                mathAbove70[counter] = mathMarks[i]; //mathMarks의 인덱스 i번째의 점수를 mathAbove70[counter]에 넣음 \n",
    "                //mathAbove70.push(mathMarks[i]);\n",
    "                counter++;\n",
    "            }\n",
    "        return mathAbove70;\n",
    "    }*/ //컴파일은 되지만 log에서 오류가 발생. 동적배열의 크기를 정하지 않고 값을 할당하니까 안되는 것. mathMarks에서 70점 이상이 몇개인지를 센 후에, 그 크기를 동적배열에 할당하고 값을 넣어야 함 \n",
    "\n",
    "\n",
    "    //run setMathMarks() beforehand\n",
    "    function getMathAbove70() view public returns(int[] memory) { //참조타입이니 memory로\n",
    "        //compute lengthOfMathAbove70\n",
    "        uint8 counter=0;\n",
    "        uint8 lengthOfMathAbove70=0;\n",
    "        for(uint8 i=0;i<mathMarks.length;i++)\n",
    "            if(mathMarks[i]>70) counter++; //70점이 넘을 경우 count를 증가시킴 \n",
    "        lengthOfMathAbove70=counter;\n",
    "        //move math marks above 70\n",
    "        int[] memory mathAbove70=new int[](lengthOfMathAbove70); // 크기를 위의 counter에 해당하는 크기만큼으로 정해주어야 함 \n",
    "        counter=0;\n",
    "        for(uint i=0;i<mathMarks.length;i++) {\n",
    "            if(mathMarks[i]>70) {\n",
    "                mathAbove70[counter]=mathMarks[i]; //그리고는 값 할당 후 반환해야 함 \n",
    "                counter++;\n",
    "            }\n",
    "        }\n",
    "        return mathAbove70;\n",
    "    }\n",
    "    function updateMarks() public returns(uint[3][] memory){\n",
    "        marks[0][0]=90;\n",
    "        return marks;\n",
    "    }\n",
    "    function getMarksArr() view public returns(uint[3][] memory) { //다차원배열로 반환. 선언과 같은 형태, 크기, 모양으로 data type을 정해서 반환해야 함 \n",
    "        return marks; //요소와 배열이 따로있으니 값을 잘 확인해야 함\n",
    "    }\n",
    "    function getMarksLength() view public returns(uint) {\n",
    "        return marks.length;\n",
    "    }\n",
    "}"
   ]
  },
  {
   "cell_type": "markdown",
   "metadata": {},
   "source": [
    "## 2단계 : 컴파일"
   ]
  },
  {
   "cell_type": "code",
   "execution_count": 1,
   "metadata": {},
   "outputs": [],
   "source": [
    "!solc src/ArrayTest2.sol --combined-json abi,bin > src/ArrayTest2.json"
   ]
  },
  {
   "cell_type": "markdown",
   "metadata": {},
   "source": [
    "## 3단계 : 컨트랙 배포"
   ]
  },
  {
   "cell_type": "code",
   "execution_count": 9,
   "metadata": {},
   "outputs": [
    {
     "name": "stdout",
     "output_type": "stream",
     "text": [
      "Overwriting src/ArrayTest2Deploy.js\n"
     ]
    }
   ],
   "source": [
    "%%writefile src/ArrayTest2Deploy.js\n",
    "var Web3 = require('web3');\n",
    "var web3 = new Web3(new Web3.providers.HttpProvider(\"http://127.0.0.1:8345\"));\n",
    "var fs=require('fs');\n",
    "var _str = fs.readFileSync(\"src/ArrayTest2.json\");\n",
    "var _json = JSON.parse(_str)\n",
    "//var _abiArray = JSON.parse(_json.contracts.sHello2.abi);\n",
    "var _abiArray = JSON.parse(_json.contracts[\"src/ArrayTest2.sol:ArrayTest2\"].abi);\n",
    "//var _bin = _json.contracts.sHello2.bin;\n",
    "var _bin=\"0x\" + _json.contracts[\"src/ArrayTest2.sol:ArrayTest2\"].bin;\n",
    "\n",
    "//unlock the account with a password provided\n",
    "//web3.personal.unlockAccount(web3.eth.accounts[0],'password');\n",
    "async function deploy() {\n",
    "    const accounts = await web3.eth.getAccounts();\n",
    "    console.log(\"Deploying the contract from \" + accounts[0]);\n",
    "\n",
    "    new web3.eth.Contract(_abiArray).deploy({data: _bin}).estimateGas(function(err, gas) {\n",
    "        if(!err) console.log(\">> gas: \"+ gas); //gas를 산정하는 함수를 위에 넣어놓음 \n",
    "    });\n",
    "\n",
    "    var deployed = await new web3.eth.Contract(_abiArray)\n",
    "        .deploy({data: _bin})\n",
    "        .send({from: accounts[0], gas: 1165736}, function(err, transactionHash) {\n",
    "                if(!err) console.log(\"hash: \" + transactionHash); \n",
    "        })\n",
    "        //.then(function(newContractInstance){\n",
    "        //    console.log(newContractInstance.options.address)\n",
    "        //});\n",
    "    console.log(\"---> The contract deployed to: \" + deployed.options.address)\n",
    "}\n",
    "\n",
    "deploy()"
   ]
  },
  {
   "cell_type": "code",
   "execution_count": 10,
   "metadata": {},
   "outputs": [
    {
     "name": "stdout",
     "output_type": "stream",
     "text": [
      "Deploying the contract from 0x61dA777EC00a55c8c021037a87339056A5f1e79F\n",
      ">> gas: 1165736\n",
      "hash: 0x9d944142e1b52d4d9f96b101628b936c91a274de1cede6e167c4f491ad58a43c\n",
      "---> The contract deployed to: 0x7a83C2c72d90257e0945203aA2423E8d1F3d2f3d\n"
     ]
    }
   ],
   "source": [
    "!node src/ArrayTest2Deploy.js"
   ]
  },
  {
   "cell_type": "markdown",
   "metadata": {},
   "source": [
    "gas가 100만 단위를 넣어가고 있음. gas비가 상당히 많이 나오고 있음. 배열쓰고 그랬으니까 그런거임.... 이 gas를 배포단계에서의 gas에 넣어주고 배포해보기."
   ]
  },
  {
   "cell_type": "markdown",
   "metadata": {},
   "source": [
    "## 4단계 : 사용"
   ]
  },
  {
   "cell_type": "code",
   "execution_count": 16,
   "metadata": {},
   "outputs": [
    {
     "name": "stdout",
     "output_type": "stream",
     "text": [
      "Overwriting src/ArrayTest2Use.js\n"
     ]
    }
   ],
   "source": [
    "%%writefile src/ArrayTest2Use.js\n",
    "var Web3=require('web3');\n",
    "var web3=new Web3(new Web3.providers.HttpProvider(\"http://127.0.0.1:8345\"));       //ok\n",
    "var fs=require('fs');\n",
    "var _str = fs.readFileSync(\"src/ArrayTest2.json\");\n",
    "var _json = JSON.parse(_str)\n",
    "//var _abiArray = JSON.parse(_json.contracts.sHello2.abi);\n",
    "var _abiArray = JSON.parse(_json.contracts[\"src/ArrayTest2.sol:ArrayTest2\"].abi);\n",
    "\n",
    "async function doIt() {\n",
    "    var arr = new web3.eth.Contract(_abiArray, \"0x86235ce7128b24f010EbbD0c79BFB47B82DD1774\");\n",
    "    const accounts = await web3.eth.getAccounts();\n",
    "    console.log(\"Account: \" + accounts[0]);\n",
    "    const balanceBefore = await web3.eth.getBalance(accounts[0]);\n",
    "    console.log(\"Balance before: \" + balanceBefore);\n",
    "    \n",
    "    arr.methods.setCities23().estimateGas(function(err, gas) {\n",
    "        if(!err) console.log(\">> gas: \"+ gas);\n",
    "    });\n",
    "\n",
    "    //await arr.methods.setCities23().send({from: accounts[0]});   //out of gas error\n",
    "    await arr.methods.setCities23().send({from: accounts[0], gas:135482});\n",
    "    arr.methods.getCities2().call().then(console.log);\n",
    "\n",
    "    arr.methods.setMathMarks().estimateGas(function(err, gas) {\n",
    "        if(!err) console.log(\">> gas: \"+ gas);\n",
    "    });\n",
    "\n",
    "    await arr.methods.setMathMarks().send({from: accounts[0], gas: 122001});\n",
    "    //ERROR invalid opcode arr.methods.getMathAbove70().call().then(console.log);\n",
    "    arr.methods.getMarksArr().call().then(console.log);\n",
    "\n",
    "    const balanceAfter = await web3.eth.getBalance(accounts[0]);\n",
    "    console.log(\"Balance after: \" + balanceAfter);\n",
    "    console.log(\"Balance diff: \" + (balanceBefore - balanceAfter));\n",
    "    \n",
    "}\n",
    "\n",
    "doIt()"
   ]
  },
  {
   "cell_type": "code",
   "execution_count": 17,
   "metadata": {},
   "outputs": [
    {
     "name": "stdout",
     "output_type": "stream",
     "text": [
      "Account: 0x61dA777EC00a55c8c021037a87339056A5f1e79F\n",
      "Balance before: 99943008420000000000\n",
      ">> gas: 102139\n",
      "[ 'New York', '', 'Busan', 'Busan' ]\n",
      ">> gas: 27324\n",
      "[ [ '100', '80', '95' ], [ '20', '30', '40' ] ]\n",
      "Balance after: 99940445620000000000\n",
      "Balance diff: 2562800000008192\n"
     ]
    }
   ],
   "source": [
    "!node src/ArrayTest2Use.js"
   ]
  },
  {
   "cell_type": "code",
   "execution_count": 19,
   "metadata": {},
   "outputs": [
    {
     "name": "stdout",
     "output_type": "stream",
     "text": [
      "Account: 0x61dA777EC00a55c8c021037a87339056A5f1e79F\n",
      "Balance before: 99937882820000000000\n",
      ">> gas: 102139\n",
      "[ 'New York', '', 'Busan', 'Busan', 'Busan', 'Busan' ]\n",
      ">> gas: 27324\n",
      "[ [ '100', '80', '95' ], [ '20', '30', '40' ] ]\n",
      "Balance after: 99935320020000000000\n",
      "Balance diff: 2562800000008192\n"
     ]
    }
   ],
   "source": [
    "!node src/ArrayTest2Use.js"
   ]
  },
  {
   "cell_type": "markdown",
   "metadata": {},
   "source": [
    "## Members 배열의 특징"
   ]
  },
  {
   "cell_type": "code",
   "execution_count": 20,
   "metadata": {},
   "outputs": [
    {
     "name": "stdout",
     "output_type": "stream",
     "text": [
      "Writing src/Members.sol\n"
     ]
    }
   ],
   "source": [
    "%%writefile src/Members.sol\n",
    "pragma solidity ^0.6.0;\n",
    "contract Members{\n",
    "    address owner;\n",
    "    event printAddr(address arg);\n",
    "    struct Member{ //Member\n",
    "        uint id;\n",
    "        string name;\n",
    "    }\n",
    "    Member[] public memberArr; //Member의 배열에 넣음 \n",
    "    constructor() public {\n",
    "        owner=msg.sender;\n",
    "    }\n",
    "    function del() public {\n",
    "        delete memberArr;\n",
    "    }\n",
    "    function delOne(uint i) public{\n",
    "        delete memberArr[i];  //try pop()\n",
    "    }\n",
    "    function add(uint id,string memory name) public {\n",
    "        memberArr.push(Member(id,name)); //struct를 넣음 \n",
    "    }\n",
    "    //return Member\n",
    "    function getMember(string memory who) view public returns(uint, string memory) {\n",
    "        uint _id;\n",
    "        string memory _name;\n",
    "        for(uint i=0;i<memberArr.length;i++) {\n",
    "            _name=memberArr[i].name;\n",
    "            if(keccak256(abi.encodePacked(_name))==keccak256(abi.encodePacked(who))) { //keccak256으로 특정이름을 검색한다.  \n",
    "                _id=memberArr[i].id;  //string을 hash로 바꾼다음에 비교해야 함\n",
    "                _name=memberArr[i].name;\n",
    "            }\n",
    "        }\n",
    "        return (_id,_name);\n",
    "    }\n",
    "    function compareStr(string memory s1, string memory s2) pure public returns(bool) {\n",
    "        return keccak256(abi.encodePacked(s1))==keccak256(abi.encodePacked(s2));\n",
    "    } \n",
    "    function compareBytes(bytes memory b1, bytes memory b2) pure public returns(bool) {\n",
    "        return keccak256(b1) == keccak256(b2);\n",
    "    }\n",
    "    function getLength() view public returns(uint) {\n",
    "        return memberArr.length;\n",
    "    }\n",
    "}"
   ]
  },
  {
   "cell_type": "markdown",
   "metadata": {},
   "source": [
    "# 2번째 영상"
   ]
  },
  {
   "cell_type": "markdown",
   "metadata": {},
   "source": [
    "## mapping\n",
    "키에 저장하는 값을 쌍으로 저장함. 키=>값 형태로 적어줌. 보통 키는 string으로 저장해주고, 값은 uint로 저장해줌 \n",
    "> mapping(string => uint) public balances;\n",
    "\n",
    "> balances [\"jsr\"] = 100; //100은 100wei...\n",
    "\n",
    "키값이 jsr이 되는 것! 키는 unique해야 함. 독특한 비밀번호를 써야한다... \n",
    "\n",
    "## 실습 - 은행\n",
    "배열을 이용하여 여러 계정의 balance를 볼 수 있다!\n",
    "여러 계정이 있는 경우, mapping을 이용해 잔고를 관리할 수 있다.\n",
    "> mapping(address=>uint) balanceOf;라고 선언하고\n",
    "\n",
    "> balanceOf[<address>]=amount;로 잔고 저장 가능함\n",
    "    \n",
    "증감이 가능하며, 이를 하기 위해서는\n",
    "    \n",
    "> uint balanceToAdd=111; //어떤 개인키를 가진 개인이 111wei를 저장했다면 \n",
    "    \n",
    "> balanceOf[<address>] += balanceToAdd; //자룍조에 키값으로 이 잔고를 더해주면 잔고 효과가 있지요.. 호호.. 외부로 인출할 때에는 forwardTo로 해야함\n",
    "    \n",
    "하기... "
   ]
  },
  {
   "cell_type": "markdown",
   "metadata": {},
   "source": [
    "## 1단계 : 컨트랙 개발"
   ]
  },
  {
   "cell_type": "code",
   "execution_count": 21,
   "metadata": {},
   "outputs": [
    {
     "name": "stdout",
     "output_type": "stream",
     "text": [
      "Writing src/BankV4.sol\n"
     ]
    }
   ],
   "source": [
    "%%writefile src/BankV4.sol\n",
    "\n",
    "pragma solidity ^0.6.0;\n",
    "contract BankV4 {\n",
    "    address owner; //컨트랙 제작자, \n",
    "    mapping (address => uint) balanceOf; //balanceOf는 uint로 value가 되어있어 초기값이 0이 나올 것.string이면 null일 것\n",
    "    //잔고를 저장하는 mapping자료구조로, 잔고의 key는 address로 하고, address의 key는 uint로 함. 잔고의 변수명은 balanceOf;\n",
    "    constructor() public { //생성자. 누구든지 객체를 만들 수 있음 \n",
    "        owner = msg.sender;\n",
    "    }\n",
    "    // save to individual addresses\n",
    "    function deposit(uint amount) payable public onlyOwner { \n",
    "        //받아서 검증하는 것으로, 지급이 있으니 payable. 오직 오너만 입금 가능함\n",
    "        require(msg.value == amount); //금액 확인 msg.value는 전역 변수임\n",
    "        balanceOf[msg.sender] += amount; \n",
    "        //입금이 되면 balanceOf매핑에 sender가 주소가 되고, 이를 key값으로 해서 amount를 증가시킴\n",
    "    }\n",
    "    // forward from owner to another\n",
    "    function forwardTo(address receiver, uint amount) payable public onlyOwner {\n",
    "        // receiver로 amount만큼 계좌이체가 되는 함수. 오직 오너만 가능\n",
    "        require(balanceOf[msg.sender] >= amount); //돈을 빼가려면 오너의 잔고가 amount보다 크거나 같아야 함\n",
    "        balanceOf[msg.sender] -= amount; // Subtract from the sender , sender의 계좌에서 금액을 감소시키고\n",
    "        balanceOf[receiver] += amount;   // Add the same to the recipient, reciever의 금액을 증가시킴(송금이니까)\n",
    "    }\n",
    "    function withdraw(address payable receiver, uint amount) public onlyOwner {\n",
    "        //인출하는 함수, 돈을 완전히 인출하겠다! 즉 통장해지라고 생각하기. \n",
    "        require(balanceOf[receiver] >= amount && address(this).balance >= amount);\n",
    "        //receiver의 잔고가 amount보다 커야하고, 이 컨트랙에서 가지고 있는 잔고도 amount보다 커야함\n",
    "        balanceOf[receiver] -= amount; //balanceOf에 amount만큼 receiver를 감액해야 함\n",
    "        receiver.transfer(amount); //receiver에게 amount만큼 계좌이체를 해야함 \n",
    "    }\n",
    "    function getBalance() public view returns(uint, uint) { //상태를 읽어오니 view를 하고, 잔고 확인하기\n",
    "        return (address(this).balance, balanceOf[owner]); //컨트랙과 오너의 잔고를 출력\n",
    "    }\n",
    "    function getBalanceOf(address addr) public view returns (uint) {\n",
    "        return balanceOf[addr]; //특정 잔고를 읽음 \n",
    "    }\n",
    "    modifier onlyOwner {\n",
    "        require(msg.sender == owner);\n",
    "        _; //호출하는 코드\n",
    "    }\n",
    "}"
   ]
  },
  {
   "cell_type": "markdown",
   "metadata": {},
   "source": [
    "강의자료 e11 삭제, map..."
   ]
  },
  {
   "cell_type": "markdown",
   "metadata": {},
   "source": [
    "## 1단계 : 컨트랙 개발 - MembersMap"
   ]
  },
  {
   "cell_type": "code",
   "execution_count": 22,
   "metadata": {},
   "outputs": [
    {
     "name": "stdout",
     "output_type": "stream",
     "text": [
      "Writing src/MembersMap.sol\n"
     ]
    }
   ],
   "source": [
    "%%writefile src/MembersMap.sol\n",
    "\n",
    "pragma solidity ^0.6.0;\n",
    "\n",
    "contract MembersMap {\n",
    "    struct Member {\n",
    "        uint id;\n",
    "        string name;\n",
    "    }\n",
    "    //bidrectional map\n",
    "    mapping(address=>Member) memberMap; //멤버매핑, 구조는 키를 address로, address를 넣으면 Member가 반환됨 \n",
    "    mapping(uint=>address) addressById; //키를 uint(Id)로, 이를 입력하면 반환은 address가 됨\n",
    "    //Id를 넣으면 멤버를 구할 수 있게 됨\n",
    "    mapping(string=>address) addressByName; //string(name)에 대한 것, 이를 넣으면 address가 반환됨.\n",
    "    function addMember (uint _id, string memory _name) public {\n",
    "        //Member에 있는 Id, 이름을 받음\n",
    "       Member memory m=Member(_id, _name); //멤버를 만들고, local에서 만들어지니 memory를 붙임\n",
    "       memberMap[msg.sender]=m; //키를 msg.sender로 하고, valaue를 my로 넣어주는 것 \n",
    "       //saving into a bidiretional map to get address by id\n",
    "       addressById[_id]=msg.sender; //Id로 member를 찾아올 수 있게 함. key값을 msg.sender, 주소값으로 해줌\n",
    "       //saving into a bidiretional map to get address by name\n",
    "       addressByName[_name]=msg.sender; //이름으로 member를 찾아옴 mag.sender로 키값을 잡음\n",
    "    }\n",
    "    //get Member by id, 반복문을 쓰지 않고 id를 가져오기 \n",
    "    function getMemberById(uint _id) view public returns(uint, string memory) {\n",
    "        Member memory my = memberMap[addressById[_id]];\n",
    "        //Id를 가지고 주소를 구하기. [_id]를 넣으면 주소 값이 구해지고, 주소값으로 member값을 구하는 것은 memberMap.\n",
    "        // Id를 넣어서 address를 구하고, 이 address가 들어가서 멤버값이 반환된다.\n",
    "        return (my.id, my.name); //따로따로 출력할 수밖에 없음\n",
    "    }\n",
    "    // get address (not Member) by name\n",
    "    function getMemberAddressByName(string memory _name) public view returns(address) {\n",
    "        return addressByName[_name];\n",
    "    }\n",
    "    function getMember(address addr) view public returns (uint, string memory) {\n",
    "        Member memory m=memberMap[addr];\n",
    "        //주소값이 들어가서, 멤버값이 반환되는 것은 memberMap. \n",
    "        // 멤버맵넣고, 입력으로 들어온 addr를 넣게되면 멤버값이 반환 됨\n",
    "        return (m.id, m.name); // \n",
    "    }\n",
    "}"
   ]
  },
  {
   "cell_type": "markdown",
   "metadata": {},
   "source": [
    "# 3번째 강의 - 예외"
   ]
  },
  {
   "cell_type": "markdown",
   "metadata": {},
   "source": [
    "### 예외는 언제 발생하는가?\n",
    "- 실행 시점에 발생하는 예외\n",
    "  - 배열이 일정 범위를 넘어서거나, out-of-gass errors, divide by zero 등이 있을 수 있다. 이 경우 실행이 중지되고, 원상복구 되어야 함.\n",
    "  - 이때 사용하는 명령어는 assert(), revert(), require()가 있음"
   ]
  },
  {
   "cell_type": "code",
   "execution_count": 23,
   "metadata": {},
   "outputs": [
    {
     "name": "stdout",
     "output_type": "stream",
     "text": [
      "Writing src/ExceptionTest.sol\n"
     ]
    }
   ],
   "source": [
    "%%writefile src/ExceptionTest.sol\n",
    "\n",
    "pragma solidity ^0.6.0;\n",
    "\n",
    "contract ExceptionTest {\n",
    "    address owner; //멤버변수\n",
    "    constructor() public {\n",
    "        owner=msg.sender; //초기화\n",
    "    }\n",
    "    function requireException() view public returns(string memory) {\n",
    "        //if (msg.sender != owner) { throw; }\n",
    "        require(msg.sender != owner, \"Sorry! You are owner. Require failed...\");\n",
    "        //msg.sender가 owner일때는 실패.\n",
    "        return \"require condition met\"; //성공시 return\n",
    "    }\n",
    "    function assertException() view public returns(string memory) {\n",
    "        assert(msg.sender == owner); //오너인지 아닌지 확인. 실패하든 성공하든 진행이 됨.\n",
    "        return \"asserted\";  //do this line only 'assert' is succeeded\n",
    "    }\n",
    "    function revertException() view public returns(string memory) {\n",
    "        if(msg.sender != owner) {\n",
    "            revert(\"Sorry! You are NOT owner. Reverted...\");\n",
    "            //센더가 오너가 아니면, 리버트시킴. 리버트하고나면 return을 해야함. 근데 출력 안됨\n",
    "            //return \"reverted\";  // this line can't be reached if revert is executed \n",
    "        } else { //리버트가 아닌 경우\n",
    "            return \"not reverted\";\n",
    "        }\n",
    "    }\n",
    "    function raiseException() pure public { //강제로 오류발생 시키기\n",
    "        int x=0;\n",
    "        int y=0;\n",
    "        x/y;    //divide by zero\n",
    "    }\n",
    "}"
   ]
  },
  {
   "cell_type": "markdown",
   "metadata": {},
   "source": [
    "## 무작위 수 생성하기\n",
    "전역변수를 사용해야 함. 전역변수의 값을 읽어서 해시값을 읽고, modulus를 이용해 일정 범위의 수가 생성되도록 함 \n",
    "\n",
    "for문에서, 무작위수를 생성해서 배열에 넣는것을 해보자!\n",
    "무작위수를 왜 생성하는가? 자주 쓰니까..."
   ]
  },
  {
   "cell_type": "code",
   "execution_count": 24,
   "metadata": {},
   "outputs": [
    {
     "name": "stdout",
     "output_type": "stream",
     "text": [
      "Writing src/Random.sol\n"
     ]
    }
   ],
   "source": [
    "%%writefile src/Random.sol\n",
    "\n",
    "pragma solidity ^0.6.0;\n",
    "contract Random { //32bit짜리 숫자를 생성하는 rand함수 만들기\n",
    "    function rand() public view returns(bytes32) {\n",
    "        return keccak256(abi.encodePacked(block.timestamp, block.difficulty));\n",
    "    } //사용하는 전역변수는 timestamp, difficulty. 이는 매시점 달라짐.\n",
    "                 \n",
    "    function rand0and250() public view returns(uint8) { //0~250사이의 랜덤 수를 생성, 반환은 8bit.\n",
    "        return uint8(uint256(keccak256(abi.encodePacked(block.timestamp, block.difficulty)))%251);\n",
    "    } // 형변환을 uint256로 해주어야 함. 그리고 다시 한번 uint8로 해주어야 함. (총 2번 형변환하기)\n",
    "    \n",
    "    function rand0and9() public view returns(uint8) { //0~9까지 생성하기. \n",
    "    //뒤에 251을 10으로만 바꾸어주면 됨. 가위바위보는 3으로 바꾸면 됨. 이 숫자가 modulus임\n",
    "        return uint8(uint256(keccak256(abi.encodePacked(block.timestamp, block.difficulty)))%10);\n",
    "    }\n",
    "                 \n",
    "    function rand0and2() public view returns(uint8) { \n",
    "        return uint8(uint256(keccak256(abi.encodePacked(block.timestamp, block.difficulty)))%3);\n",
    "    }\n",
    "                 \n",
    "    function genRandomInteger() view public returns(uint8[] memory) {//for문으로 무작위숫자 10개 만들기                                                             \n",
    "        uint8[] memory r = new uint8[](10); //동적 배열 선언, new명령어로 동적배열 10개 선언\n",
    "        for(uint i = 0; i<r.length; i++) //r의 길이만큼 반복해서 무작위수 생성하기. \n",
    "            //r[i] = uint8(uint256(keccak256(abi.encodePacked(block.timestamp, block.difficulty)))%10);\n",
    "            //change timestamp by adding i, otherwise all the same numbers generated\n",
    "            r[i] = uint8(uint256(keccak256(abi.encodePacked(block.timestamp + i, block.difficulty)))%10);\n",
    "            //반환되는 것이 uint8이므로 전부 uint8로 바꾸기                                                          \n",
    "        return r;\n",
    "    }\n",
    "}"
   ]
  },
  {
   "cell_type": "markdown",
   "metadata": {},
   "source": [
    "# 4번째 영상"
   ]
  },
  {
   "cell_type": "markdown",
   "metadata": {},
   "source": [
    "## 컨트랙 결합\n",
    "컨트랙이 2개 이상이 되는 경우 결합하는 방법에 대해 알아보자.\n",
    "\n",
    "### 상대측 객체 생성\n",
    "컨트랙을 결합해야 하는 경우, 상대 객체는 두가지 경우로 나누어 생각해보아야 함\n",
    "  \n",
    "  \n",
    "#### 배포되어 있지 않은 경우\n",
    "   - 한 파일에 컨트랙이 포함되는 경우 new() 명령어로 인스턴스를 만들어서 함수를 호출한다.\n",
    "      \n",
    "#### 배포되어 있는 경우\n",
    "   - 주소를 구해서 넘겨주어야 함. 상대 객체를 한 파일에 포함하지 않는 경우라면 import문으로 그 컨트랙을 포함해야 함. import 다음에 적는 filename은 현재 프로그램의 상대경로로 적어줌\n",
    "      > import << filename >>\n",
    "      \n",
    "### 함수의 호출\n",
    "#### 컨트랙에서 호출\n",
    "상대측 객체 생성 후, 함수를 호출함. 함수는 객체지향에서 하는 방식으로 dot operator를 상ㅇ하면 됨\n",
    "> < instance >, functionMethod()\n",
    "\n",
    "#### web3.js에서 호출\n",
    "web3.js에서는 < instatance >.methods.fuctionMethod()를 호출한다. "
   ]
  },
  {
   "cell_type": "markdown",
   "metadata": {},
   "source": [
    "### 실습1 : new 명령어로 컨트랙 생성\n",
    "new() 명령어로 컨트랙 생성 시, 컴파일 시점에 그 소스코드를 가져올 수 있어야 함. 즉, 상대 컨트랙이 동일한 파일에 존재하거나 또는 import문으로 상대 컨트랙이 포함되는 경우가 해당됨. 그럼 상대 컨트랙이 바이트코드가 포함되게 됨"
   ]
  },
  {
   "cell_type": "markdown",
   "metadata": {},
   "source": [
    "### 1단계 : 컨트랙 개발"
   ]
  },
  {
   "cell_type": "code",
   "execution_count": 1,
   "metadata": {},
   "outputs": [
    {
     "name": "stdout",
     "output_type": "stream",
     "text": [
      "Writing src/C1C2.sol\n"
     ]
    }
   ],
   "source": [
    "%%writefile src/C1C2.sol\n",
    "\n",
    "pragma solidity ^0.6;\n",
    "//pragma solidity 0.4.21;\n",
    "contract C1 {\n",
    "    uint128 v1;\n",
    "    function set(uint128 _v1) public { //인자받아서 v1을 설정\n",
    "        v1=_v1;\n",
    "    }\n",
    "    function get() public view returns(uint128) { //v1을 반환\n",
    "        return v1;\n",
    "    }\n",
    "    function get7() public pure returns(uint128) { //7을 반환\n",
    "        return 7;\n",
    "    }\n",
    "}\n",
    "\n",
    "contract C2 {\n",
    "    C1 c1;\n",
    "    //function C2() public {  //0.4.21 constructor\n",
    "    constructor() public {    //0.6 constructor\n",
    "        c1=new C1();\n",
    "    }\n",
    "    function set(uint128 _v1) public { //c2에서 c1이 되면, 제대로 연결되었다는 것임\n",
    "        c1.set(_v1);\n",
    "    }\n",
    "    function get() public view returns(uint128) {\n",
    "        return c1.get();\n",
    "    }\n",
    "    function get7() public view returns(uint128) {\n",
    "        return c1.get7();\n",
    "    }\n",
    "    function getC1Address() public view returns(address) { //address를 출력 \n",
    "        return address(c1);\n",
    "                                                          \n",
    "    }\n",
    "}"
   ]
  },
  {
   "cell_type": "markdown",
   "metadata": {},
   "source": [
    "### 2단계 : 컴파일"
   ]
  },
  {
   "cell_type": "code",
   "execution_count": 2,
   "metadata": {},
   "outputs": [],
   "source": [
    "!solc src/C1C2.sol --combined-json abi,bin > src/C1C2.json"
   ]
  },
  {
   "cell_type": "markdown",
   "metadata": {},
   "source": [
    "### 3단계 : 배포"
   ]
  },
  {
   "cell_type": "code",
   "execution_count": 3,
   "metadata": {},
   "outputs": [
    {
     "name": "stdout",
     "output_type": "stream",
     "text": [
      "Writing src/C1C2Deploy.js\n"
     ]
    }
   ],
   "source": [
    "%%writefile src/C1C2Deploy.js\n",
    "var Web3=require('web3');\n",
    "var web3=new Web3(new Web3.providers.HttpProvider(\"http://127.0.0.1:8345\"));\n",
    "var fs=require('fs');\n",
    "var _str = fs.readFileSync(\"src/C1C2.json\");\n",
    "var _json=JSON.parse(_str)\n",
    "//var _abiArray=JSON.parse(_json.contracts.sHello2.abi);\n",
    "var _abiArray=JSON.parse(_json.contracts[\"src/C1C2.sol:C2\"].abi);\n",
    "//var _bin=_json.contracts.sHello2.bin;\n",
    "var _bin=\"0x\"+_json.contracts[\"src/C1C2.sol:C2\"].bin;\n",
    "\n",
    "//unlock the account with a password provided\n",
    "//web3.personal.unlockAccount(web3.eth.accounts[0],'password');\n",
    "async function deploy() {\n",
    "    const accounts = await web3.eth.getAccounts();\n",
    "    console.log(\"Deploying the contract from \" + accounts[0]);\n",
    "    var deployed = await new web3.eth.Contract(_abiArray)\n",
    "        .deploy({data: _bin})\n",
    "        .send({from: accounts[0], gas: 1000000})\n",
    "        .on('transactionHash', function(hash){\n",
    "            console.log(\">>> transactionHash\"+hash);\n",
    "        })\n",
    "        .on('receipt', function(receipt){\n",
    "            console.log(\">>> RECEPIT hash: \" + receipt.transactionHash + \"\\n>>> address:\" + receipt.contractAddress);\n",
    "        })\n",
    "        .on('error', function(error, receipt) {\n",
    "            console.log(\">>> ERROR \"+error);\n",
    "        });\n",
    "        //.then(function(newContractInstance){\n",
    "        //    console.log(newContractInstance.options.address)\n",
    "        //});\n",
    "    console.log(\"---> The contract deployed to: \" + deployed.options.address)\n",
    "}\n",
    "deploy()"
   ]
  },
  {
   "cell_type": "markdown",
   "metadata": {},
   "source": [
    "connection을 한 번 하고 끊어주는게 HttpProvider이고, 소켓은 계속 연결."
   ]
  },
  {
   "cell_type": "code",
   "execution_count": 4,
   "metadata": {},
   "outputs": [
    {
     "name": "stdout",
     "output_type": "stream",
     "text": [
      "Deploying the contract from 0xfaB0C9154f6243974128241fB6ff3948A32E0a2B\n",
      ">>> transactionHash0xb7315ed383281676a3f47e09090fede3a9f543df97fcfc500960d915a4589ab6\n",
      ">>> RECEPIT hash: 0xb7315ed383281676a3f47e09090fede3a9f543df97fcfc500960d915a4589ab6\n",
      ">>> address:0xC2F6f85F7C0d80D34FEc403EF24b34eA41764812\n",
      "---> The contract deployed to: 0xC2F6f85F7C0d80D34FEc403EF24b34eA41764812\n"
     ]
    }
   ],
   "source": [
    "!node src/C1C2Deploy.js"
   ]
  },
  {
   "cell_type": "markdown",
   "metadata": {},
   "source": [
    "위의 contract 결과 코드는, C2의 주소임. C1의 주소가 아님!"
   ]
  },
  {
   "cell_type": "markdown",
   "metadata": {},
   "source": [
    "### 4단계 : 사용"
   ]
  },
  {
   "cell_type": "code",
   "execution_count": 7,
   "metadata": {},
   "outputs": [
    {
     "name": "stdout",
     "output_type": "stream",
     "text": [
      "Overwriting src/C1C2Use.js\n"
     ]
    }
   ],
   "source": [
    "%%writefile src/C1C2Use.js\n",
    "var Web3=require('web3');\n",
    "var web3=new Web3(new Web3.providers.HttpProvider(\"http://127.0.0.1:8345\"));\n",
    "var fs=require('fs');\n",
    "var _str = fs.readFileSync(\"src/C1C2.json\");\n",
    "var _json=JSON.parse(_str)\n",
    "//var _abiArray=JSON.parse(_json.contracts.sHello2.abi);\n",
    "var _abiArray=JSON.parse(_json.contracts[\"src/C1C2.sol:C2\"].abi);\n",
    "\n",
    "var c2 = new web3.eth.Contract(_abiArray, \"0xC2F6f85F7C0d80D34FEc403EF24b34eA41764812\");\n",
    "\n",
    "async function doIt() {\n",
    "    const accounts = await web3.eth.getAccounts();\n",
    "    console.log(\"Account: \" + accounts[0]);\n",
    "    const balanceBefore = await web3.eth.getBalance(accounts[0]);\n",
    "    console.log(\"Balance before: \" + balanceBefore);\n",
    "    c2.methods.get7().call().then(console.log);\n",
    "    await c2.methods.set(9).send({from: accounts[0],gas:50000});\n",
    "    c2.methods.get().call().then(console.log);\n",
    "    const balanceAfter = await web3.eth.getBalance(accounts[0]);\n",
    "    console.log(\"Balance after: \" + balanceAfter);\n",
    "    console.log(\"Balance diff: \" + (balanceBefore - balanceAfter));\n",
    "    //hello.methods.kill().send({from: accounts[0]})\n",
    "}\n",
    "\n",
    "doIt()"
   ]
  },
  {
   "cell_type": "code",
   "execution_count": 8,
   "metadata": {},
   "outputs": [
    {
     "name": "stdout",
     "output_type": "stream",
     "text": [
      "Account: 0xfaB0C9154f6243974128241fB6ff3948A32E0a2B\n",
      "Balance before: 99991835820000000000\n",
      "7\n",
      "9\n",
      "Balance after: 99990936680000000000\n",
      "Balance diff: 899140000006144\n"
     ]
    }
   ],
   "source": [
    "!node src/C1C2Use.js"
   ]
  },
  {
   "cell_type": "markdown",
   "metadata": {},
   "source": [
    "### 컨트랙 주소를 사용하여 컨트랙 결합하기\n",
    "이미 배포된 컨트랙을 결합하여 보자. 그렇다면 C2에 C1의 주소를 넘겨주어야 한다. 즉 C1을 배포하고 그 주소를 알야야 한다.\n",
    "### C1을 배포하고 주소를 구하기."
   ]
  },
  {
   "cell_type": "markdown",
   "metadata": {},
   "source": [
    "### 1단계 : 컨트랙 개발"
   ]
  },
  {
   "cell_type": "code",
   "execution_count": 1,
   "metadata": {},
   "outputs": [
    {
     "name": "stdout",
     "output_type": "stream",
     "text": [
      "Overwriting src/C1.sol\n"
     ]
    }
   ],
   "source": [
    "%%writefile src/C1.sol\n",
    "pragma solidity ^0.6;\n",
    "//pragma solidity 0.4.21;\n",
    "\n",
    "contract C1 {\n",
    "    uint128 v1;\n",
    "    function set(uint128 _v1) public {\n",
    "        v1=_v1;\n",
    "    }\n",
    "    function get() public view returns(uint128) {\n",
    "        return v1;\n",
    "    }\n",
    "    function get7() public pure returns(uint128) {\n",
    "        return 7;\n",
    "    }\n",
    "}"
   ]
  },
  {
   "cell_type": "markdown",
   "metadata": {},
   "source": [
    "C1을 배포해서, 먼저 c1의 주소를 얻어야 함"
   ]
  },
  {
   "cell_type": "code",
   "execution_count": 2,
   "metadata": {},
   "outputs": [],
   "source": [
    "!solc src/C1.sol --combined-json abi,bin > src/C1.json"
   ]
  },
  {
   "cell_type": "code",
   "execution_count": 3,
   "metadata": {},
   "outputs": [
    {
     "name": "stdout",
     "output_type": "stream",
     "text": [
      "{\"contracts\":{\"src/C1.sol:C1\":{\"abi\":\"[{\\\"inputs\\\":[],\\\"name\\\":\\\"get\\\",\\\"outputs\\\":[{\\\"internalType\\\":\\\"uint128\\\",\\\"name\\\":\\\"\\\",\\\"type\\\":\\\"uint128\\\"}],\\\"stateMutability\\\":\\\"view\\\",\\\"type\\\":\\\"function\\\"},{\\\"inputs\\\":[],\\\"name\\\":\\\"get7\\\",\\\"outputs\\\":[{\\\"internalType\\\":\\\"uint128\\\",\\\"name\\\":\\\"\\\",\\\"type\\\":\\\"uint128\\\"}],\\\"stateMutability\\\":\\\"pure\\\",\\\"type\\\":\\\"function\\\"},{\\\"inputs\\\":[{\\\"internalType\\\":\\\"uint128\\\",\\\"name\\\":\\\"_v1\\\",\\\"type\\\":\\\"uint128\\\"}],\\\"name\\\":\\\"set\\\",\\\"outputs\\\":[],\\\"stateMutability\\\":\\\"nonpayable\\\",\\\"type\\\":\\\"function\\\"}]\",\"bin\":\"608060405234801561001057600080fd5b506101a9806100206000396000f3fe608060405234801561001057600080fd5b50600436106100415760003560e01c8063086949b7146100465780634178462f146100885780636d4ce63c146100c8575b600080fd5b61004e61010a565b60405180826fffffffffffffffffffffffffffffffff166fffffffffffffffffffffffffffffffff16815260200191505060405180910390f35b6100c66004803603602081101561009e57600080fd5b8101908080356fffffffffffffffffffffffffffffffff169060200190929190505050610113565b005b6100d061014e565b60405180826fffffffffffffffffffffffffffffffff166fffffffffffffffffffffffffffffffff16815260200191505060405180910390f35b60006007905090565b806000806101000a8154816fffffffffffffffffffffffffffffffff02191690836fffffffffffffffffffffffffffffffff16021790555050565b60008060009054906101000a90046fffffffffffffffffffffffffffffffff1690509056fea26469706673582212208d45e97f451e9d99611d8b5bae8be5dbb02b3f934c161ae215867feece40d97064736f6c63430006030033\"}},\"version\":\"0.6.3+commit.8dda9521.Windows.msvc\"}\n"
     ]
    }
   ],
   "source": [
    "!type C:\\Users\\15Z970-G.AA5BK\\Code\\jsr\\src\\C1.json"
   ]
  },
  {
   "cell_type": "markdown",
   "metadata": {},
   "source": [
    "C1배포"
   ]
  },
  {
   "cell_type": "code",
   "execution_count": 4,
   "metadata": {},
   "outputs": [
    {
     "name": "stdout",
     "output_type": "stream",
     "text": [
      "Overwriting src/C1Deploy.js\n"
     ]
    }
   ],
   "source": [
    "%%writefile src/C1Deploy.js\n",
    "var Web3 = require('web3');\n",
    "var web3 = new Web3(new Web3.providers.HttpProvider(\"http://127.0.0.1:8345\"));\n",
    "var fs=require('fs');\n",
    "var _str = fs.readFileSync(\"src/C1.json\");\n",
    "var _json = JSON.parse(_str)\n",
    "//var _abiArray = JSON.parse(_json.contracts.sHello2.abi);\n",
    "var _abiArray = JSON.parse(_json.contracts[\"src/C1.sol:C1\"].abi);\n",
    "//var _bin = _json.contracts.sHello2.bin;\n",
    "var _bin = \"0x\"+_json.contracts[\"src/C1.sol:C1\"].bin;\n",
    "\n",
    "//unlock the account with a password provided\n",
    "//web3.personal.unlockAccount(web3.eth.accounts[0],'password');\n",
    "async function deploy() {\n",
    "    const accounts = await web3.eth.getAccounts();\n",
    "    console.log(\"Deploying the contract from \" + accounts[0]);\n",
    "    var deployed = await new web3.eth.Contract(_abiArray)\n",
    "        .deploy({data: _bin})\n",
    "        .send({from: accounts[0], gas: 1000000})\n",
    "        .on('transactionHash', function(hash){\n",
    "            console.log(\">>> transactionHash\" + hash);\n",
    "        })\n",
    "        .on('receipt', function(receipt){\n",
    "            console.log(\">>> RECEPIT hash: \" + receipt.transactionHash + \"\\n>>> address:\" + receipt.contractAddress);\n",
    "        })\n",
    "        .on('error', function(error, receipt) {\n",
    "            console.log(\">>> ERROR \" + error);\n",
    "        });\n",
    "        //.then(function(newContractInstance){\n",
    "        //    console.log(newContractInstance.options.address)\n",
    "        //});\n",
    "    console.log(\"---> The contract deployed to: \" + deployed.options.address)\n",
    "}\n",
    "deploy()"
   ]
  },
  {
   "cell_type": "code",
   "execution_count": 5,
   "metadata": {},
   "outputs": [
    {
     "name": "stdout",
     "output_type": "stream",
     "text": [
      "Deploying the contract from 0xb61b81a18C43bF4d3861932c20BC8C93CBAcEa39\n",
      ">>> transactionHash0xca1a15741bdf2e05fb48d97e7dc5e83831f975e586dfd40950e1ad743261bdbf\n",
      ">>> RECEPIT hash: 0xca1a15741bdf2e05fb48d97e7dc5e83831f975e586dfd40950e1ad743261bdbf\n",
      ">>> address:0xA0CD2baDdFbF84Fa6FDa41180053451adD2058B7\n",
      "---> The contract deployed to: 0xA0CD2baDdFbF84Fa6FDa41180053451adD2058B7\n"
     ]
    }
   ],
   "source": [
    "!node src/C1Deploy.js"
   ]
  },
  {
   "cell_type": "markdown",
   "metadata": {},
   "source": [
    "C1의 사용"
   ]
  },
  {
   "cell_type": "code",
   "execution_count": 6,
   "metadata": {},
   "outputs": [
    {
     "name": "stdout",
     "output_type": "stream",
     "text": [
      "Overwriting src/C1Use.js\n"
     ]
    }
   ],
   "source": [
    "%%writefile src/C1Use.js\n",
    "var Web3=require('web3');\n",
    "var web3=new Web3(new Web3.providers.HttpProvider(\"http://127.0.0.1:8345\"));\n",
    "var fs=require('fs');\n",
    "var _str = fs.readFileSync(\"src/C1.json\");\n",
    "var _json=JSON.parse(_str)\n",
    "//var _abiArray=JSON.parse(_json.contracts.sHello2.abi);\n",
    "var _abiArray=JSON.parse(_json.contracts[\"src/C1.sol:C1\"].abi);\n",
    "\n",
    "var c1 = new web3.eth.Contract(_abiArray, \"0xA0CD2baDdFbF84Fa6FDa41180053451adD2058B7\");\n",
    "async function doIt() {\n",
    "    const accounts = await web3.eth.getAccounts();\n",
    "    console.log(\"Account: \" + accounts[0]);\n",
    "    const balanceBefore = await web3.eth.getBalance(accounts[0]);\n",
    "    console.log(\"Balance before: \" + balanceBefore);\n",
    "    c1.methods.get7().call().then(console.log);\n",
    "    await c1.methods.set(9).send({from: accounts[0],gas:50000});\n",
    "    c1.methods.get().call().then(console.log);\n",
    "    const balanceAfter = await web3.eth.getBalance(accounts[0]);\n",
    "    console.log(\"Balance after: \" + balanceAfter);\n",
    "    console.log(\"Balance diff: \" + (balanceBefore - balanceAfter));\n",
    "    //hello.methods.kill().send({from: accounts[0]})\n",
    "}\n",
    "\n",
    "doIt()"
   ]
  },
  {
   "cell_type": "code",
   "execution_count": 7,
   "metadata": {},
   "outputs": [
    {
     "name": "stdout",
     "output_type": "stream",
     "text": [
      "Account: 0xb61b81a18C43bF4d3861932c20BC8C93CBAcEa39\n",
      "Balance before: 99997097540000000000\n",
      "7\n",
      "9\n",
      "Balance after: 99996251440000000000\n",
      "Balance diff: 846099999997952\n"
     ]
    }
   ],
   "source": [
    "!node src/C1Use.js"
   ]
  },
  {
   "cell_type": "markdown",
   "metadata": {},
   "source": [
    "C2 개발"
   ]
  },
  {
   "cell_type": "code",
   "execution_count": 8,
   "metadata": {},
   "outputs": [
    {
     "name": "stdout",
     "output_type": "stream",
     "text": [
      "Writing src/C2.sol\n"
     ]
    }
   ],
   "source": [
    "%%writefile src/C2.sol\n",
    "pragma solidity 0.6;\n",
    "//pragma solidity 0.4.21;\n",
    "import \"./C1.sol\"; //Import문에서 읽어옴\n",
    "\n",
    "contract C2 {\n",
    "    C1 c1;\n",
    "    //function C2() public {  //0.4.21 constructor\n",
    "    constructor() public {    //0.6 constructor\n",
    "        c1=new C1();\n",
    "    }\n",
    "    function setC1(address _addressOfC1) public {\n",
    "        c1 = C1(_addressOfC1);\n",
    "    }\n",
    "    function set(uint128 _v1) public { //C1의 배포 주소를 여기에 넘겨주어서 사용함\n",
    "        c1.set(_v1);\n",
    "    }\n",
    "    function get() public view returns(uint128) {\n",
    "        return c1.get();\n",
    "    }\n",
    "    function get7() public view returns(uint128) {\n",
    "        return c1.get7();\n",
    "    }\n",
    "    function getC1Address() public view returns(address) { //주소 가져오기\n",
    "        return address(c1);\n",
    "    }\n",
    "}"
   ]
  },
  {
   "cell_type": "markdown",
   "metadata": {},
   "source": [
    "C2 컴파일"
   ]
  },
  {
   "cell_type": "code",
   "execution_count": 9,
   "metadata": {},
   "outputs": [],
   "source": [
    "!solc src/C2.sol --combined-json abi,bin > src/C2.json"
   ]
  },
  {
   "cell_type": "markdown",
   "metadata": {},
   "source": [
    "C2 배포"
   ]
  },
  {
   "cell_type": "code",
   "execution_count": 10,
   "metadata": {},
   "outputs": [
    {
     "name": "stdout",
     "output_type": "stream",
     "text": [
      "Writing src/C2Deploy.js\n"
     ]
    }
   ],
   "source": [
    "%%writefile src/C2Deploy.js\n",
    "var Web3 = require('web3');\n",
    "var web3 = new Web3(new Web3.providers.HttpProvider(\"http://127.0.0.1:8345\"));\n",
    "var fs=require('fs');\n",
    "var _str = fs.readFileSync(\"src/C2.json\");\n",
    "var _json = JSON.parse(_str)\n",
    "//var _abiArray = JSON.parse(_json.contracts.sHello2.abi);\n",
    "var _abiArray = JSON.parse(_json.contracts[\"src/C2.sol:C2\"].abi);\n",
    "//var _bin = _json.contracts.sHello2.bin;\n",
    "var _bin = \"0x\"+_json.contracts[\"src/C2.sol:C2\"].bin;\n",
    "\n",
    "//unlock the account with a password provided\n",
    "//web3.personal.unlockAccount(web3.eth.accounts[0],'password');\n",
    "async function deploy() {\n",
    "    const accounts = await web3.eth.getAccounts();\n",
    "    console.log(\"Deploying the contract from \" + accounts[0]);\n",
    "    var deployed = await new web3.eth.Contract(_abiArray)\n",
    "        .deploy({data: _bin})\n",
    "        .send({from: accounts[0], gas: 1000000})\n",
    "        .on('transactionHash', function(hash){\n",
    "            console.log(\">>> transactionHash\" + hash);\n",
    "        })\n",
    "        .on('receipt', function(receipt){\n",
    "            console.log(\">>> RECEPIT hash: \" + receipt.transactionHash + \"\\n>>> address:\" + receipt.contractAddress);\n",
    "        })\n",
    "        .on('error', function(error, receipt) {\n",
    "            console.log(\">>> ERROR \" + error);\n",
    "        });\n",
    "        //.then(function(newContractInstance){\n",
    "        //    console.log(newContractInstance.options.address)\n",
    "        //});\n",
    "    console.log(\"---> The contract deployed to: \" + deployed.options.address)\n",
    "}\n",
    "deploy()"
   ]
  },
  {
   "cell_type": "code",
   "execution_count": 12,
   "metadata": {},
   "outputs": [
    {
     "name": "stdout",
     "output_type": "stream",
     "text": [
      "Deploying the contract from 0xb61b81a18C43bF4d3861932c20BC8C93CBAcEa39\n",
      ">>> transactionHash0xa4941b848cf55af9e2c841b373a6693dbf89d9d6da3385d2609d149d3fb3105d\n",
      ">>> RECEPIT hash: 0xa4941b848cf55af9e2c841b373a6693dbf89d9d6da3385d2609d149d3fb3105d\n",
      ">>> address:0xDAec4Fdc1071D05A666ca20c118c0A798B5dFB12\n",
      "---> The contract deployed to: 0xDAec4Fdc1071D05A666ca20c118c0A798B5dFB12\n"
     ]
    }
   ],
   "source": [
    "!node src/C2Deploy.js"
   ]
  },
  {
   "cell_type": "markdown",
   "metadata": {},
   "source": [
    "C2 사용"
   ]
  },
  {
   "cell_type": "code",
   "execution_count": 13,
   "metadata": {},
   "outputs": [
    {
     "name": "stdout",
     "output_type": "stream",
     "text": [
      "Writing src/C2Use.js\n"
     ]
    }
   ],
   "source": [
    "%%writefile src/C2Use.js\n",
    "var Web3=require('web3');\n",
    "var web3 = new Web3(new Web3.providers.HttpProvider(\"http://127.0.0.1:8345\"));\n",
    "var fs=require('fs');\n",
    "var _str = fs.readFileSync(\"src/C2.json\");\n",
    "var _json = JSON.parse(_str)\n",
    "//var _abiArray = JSON.parse(_json.contracts.sHello2.abi);\n",
    "var _abiArray = JSON.parse(_json.contracts[\"src/C2.sol:C2\"].abi);\n",
    "\n",
    "var c2 = new web3.eth.Contract(_abiArray, \"0xb5b6b591f8B4E7A4C52CFe7fa9a7e790b9bbe97E\");\n",
    "async function doIt() {\n",
    "    const accounts = await web3.eth.getAccounts();\n",
    "    console.log(\"Account: \" + accounts[0]);\n",
    "    const balanceBefore = await web3.eth.getBalance(accounts[0]);\n",
    "    console.log(\"Balance before: \" + balanceBefore);\n",
    "    console.log(\"--- new C1 ---\");\n",
    "    await c2.methods.getC1Address().call(function(err, c1addr) {\n",
    "        if(!err) console.log(\"c1 address by 'new': \"+c1addr); //주소 출력 \n",
    "    });\n",
    "    await c2.methods.get7().call().then(console.log);\n",
    "    console.log(\"--- set the above deployed address of C1 ---\"); // 아래 주소는 위의 C1 디폴로이후 얻은 주소를 넣는 것 \n",
    "    await c2.methods.setC1(\"0xA0CD2baDdFbF84Fa6FDa41180053451adD2058B7\").send({from:accounts[0], gas:50000});\n",
    "    await c2.methods.getC1Address().call(function(err, c1addr) {\n",
    "        if(!err) console.log(\"c1 address by 'setC1()': \"+c1addr); //바꾼 주소 출력\n",
    "    });\n",
    "    c2.methods.get7().call().then(console.log);\n",
    "    await c2.methods.set(222).send({from: accounts[0],gas:50000});\n",
    "    c2.methods.get().call().then(console.log);\n",
    "    const balanceAfter = await web3.eth.getBalance(accounts[0]);\n",
    "    console.log(\"Balance after: \" + balanceAfter);\n",
    "    console.log(\"Balance diff: \" + (balanceBefore - balanceAfter));\n",
    "    //hello.methods.kill().send({from: accounts[0]})\n",
    "}\n",
    "\n",
    "doIt()"
   ]
  },
  {
   "cell_type": "code",
   "execution_count": 14,
   "metadata": {},
   "outputs": [
    {
     "name": "stdout",
     "output_type": "stream",
     "text": [
      "Account: 0xb61b81a18C43bF4d3861932c20BC8C93CBAcEa39\n",
      "Balance before: 99978662560000000000\n",
      "--- new C1 ---\n",
      "c1 address by 'new': 0xc60D40C4567bAAD29D9C6EC672fBdD973172847b\n",
      "7\n",
      "--- set the above deployed address of C1 ---\n",
      "c1 address by 'setC1()': 0xA0CD2baDdFbF84Fa6FDa41180053451adD2058B7\n",
      "7\n",
      "222\n",
      "Balance after: 99977512120000000000\n",
      "Balance diff: 1150439999995904\n"
     ]
    }
   ],
   "source": [
    "!node src/C2Use.js"
   ]
  },
  {
   "cell_type": "code",
   "execution_count": 15,
   "metadata": {},
   "outputs": [
    {
     "name": "stdout",
     "output_type": "stream",
     "text": [
      "Account: 0xb61b81a18C43bF4d3861932c20BC8C93CBAcEa39\n",
      "Balance before: 99977512120000000000\n",
      "--- new C1 ---\n",
      "c1 address by 'new': 0xA0CD2baDdFbF84Fa6FDa41180053451adD2058B7\n",
      "7\n",
      "--- set the above deployed address of C1 ---\n",
      "c1 address by 'setC1()': 0xA0CD2baDdFbF84Fa6FDa41180053451adD2058B7\n",
      "7\n",
      "222\n",
      "Balance after: 99976529680000000000\n",
      "Balance diff: 982440000012288\n"
     ]
    }
   ],
   "source": [
    "!node src/C2Use.js"
   ]
  },
  {
   "cell_type": "markdown",
   "metadata": {},
   "source": [
    "2회 실행하면 C1의 주소가 같아짐. constructor는 몇번 실행되나?\n",
    "객체가 만들어질 때 처음, 즉 최초에만 실행이 됨.\n",
    "두 번째 실행될 때에는 현재 만들어진 객체를 쓰게 됨. 잘 기억하기.\n",
    "때문에 C1의 주소가 new명령어를 쓰나, setC1()을 하나 같아지게 됨 \n",
    "\n",
    "블록체인에서의 객체는 state를 계속 유지하는 것. 잘 기억하기!!!\n",
    "컨스트럭터는 객체를 만들 때 처음에만 실행되고, 그 이후로는 state 유지 기능으로 쓰임"
   ]
  },
  {
   "cell_type": "code",
   "execution_count": null,
   "metadata": {},
   "outputs": [],
   "source": []
  }
 ],
 "metadata": {
  "kernelspec": {
   "display_name": "Python 3",
   "language": "python",
   "name": "python3"
  },
  "language_info": {
   "codemirror_mode": {
    "name": "ipython",
    "version": 3
   },
   "file_extension": ".py",
   "mimetype": "text/x-python",
   "name": "python",
   "nbconvert_exporter": "python",
   "pygments_lexer": "ipython3",
   "version": "3.7.6"
  }
 },
 "nbformat": 4,
 "nbformat_minor": 4
}
