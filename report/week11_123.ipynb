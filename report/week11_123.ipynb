{
 "cells": [
  {
   "cell_type": "markdown",
   "metadata": {},
   "source": [
    "## address\n",
    "address는 계정의 주소로 20바이트 길이를 가짐.\n",
    "addresss 객체로서 잔고 조회, 입출금이 가능하며, 이 경우 address payable로 선언해야 함\n",
    "\n",
    "### 잔고 조회\n",
    "계정의 잔액 wei 단위를 조회 할 수 있다. 여기서는 누구나 내 잔고를 읽을 수 있다. \n",
    "현재 컨트랙의 잔고는 address(this).balance로 구할 수 있다.\n",
    "this.balance와 같이 하면 this는 현재 인스턴스를 의미하기 때문에 잔고를 구할 수 없다.\n",
    "\n",
    "Solidity 0.5.0부터는 address(this).balance를 사용해야 한다.\n",
    "(this는 contract자신의 주소를 말함)\n",
    "> this.myFunction()\n",
    "\n",
    "### 송금 \n",
    "입금은 어느 계좌로든 가능하다. 출금은 오직 자신의 주소에서만 가능하다.\n",
    "자신의 주소는 unlock, sign할 수 있으니 출금이 가능하다!\n",
    "금액의 단위는 Wei이다. \n",
    "0.5.0버전부터는 주소에서 transfer()함수를 사용하여 송금하려면 address payable로 선언해야 한다.\n",
    "> address payalbe owner;\n",
    "\n",
    "- send() \n",
    "수신계정으로 송금한다. 송금의 성공or실패 여부는 boolean으로 반환한다.\n",
    "call stack error 또는 out of gas error 등의 이유로 실패하는 경우에도 예외 Execption이 발생하지 않고 false를 반환하게 된다. \n",
    "\n",
    "실패할 경우를 대비하여 require(address.sedn(amount)를 넣어주면 코드가 여기서 중단하게 된다.\n",
    "\n",
    "receiver.send()함수가 실패되면, fallback 함수가 실행되는데 이때 최대 2300gas를 사용할 수 있다. 2300을 초과하는 금액을 저장 및 송금, 다른 컨트랙을 호출하면 out-of-gas 예외가 발생한다.\n",
    "\n",
    "throw가 발생하면\n",
    "- 송신자에게 송금액이 반환되어 원위치로 돌아가게 된다.\n",
    "- gas는 당연히 소비되었으므로 반환되지 않는다. \n",
    "- gas잔액이 남아도 반환되지 않고 모두 소비된 것으로 한다.\n",
    "- 여러 계정에 송금하는 중 throw 발생 시 나머지 송금계정에는 송금이 아예 발생하지 않는다. \n",
    "\n",
    "> address_receiver = 받는 주소;\n",
    "  if(myAddress.balance>=10) _receiver.send(10);\n",
    "\n",
    "자신의 잔고가 10(wei)이상이면 받는 주소에게 10만큼 송금하는 것이다.\n",
    " \n",
    "\n",
    "- transfer()\n",
    "실패하면 throw 예외를 발생시키고, 호출자에게 환급된다. \n",
    "따라서 send()를 사용하는 것보다 예외처리에 용이하다.\n",
    "send()와 마찬가지로 2300gas를 사용할 수 있다.\n",
    "> address.transfer(amount)\n",
    "\n",
    "()안에 송금금액을 적는다.\n",
    "\n",
    "\n",
    "- call()\n",
    "call, callcode, delegatecall은 가급적 쓰지 않는다. call함수는 gas를 정해서 처리하는 경우에 쓴다. 이 함수는 addr.send(x)와 동일한 기능을 할 수 있다. 단 수신 측에 gas를 사용할 수 있게 하기 때문에 악의적으로 쓰일 수 있다.\n",
    "> <받는측의 주소>.call.value(20)  \n",
    "\n",
    "20wei를 송금한다.\n",
    "\n",
    "> <address>.gas(2).value(20)()\n",
    "    "
   ]
  },
  {
   "cell_type": "markdown",
   "metadata": {},
   "source": [
    "# Remix - IntBoolTest 파일"
   ]
  },
  {
   "cell_type": "code",
   "execution_count": 2,
   "metadata": {},
   "outputs": [
    {
     "name": "stdout",
     "output_type": "stream",
     "text": [
      "Writing src/IntBoolTest.sol\n"
     ]
    }
   ],
   "source": [
    "%%writefile src/IntBoolTest.sol\n",
    "pragma solidity ^0.4.0;\n",
    "\n",
    "contract IntBoolTest {\n",
    "    bool married = true;\n",
    "    uint256 xAge = 22;\n",
    "    uint256 yAge = 25;\n",
    "    //fixed phi; // = 3.14;\n",
    "    function update() public {\n",
    "        xAge = yAge;\n",
    "        yAge = 33;\n",
    "    }\n",
    "    function setXAge(int age) public {\n",
    "        xAge = uint(age);  //converstion\n",
    "    }\n",
    "    function getXAge() public view returns(uint) {\n",
    "        return xAge;\n",
    "    }\n",
    "    function getYAge() public view returns(uint) {\n",
    "        return yAge;\n",
    "    }\n",
    "    function testInt() public view returns(bool) {\n",
    "        assert(xAge>=20 && yAge>=20);\n",
    "        return true;\n",
    "    }\n",
    "    function isMarried() public view returns(bool) {\n",
    "        return married;\n",
    "    }\n",
    "}"
   ]
  },
  {
   "cell_type": "markdown",
   "metadata": {},
   "source": [
    "# Remix - ByteStringTest 파일"
   ]
  },
  {
   "cell_type": "code",
   "execution_count": 3,
   "metadata": {},
   "outputs": [
    {
     "name": "stdout",
     "output_type": "stream",
     "text": [
      "Writing src/ByteStringTest.sol\n"
     ]
    }
   ],
   "source": [
    "%%writefile src/ByteStringTest.sol\n",
    "\n",
    "pragma solidity ^0.4.0;\n",
    "contract BytesStringTest {\n",
    "    byte b = 0xFF;\n",
    "    bytes1 b1 = 0xFF;\n",
    "    bytes2 b2 = 0xFFAA;\n",
    "    bytes8 place8 = \"7 hongji\";\n",
    "    bytes23 place23 = \"7 hongji-dong jongro-gu\";\n",
    "    bytes place = \"7 hongji-dong jongro-gu Seoul\"; //variable length\n",
    "    bytes myBytes = new bytes(3);  //0x000000\n",
    "    string constant name = \"sha\"; //utf-8 string \"jsl\"\n",
    "    function getB1() public view returns(byte) {\n",
    "        return b1;  //byte, so no casting required\n",
    "    }\n",
    "    function getB2() public view returns(bytes2) {\n",
    "        return b2;\n",
    "    }\n",
    "    function getB23() public view returns(bytes23) {\n",
    "        return place23;  //fixed size, value type (no memory)\n",
    "    }\n",
    "    /**@return hex bytes. reference type should be set as memory*/\n",
    "    function getBytes() public view returns(bytes memory) {\n",
    "        return myBytes;  //smu in hex 0x736d75\n",
    "    }\n",
    "    function getLengOfBytes23 () view public returns(uint) {\n",
    "        return place23.length;  // returns 23\n",
    "    }\n",
    "    function getLenOfBytes() pure public returns(uint) {\n",
    "        bytes memory bm = \"7 hongji-dong jongro-gu\";\n",
    "        return bm.length;        // returns 23\n",
    "    }\n",
    "    //need the arg in hex e.g. bytes1 0x61 bytes2 0x6161\n",
    "    //a 61, b 62, ... , y 79\n",
    "    //try invalid type, e.g. bytes2 0x61 or 0x616161\n",
    "    function setB2(bytes2 _b2) public {\n",
    "        b2=_b2;\n",
    "    }\n",
    "    function setBytes() public {\n",
    "        myBytes=\"smu\";\n",
    "    }\n",
    "    function getLenOfString() pure public returns(uint) {\n",
    "        string memory nameLocal=\"jslLocal\";\n",
    "        //return nameLocal.length;  //error, casting required\n",
    "        return bytes(nameLocal).length;\n",
    "    }\n",
    "    function getString() pure public returns(string memory) {\n",
    "        string memory s = \"한글\";\n",
    "        //bytes memory b4 = \"한글\";  //ok. bytes is a ref type, so memory used\n",
    "        return s;\n",
    "    }\n",
    "}"
   ]
  },
  {
   "cell_type": "markdown",
   "metadata": {},
   "source": [
    "# Remix - AddressTest 파일"
   ]
  },
  {
   "cell_type": "code",
   "execution_count": 1,
   "metadata": {},
   "outputs": [
    {
     "name": "stdout",
     "output_type": "stream",
     "text": [
      "Writing src/AddressTest.sol\n"
     ]
    }
   ],
   "source": [
    "%%writefile src/AddressTest.sol\n",
    "pragma solidity ^0.5.0;\n",
    "contract AddressTest {\n",
    "    address owner; // 컨트랙 제작자\n",
    "    address payable receiver; // 수신측 계정, 돈이 왔다 갔다 할거니까 payable 선언\n",
    "    uint balanceOfOwner; // 잔고\n",
    "    constructor() public {\n",
    "        owner = msg.sender; // 오너 정하기, msg.owner는 전송측 주소\n",
    "        balanceOfOwner = owner.balance; // 오너는 주소를 말하고, 이 주소의 잔고를 말함\n",
    "    }\n",
    "    function deposit() payable public { // 전송자가 보낸 ether를 addressTest에 저장하는 기능 \n",
    "    }// value에 적은 값이 이 컨트랙으로 이체됨\n",
    "    function setReceiver(address payable addr) public { // 주소 설정\n",
    "        receiver = addr;\n",
    "    }\n",
    "    function getReceiver() view public returns(address) {\n",
    "        return receiver; // setReceiver에서 설정한 주소를 반환함\n",
    "    }\n",
    "    function getBalanceOfThis() public view returns(uint) { // 컨트랙의 잔고 반환\n",
    "        return address(this).balance;\n",
    "    }\n",
    "    function getBalanceOfOwner() public view returns(uint) { // 송신자의 잔고 반환\n",
    "        return owner.balance;\n",
    "    }\n",
    "    function getBalanceOfReceiver() public view returns(uint) { // 수신자의 잔고 반환\n",
    "        return receiver.balance;\n",
    "    }\n",
    "    function send() public payable { // 수신측으로 send()한다\n",
    "        require(receiver.send(111));\n",
    "    }\n",
    "    function transfer() public payable {\n",
    "        receiver.transfer(11111); // require을 쓸 수 없음. sender는 return값이 TorF이므로 가능했다.\n",
    "    }\n",
    "    function callValue() public payable {\n",
    "        receiver.call.value(11111)(\"\");\n",
    "        receiver.call.gas(10).value(11111)(\"\");\n",
    "    }\n",
    "}"
   ]
  },
  {
   "cell_type": "markdown",
   "metadata": {},
   "source": [
    "# 2번째 영상"
   ]
  },
  {
   "cell_type": "markdown",
   "metadata": {},
   "source": [
    "## 저장장소\n",
    "참조형 타입에는 크게 storage, memory, stack, calldata가 있다.\n",
    "- storage : 32바이트 길이의 key-value 형식으로 저장되고, 계속 유지되는 경우. \n",
    "컨트랙의 모든 함수에서 값을 볼 수 있음. 컨트랙의 상태변수는 기본 값이 storage이며, 일단 저장이 되면 영원히 저장됨.\n",
    "\n",
    "- memory : 단기간 저장하는 경우 사용됨.\n",
    "지역변수는 함수 내에서만 짧은 시간 동안 사용되므로, memory 수식어를 붙여줌. 함수 내에서만 짧은 시간 동안 사용되므로 memory 수식어를 붙여줌. 함수의 인자or 반환 값은 Memory를 사용함. 단, struct, array or mapping과 같은 reference type은 지역 변수라 해도 storage가 기본 값임.\n",
    "\n",
    "- stack : 지역변수(array, stuct, mapping 제외)를 저장하는 stack.\n",
    "1024수준까지 저장할 수 있고 그 이상은 예외처리 됨. 비용은 memory와 동일함.\n",
    "\n",
    "- calldata : 외부에서 함수 호출 시 호출자가 제공하는 함수인자를 저장함.\n",
    "\n",
    "### 요약하면, 상태변수는 storage에 저장. value 타입 지역변수, 함수인자/반환은 memory를 기본 default로 사용함. 단, 함수에서 사용되는 참조타입(struct, array, mapping, string)은 기본이 storage이고, memory를 사용하려면 선언이 필요함"
   ]
  },
  {
   "cell_type": "markdown",
   "metadata": {},
   "source": [
    "## 가시성\n",
    "지역변수는 자신이 선언된 함수에 국한되어 쓸 수있다. 반면 멤버변수 state varaviable은 사용할 수 있는 범위를 제어할 수 있다.\n",
    "- 가시성을 적어주지 않으면 기본 값은 internal로 정의됨. 이는 컨트랙 내부에서만 쓸 수 있고, 상속 시 자식이 물려받을 수 있다.\n",
    "- external은 외부에서 호출하는 경우에만 허용됨. 내부에서 사용시 this.f()로 호출해야함\n",
    "- 외부에서 쓰려면 public으로 선언하기. \n",
    "- 블록체인 내부에서 컨트랙 자신만 쓸 수 있고, 객체지향 private와 동일한 의미임\n"
   ]
  },
  {
   "cell_type": "code",
   "execution_count": 4,
   "metadata": {},
   "outputs": [
    {
     "name": "stdout",
     "output_type": "stream",
     "text": [
      "Writing src/MyBank1.sol\n"
     ]
    }
   ],
   "source": [
    "%%writefile src/MyBank1.sol\n",
    "pragma solidity ^0.6.0;\n",
    "\n",
    "contract MyBank {\n",
    "    address payable owner;\n",
    "    uint balance; //contract balance\n",
    "    constructor() public {\n",
    "        owner = msg.sender;\n",
    "        balance = address(this).balance; //contract balance\n",
    "    }\n",
    "    \n",
    "    // value에 적은 값이 이 컨트랙으로 이체됨\n",
    "    function deposit(uint amount) public payable {\n",
    "        require(msg.value == amount);// 입금되는 금액은 msg.value라는 전역변수에서 읽어올 수 있음.\n",
    "        balance += amount;\n",
    "    }\n",
    "    \n",
    "    // 인출하는 함수\n",
    "    function withdraw(uint amount) public payable {\n",
    "        balance -= amount; // 인출이니 계좌잔고에서 인출 값(amount)만큼을 빼주어야 함\n",
    "        owner.transfer(amount); // owner에게 계좌 이체하기\n",
    "    }\n",
    "    \n",
    "    // 계정을 정해서 인출하기 \n",
    "    function transferTo(address payable receiver, uint amount) public payable { //받는 계정, 송금 금액\n",
    "        balance -= amount;\n",
    "        receiver.transfer(amount); //receiver에게 계좌이체 하기\n",
    "    }\n",
    "    \n",
    "    // 잔고를 구하는 함수\n",
    "    function getBalance() public view returns(uint) {\n",
    "        return balance;\n",
    "    }\n",
    "    \n",
    "    // 컨트랙의 잔고를 구하는 함수\n",
    "    function getBalanceOfThis() public  view returns(uint) {\n",
    "        return address(this).balance;\n",
    "    }\n",
    "    \n",
    "    // 오너의 잔고 구하기\n",
    "    function getBalanceOfOwner() public view returns(uint) {\n",
    "        return owner.balance;\n",
    "    }\n",
    "}"
   ]
  },
  {
   "cell_type": "markdown",
   "metadata": {},
   "source": [
    "# 3번째 영상"
   ]
  },
  {
   "cell_type": "markdown",
   "metadata": {},
   "source": [
    "## 형변환\n",
    "데이터타입의 크기에 대해 주의해야한다. 메모리 절약 방식으로 솔리디티가 사용되기 때문이다.\n",
    "예를들어 int8에서 int(32bytes)로 변환 시, 작은것에서 큰걸로 변환 시 그냥 괄호안에 써주면 된다.\n",
    "> int8 i8 = 20;\n",
    "  uint i256 = int(i8);\n",
    "\n",
    "uint는 bytes32로 변환가능하다.\n",
    "> uint x=20;\n",
    "  bytes32(x);\n",
    "\n",
    "int는 bytes로 바로 형변환이 불가능하다. int는 int256, 즉 32바이트이므로 bytes32로 변환한 후, 이를 bytes로 변환해야 한다. 바이트마다 옮겨주어야 한다...\n",
    "\n",
    "ex) 0x68656c6c는 16진수, 8자리이다. 한 자리에는 0,1,2,....,D, E,F까지 2^4 가지를 표현할 수 있고, 4bit가 소요된다. 이 데이터 bytes4를 bytes2로 변환해보자. 오버플로우는 위 4자리부터 잘려 나가게 된다. 따라서 0x6865가 저장된다. \n",
    "\n",
    "- string을 bytes로 변환하는 경우\n",
    "> string s = \"hello\";\n",
    "  bytes b = bytes(s);  //0x68656c6c6f\n",
    " \n",
    "address payable은 지급계정으로 사용할 때 payable을 붙이잖아요? 그럼 address로의 형변환은 가능하지만, 반대는 허용되지 않는다. 반대로하려면 중간에 하나를 거쳐야한다. address -> uint160 -> address payable로 20바이트의 정수로 변환한 후 한다.\n",
    "\n",
    "Q.왜 uint16으로 하지? address가 20byte니까, 16*8하면 160bit가 되기 때문."
   ]
  },
  {
   "cell_type": "code",
   "execution_count": 5,
   "metadata": {},
   "outputs": [
    {
     "name": "stdout",
     "output_type": "stream",
     "text": [
      "Writing src/DataConversionTest.sol\n"
     ]
    }
   ],
   "source": [
    "%%writefile src/DataConversionTest.sol\n",
    "\n",
    "pragma solidity ^0.6.0;\n",
    "\n",
    "contract DataConversionTest {\n",
    "    function convertInt8ToInt() pure public returns(int) {\n",
    "        int8 i8 = 20;\n",
    "        return int(i8); //20\n",
    "    }\n",
    "    \n",
    "    function convertIntToBytes32() pure public returns(bytes32) {\n",
    "        uint x = 20;\n",
    "        return bytes32(x); // bytes32로 형변환, 10진수, 0x0000,,,14\n",
    "    }\n",
    "    \n",
    "    function convertInt64ToBytes8() pure public returns(bytes8) {\n",
    "        uint64 x = 10;\n",
    "        return bytes8(x); // 0x0000...aa\n",
    "    }\n",
    "    \n",
    "    function convertIntToBytes() pure public returns(bytes memory) {\n",
    "        uint x = 20;\n",
    "        bytes32 y = bytes32(x);\n",
    "        bytes memory z = new bytes(32); // 데이터를 받을 bytes, bytes는 참조형이므로 memory가 되어야 함\n",
    "        for(uint i=0; i<32; i++) {\n",
    "            z[i] = y[i];\n",
    "        }\n",
    "        return z; // 0 is 60.\n",
    "    }\n",
    "    \n",
    "    function convertStringToBytes() pure public returns(bytes memory) {\n",
    "        string memory s = \"hello\";\n",
    "        return bytes(s);\n",
    "    }\n",
    "    \n",
    "    function convertBytes4ToBytes2() pure public returns(bytes2) {\n",
    "        bytes4 b4 = 0x68656c6c;\n",
    "        return bytes2(b4); //overflow occur\n",
    "    }\n",
    "    \n",
    "    function convertBytes4ToInt32() pure public returns(int32) {\n",
    "        bytes4 b4 = 0x68656c6c;\n",
    "        return int32(b4); //16 -> 10, no hex, int 10\n",
    "    }\n",
    "}"
   ]
  },
  {
   "cell_type": "markdown",
   "metadata": {},
   "source": [
    "## 전역변수\n",
    "- 화폐단위 wei 10^18, 1ether는 1000000000000000000이다.\n",
    "> 1ether == 1000 finney\n",
    "- 시간 years는 지원되지 않으며, seconds로 표시됨. now는 현재시간, block.timestamp와 동일함\n",
    "> 1 == 1 seconds, 1 days == 86400 seconds\n",
    "\n",
    "- 트랜잭션 관련 전역변수 (tx)\n",
    "  - tx.origin 트랜잭션에 사인한 계정, msg.sender와 같은 의미임.\n",
    "  - tx.gasprice 트랜잭션 호출자가 명시한 gas price\n",
    "  \n",
    "- msg 컨트랙의 함수를 호출한 전송 관련 정보\n",
    "  - msg.data : call데이터 (bytes값으로 표현)\n",
    "  - msg.gas : gas 잔여분\n",
    "  - msg.sender : 현재 함수를 호출하는 측의 주소\n",
    "     - 거래가 호출자 O1 -> 컨트랙 C1 -> 컨트랙C2의 순서대로 완성될 경우 :\n",
    "     - C2에서는 msg.sender는 바로 직전의 호출자 C1을 말하며, 따라서 컨트랙 가능함\n",
    "     - 반면에 tx.origin은 컨트랙이 될 수 없음\n",
    "  - msg.value : 컨트랙에 지급되는 ether(단위는 wei)\n",
    "\n",
    "- block\n",
    "  - block.coinbase : 현재 블록의 마이너의 주소, 즉 지급 계정\n",
    "  - block.difficulty : 현재 블록의 난이도\n",
    "  - block.gaslimit : 현재 블록의 gaslimit\n",
    "  - block.number : 현재 블록의 수\n",
    "  - block.blockhash : 현재 블록 해쉬 값, 블록에서 블록에 붙여진 해쉬값\n",
    "  - block.timestamp : 현재 블록 타임스탬프 epoch(경과된 수)(1970년 1월 1일 0시) 이후 지나간 초, uint256\n",
    "  \n"
   ]
  },
  {
   "cell_type": "code",
   "execution_count": 7,
   "metadata": {},
   "outputs": [
    {
     "name": "stdout",
     "output_type": "stream",
     "text": [
      "Writing src/GlobalVarsTest.sol\n"
     ]
    }
   ],
   "source": [
    "%%writefile src/GlobalVarsTest.sol\n",
    "\n",
    "pragma solidity ^0.6.0;\n",
    "contract GlobalVarsTest {\n",
    "    function getEther() pure public returns(uint) {\n",
    "        return 1 ether;  // 전역변수, 1000000000000000000\n",
    "    }\n",
    "    \n",
    "    function getDays() view public returns(uint,uint) {\n",
    "        require(block.timestamp==now); // 예외문, 같으면 다음문장을 수행함\n",
    "        return(now, 1 days);\n",
    "    }\n",
    "    \n",
    "    function getMsgValue() view internal returns(uint) {\n",
    "        return msg.value; // 금액이 들어간 필드를 의미함. \n",
    "    }\n",
    "    \n",
    "    function getMsgSender() view public returns(address) {\n",
    "        return msg.sender;\n",
    "    }\n",
    "    \n",
    "    function getCoinbase() view public returns(address) {\n",
    "        return block.coinbase;\n",
    "    }\n",
    "    \n",
    "    function getBlockNumber() view public returns(uint) {\n",
    "        return block.number;\n",
    "    }\n",
    "    \n",
    "    function getBlockTimeStamp() view public returns(uint) {\n",
    "        return block.timestamp;\n",
    "    }\n",
    "}"
   ]
  },
  {
   "cell_type": "code",
   "execution_count": null,
   "metadata": {},
   "outputs": [],
   "source": []
  }
 ],
 "metadata": {
  "kernelspec": {
   "display_name": "Python 3",
   "language": "python",
   "name": "python3"
  },
  "language_info": {
   "codemirror_mode": {
    "name": "ipython",
    "version": 3
   },
   "file_extension": ".py",
   "mimetype": "text/x-python",
   "name": "python",
   "nbconvert_exporter": "python",
   "pygments_lexer": "ipython3",
   "version": "3.7.6"
  }
 },
 "nbformat": 4,
 "nbformat_minor": 4
}
