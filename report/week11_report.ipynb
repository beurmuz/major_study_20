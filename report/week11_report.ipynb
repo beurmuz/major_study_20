{
 "cells": [
  {
   "cell_type": "markdown",
   "metadata": {},
   "source": [
    "## 연습문제: 은행 송금\n",
    "\n",
    "\n",
    "은행은 자신이 계정을 개설하여, 입출금을 할 수 있다.\n",
    "컨트랙을 프로그램하여 아래 기능을 실행하도록 하세요.\n",
    "주피터 노트북으로 프로그램하세요.\n",
    "\n",
    "은행 컨트랙의 함수는 다음과 같이 만드세요.\n",
    "\n",
    "* 입금액을 정해서 입금\n",
    "\tfunction deposit(uint amount) public payable\n",
    "* 전액 인출 함수\n",
    "\tfunction widthdrawAll() public\n",
    "* 컨트랙 잔고확인 함수 (this를 이용한 잔고, 상태변수 잔고 (this 잔고가 맞는지 확인하는 용도)\n",
    "\tfunction getBalance() public view returns(uint, uint)\n",
    "* 다른 계정으로 계좌이체 함수\n",
    "\tfunction forwardTo(address payable _receiver) public payable\n",
    "\n",
    "\n",
    "\n",
    "아래 기능을 실행해 보세요.\n",
    "\n",
    "- 입금 11111 wei, 222 wei를 하고 잔고 11333 wei 출력\n",
    "\n",
    "- 자신의 2번째 계정으로 계좌이체 333 wei하고 컨트랙 잔고 11000 wei 출력, 자신의 2번째 계정 잔고 증가분 (+333 wei) 출력\n",
    "\n",
    "- 전액 인출하고 11000 wei, 자신의 잔고 증가분 출력 (+11000 wei)"
   ]
  },
  {
   "cell_type": "markdown",
   "metadata": {},
   "source": [
    "## 1단계 : 컨트랙개발"
   ]
  },
  {
   "cell_type": "code",
   "execution_count": 2,
   "metadata": {},
   "outputs": [
    {
     "name": "stdout",
     "output_type": "stream",
     "text": [
      "Overwriting src/Bank.sol\n"
     ]
    }
   ],
   "source": [
    "%%writefile src/Bank.sol\n",
    "\n",
    "pragma solidity ^0.5.0;\n",
    "\n",
    "contract Bank {\n",
    "    address payable owner; //sender\n",
    "    uint balance; //contract balance\n",
    "    constructor() public {\n",
    "        owner = msg.sender;\n",
    "        balance = address(this).balance; //contract balance\n",
    "    }\n",
    "    \n",
    "    // 입금액을 정해서 입금하는 함수\n",
    "    function deposit(uint amount) public payable {\n",
    "        require(msg.value == amount);\n",
    "        balance += amount;\n",
    "    }\n",
    "    \n",
    "    // 전액 인출 함수\n",
    "    function widthdrawAll() public {\n",
    "        owner.transfer(address(this).balance);\n",
    "    }\n",
    "    \n",
    "    // 컨트랙 잔고확인 함수 (this를 이용한 잔고, 상태변수 잔고 (this 잔고가 맞는지 확인하는 용도)\n",
    "    function getBalance() public view returns(uint,uint) {\n",
    "        return (address(this).balance, balance); //now contract address balance\n",
    "    }\n",
    "\n",
    "    /*// owner잔고확인 함수\n",
    "    function getBalanceOfOwner() public view returns (uint) {\n",
    "        return owner.balance;\n",
    "    }*/\n",
    "    \n",
    "    // 다른 계정으로 계좌이체 함수\n",
    "    function forwardTo(address payable _receiver) public payable {\n",
    "        _receiver.transfer(333);\n",
    "    }\n",
    "}"
   ]
  },
  {
   "cell_type": "markdown",
   "metadata": {},
   "source": [
    "## 2단계 : 컴파일"
   ]
  },
  {
   "cell_type": "code",
   "execution_count": 3,
   "metadata": {},
   "outputs": [
    {
     "name": "stdout",
     "output_type": "stream",
     "text": [
      "\n",
      "======= src/Bank.sol:Bank =======\n",
      "Binary:\n",
      "608060405234801561001057600080fd5b50336000806101000a81548173ffffffffffffffffffffffffffffffffffffffff021916908373ffffffffffffffffffffffffffffffffffffffff16021790555047600181905550610218806100676000396000f3fe60806040526004361061003f5760003560e01c806312065fe01461004457806327d8ad88146100765780633c459375146100ba578063b6b55f25146100d1575b600080fd5b34801561005057600080fd5b506100596100ff565b604051808381526020018281526020019250505060405180910390f35b6100b86004803603602081101561008c57600080fd5b81019080803573ffffffffffffffffffffffffffffffffffffffff16906020019092919050505061010e565b005b3480156100c657600080fd5b506100cf61015a565b005b6100fd600480360360208110156100e757600080fd5b81019080803590602001909291905050506101c4565b005b60008047600154915091509091565b8073ffffffffffffffffffffffffffffffffffffffff166108fc61014d9081150290604051600060405180830381858888f19350505050158015610156573d6000803e3d6000fd5b5050565b6000809054906101000a900473ffffffffffffffffffffffffffffffffffffffff1673ffffffffffffffffffffffffffffffffffffffff166108fc479081150290604051600060405180830381858888f193505050501580156101c1573d6000803e3d6000fd5b50565b8034146101d057600080fd5b806001600082825401925050819055505056fea265627a7a72315820581c73853680d28134d91d1f07c2b389de89dc030d6b72e7b1fb96375734e9d364736f6c63430005100032\n",
      "Contract JSON ABI\n",
      "[{\"inputs\":[],\"payable\":false,\"stateMutability\":\"nonpayable\",\"type\":\"constructor\"},{\"constant\":false,\"inputs\":[{\"internalType\":\"uint256\",\"name\":\"amount\",\"type\":\"uint256\"}],\"name\":\"deposit\",\"outputs\":[],\"payable\":true,\"stateMutability\":\"payable\",\"type\":\"function\"},{\"constant\":false,\"inputs\":[{\"internalType\":\"address payable\",\"name\":\"_receiver\",\"type\":\"address\"}],\"name\":\"forwardTo\",\"outputs\":[],\"payable\":true,\"stateMutability\":\"payable\",\"type\":\"function\"},{\"constant\":true,\"inputs\":[],\"name\":\"getBalance\",\"outputs\":[{\"internalType\":\"uint256\",\"name\":\"\",\"type\":\"uint256\"},{\"internalType\":\"uint256\",\"name\":\"\",\"type\":\"uint256\"}],\"payable\":false,\"stateMutability\":\"view\",\"type\":\"function\"},{\"constant\":false,\"inputs\":[],\"name\":\"widthdrawAll\",\"outputs\":[],\"payable\":false,\"stateMutability\":\"nonpayable\",\"type\":\"function\"}]\n"
     ]
    }
   ],
   "source": [
    "!solc --abi --bin src/Bank.sol"
   ]
  },
  {
   "cell_type": "code",
   "execution_count": 4,
   "metadata": {},
   "outputs": [
    {
     "name": "stdout",
     "output_type": "stream",
     "text": [
      "\n",
      "======= src/Bank.sol:Bank =======\n",
      "Gas estimation:\n",
      "construction:\n",
      "   41035 + 107200 = 148235\n",
      "external:\n",
      "   deposit(uint256):\t21103\n",
      "   forwardTo(address):\tinfinite\n",
      "   getBalance():\t1027\n",
      "   widthdrawAll():\tinfinite\n"
     ]
    }
   ],
   "source": [
    "!solc --gas src/Bank.sol"
   ]
  },
  {
   "cell_type": "markdown",
   "metadata": {},
   "source": [
    "## 3단계 : 배포"
   ]
  },
  {
   "cell_type": "code",
   "execution_count": 61,
   "metadata": {},
   "outputs": [
    {
     "name": "stdout",
     "output_type": "stream",
     "text": [
      "Overwriting src/BankDeploy.js\n"
     ]
    }
   ],
   "source": [
    "%%writefile src/BankDeploy.js\n",
    "\n",
    "//ganache\n",
    "var Web3=require('web3');\n",
    "var web3;\n",
    "if (typeof web3 !== 'undefined') {\n",
    "    web3 = new Web3(web3.currentProvider);\n",
    "} else {\n",
    "    web3 = new Web3(new Web3.providers.HttpProvider(\"http://127.0.0.1:8345\"));\n",
    "}\n",
    "var _abiArray=[{\"inputs\":[],\"payable\":false,\"stateMutability\":\"nonpayable\",\"type\":\"constructor\"},{\"constant\":false,\"inputs\":[{\"internalType\":\"uint256\",\"name\":\"amount\",\"type\":\"uint256\"}],\"name\":\"deposit\",\"outputs\":[],\"payable\":true,\"stateMutability\":\"payable\",\"type\":\"function\"},{\"constant\":false,\"inputs\":[{\"internalType\":\"address payable\",\"name\":\"_receiver\",\"type\":\"address\"}],\"name\":\"forwardTo\",\"outputs\":[],\"payable\":true,\"stateMutability\":\"payable\",\"type\":\"function\"},{\"constant\":true,\"inputs\":[],\"name\":\"getBalance\",\"outputs\":[{\"internalType\":\"uint256\",\"name\":\"\",\"type\":\"uint256\"},{\"internalType\":\"uint256\",\"name\":\"\",\"type\":\"uint256\"}],\"payable\":false,\"stateMutability\":\"view\",\"type\":\"function\"},{\"constant\":false,\"inputs\":[],\"name\":\"widthdrawAll\",\"outputs\":[],\"payable\":false,\"stateMutability\":\"nonpayable\",\"type\":\"function\"}];\n",
    "var _bin=\"608060405234801561001057600080fd5b50336000806101000a81548173ffffffffffffffffffffffffffffffffffffffff021916908373ffffffffffffffffffffffffffffffffffffffff16021790555047600181905550610218806100676000396000f3fe60806040526004361061003f5760003560e01c806312065fe01461004457806327d8ad88146100765780633c459375146100ba578063b6b55f25146100d1575b600080fd5b34801561005057600080fd5b506100596100ff565b604051808381526020018281526020019250505060405180910390f35b6100b86004803603602081101561008c57600080fd5b81019080803573ffffffffffffffffffffffffffffffffffffffff16906020019092919050505061010e565b005b3480156100c657600080fd5b506100cf61015a565b005b6100fd600480360360208110156100e757600080fd5b81019080803590602001909291905050506101c4565b005b60008047600154915091509091565b8073ffffffffffffffffffffffffffffffffffffffff166108fc61014d9081150290604051600060405180830381858888f19350505050158015610156573d6000803e3d6000fd5b5050565b6000809054906101000a900473ffffffffffffffffffffffffffffffffffffffff1673ffffffffffffffffffffffffffffffffffffffff166108fc479081150290604051600060405180830381858888f193505050501580156101c1573d6000803e3d6000fd5b50565b8034146101d057600080fd5b806001600082825401925050819055505056fea265627a7a72315820581c73853680d28134d91d1f07c2b389de89dc030d6b72e7b1fb96375734e9d364736f6c63430005100032\";\n",
    "var _contract = new web3.eth.Contract(_abiArray);\n",
    "//unlock the account with a password provided\n",
    "//web3.personal.unlockAccount(web3.eth.accounts[0],'password');\n",
    "_contract\n",
    "    .deploy({data:\"0x\"+_bin})\n",
    "    .send({from: \"0x7954C6dD0459cB8e17361738c49e15593aE189ec\", gas: 364124, gasPrice: '1000000000'})\n",
    "    .then(function(newContractInstance){\n",
    "        console.log(newContractInstance.options.address) // instance with the new contract address\n",
    "    });"
   ]
  },
  {
   "cell_type": "code",
   "execution_count": 62,
   "metadata": {},
   "outputs": [
    {
     "name": "stdout",
     "output_type": "stream",
     "text": [
      "0xeBA4a31a432c4Cd54bD0b123e85264CecaCf1f90\n"
     ]
    }
   ],
   "source": [
    "!node src/BankDeploy.js"
   ]
  },
  {
   "cell_type": "markdown",
   "metadata": {},
   "source": [
    "## 4단계 : 사용"
   ]
  },
  {
   "cell_type": "code",
   "execution_count": 71,
   "metadata": {},
   "outputs": [
    {
     "name": "stdout",
     "output_type": "stream",
     "text": [
      "Overwriting src/BankUse11.js\n"
     ]
    }
   ],
   "source": [
    "%%writefile src/BankUse11.js\n",
    "\n",
    "//ganache\n",
    "var Web3=require('web3');\n",
    "var web3 = new Web3(new Web3.providers.HttpProvider(\"http://127.0.0.1:8345\"));\n",
    "var _abiArray=[{\"inputs\":[],\"payable\":false,\"stateMutability\":\"nonpayable\",\"type\":\"constructor\"},{\"constant\":false,\"inputs\":[{\"internalType\":\"uint256\",\"name\":\"amount\",\"type\":\"uint256\"}],\"name\":\"deposit\",\"outputs\":[],\"payable\":true,\"stateMutability\":\"payable\",\"type\":\"function\"},{\"constant\":false,\"inputs\":[{\"internalType\":\"address payable\",\"name\":\"_receiver\",\"type\":\"address\"}],\"name\":\"forwardTo\",\"outputs\":[],\"payable\":true,\"stateMutability\":\"payable\",\"type\":\"function\"},{\"constant\":true,\"inputs\":[],\"name\":\"getBalance\",\"outputs\":[{\"internalType\":\"uint256\",\"name\":\"\",\"type\":\"uint256\"},{\"internalType\":\"uint256\",\"name\":\"\",\"type\":\"uint256\"}],\"payable\":false,\"stateMutability\":\"view\",\"type\":\"function\"},{\"constant\":false,\"inputs\":[],\"name\":\"widthdrawAll\",\"outputs\":[],\"payable\":false,\"stateMutability\":\"nonpayable\",\"type\":\"function\"}];\n",
    "var bank = new web3.eth.Contract(_abiArray,\"0xeBA4a31a432c4Cd54bD0b123e85264CecaCf1f90\");\n",
    "bank.methods.deposit(11111).send({from:\"0x7954C6dD0459cB8e17361738c49e15593aE189ec\",gas:800000,value:11111});\n",
    "bank.methods.deposit(222).send({from:\"0x7954C6dD0459cB8e17361738c49e15593aE189ec\",gas:800000,value:222});"
   ]
  },
  {
   "cell_type": "code",
   "execution_count": 72,
   "metadata": {},
   "outputs": [],
   "source": [
    "!node src/BankUse11.js"
   ]
  },
  {
   "cell_type": "code",
   "execution_count": 73,
   "metadata": {},
   "outputs": [
    {
     "name": "stdout",
     "output_type": "stream",
     "text": [
      "Overwriting src/BankUse12.js\n"
     ]
    }
   ],
   "source": [
    "%%writefile src/BankUse12.js\n",
    "\n",
    "//ganache\n",
    "var Web3=require('web3');\n",
    "var web3 = new Web3(new Web3.providers.HttpProvider(\"http://127.0.0.1:8345\"));\n",
    "var _abiArray=[{\"inputs\":[],\"payable\":false,\"stateMutability\":\"nonpayable\",\"type\":\"constructor\"},{\"constant\":false,\"inputs\":[{\"internalType\":\"uint256\",\"name\":\"amount\",\"type\":\"uint256\"}],\"name\":\"deposit\",\"outputs\":[],\"payable\":true,\"stateMutability\":\"payable\",\"type\":\"function\"},{\"constant\":false,\"inputs\":[{\"internalType\":\"address payable\",\"name\":\"_receiver\",\"type\":\"address\"}],\"name\":\"forwardTo\",\"outputs\":[],\"payable\":true,\"stateMutability\":\"payable\",\"type\":\"function\"},{\"constant\":true,\"inputs\":[],\"name\":\"getBalance\",\"outputs\":[{\"internalType\":\"uint256\",\"name\":\"\",\"type\":\"uint256\"},{\"internalType\":\"uint256\",\"name\":\"\",\"type\":\"uint256\"}],\"payable\":false,\"stateMutability\":\"view\",\"type\":\"function\"},{\"constant\":false,\"inputs\":[],\"name\":\"widthdrawAll\",\"outputs\":[],\"payable\":false,\"stateMutability\":\"nonpayable\",\"type\":\"function\"}];\n",
    "var bank = new web3.eth.Contract(_abiArray,\"0xeBA4a31a432c4Cd54bD0b123e85264CecaCf1f90\");\n",
    "bank.methods.getBalance().call().then(function(value) {console.log(value);});"
   ]
  },
  {
   "cell_type": "code",
   "execution_count": 74,
   "metadata": {},
   "outputs": [
    {
     "name": "stdout",
     "output_type": "stream",
     "text": [
      "Result { '0': '11333', '1': '11333' }\n"
     ]
    }
   ],
   "source": [
    "!node src/BankUse12.js"
   ]
  },
  {
   "cell_type": "code",
   "execution_count": 75,
   "metadata": {},
   "outputs": [
    {
     "name": "stdout",
     "output_type": "stream",
     "text": [
      "Overwriting src/BankUse21.js\n"
     ]
    }
   ],
   "source": [
    "%%writefile src/BankUse21.js\n",
    "\n",
    "//ganache\n",
    "var Web3=require('web3');\n",
    "var web3 = new Web3(new Web3.providers.HttpProvider(\"http://127.0.0.1:8345\"));\n",
    "var _abiArray=[{\"inputs\":[],\"payable\":false,\"stateMutability\":\"nonpayable\",\"type\":\"constructor\"},{\"constant\":false,\"inputs\":[{\"internalType\":\"uint256\",\"name\":\"amount\",\"type\":\"uint256\"}],\"name\":\"deposit\",\"outputs\":[],\"payable\":true,\"stateMutability\":\"payable\",\"type\":\"function\"},{\"constant\":false,\"inputs\":[{\"internalType\":\"address payable\",\"name\":\"_receiver\",\"type\":\"address\"}],\"name\":\"forwardTo\",\"outputs\":[],\"payable\":true,\"stateMutability\":\"payable\",\"type\":\"function\"},{\"constant\":true,\"inputs\":[],\"name\":\"getBalance\",\"outputs\":[{\"internalType\":\"uint256\",\"name\":\"\",\"type\":\"uint256\"},{\"internalType\":\"uint256\",\"name\":\"\",\"type\":\"uint256\"}],\"payable\":false,\"stateMutability\":\"view\",\"type\":\"function\"},{\"constant\":false,\"inputs\":[],\"name\":\"widthdrawAll\",\"outputs\":[],\"payable\":false,\"stateMutability\":\"nonpayable\",\"type\":\"function\"}];\n",
    "var bank = new web3.eth.Contract(_abiArray,\"0xeBA4a31a432c4Cd54bD0b123e85264CecaCf1f90\");\n",
    "bank.methods.forwardTo(\"0x12c6B01408c8cFdEE47bC8e5FF64A597C59fCbc0\").send({from:\"0x7954C6dD0459cB8e17361738c49e15593aE189ec\",gas:100000});"
   ]
  },
  {
   "cell_type": "code",
   "execution_count": 76,
   "metadata": {},
   "outputs": [],
   "source": [
    "!node src/BankUse21.js"
   ]
  },
  {
   "cell_type": "code",
   "execution_count": 77,
   "metadata": {},
   "outputs": [
    {
     "name": "stdout",
     "output_type": "stream",
     "text": [
      "Overwriting src/BankUse22.js\n"
     ]
    }
   ],
   "source": [
    "%%writefile src/BankUse22.js\n",
    "\n",
    "//ganache\n",
    "var Web3=require('web3');\n",
    "var web3 = new Web3(new Web3.providers.HttpProvider(\"http://127.0.0.1:8345\"));\n",
    "var _abiArray=[{\"inputs\":[],\"payable\":false,\"stateMutability\":\"nonpayable\",\"type\":\"constructor\"},{\"constant\":false,\"inputs\":[{\"internalType\":\"uint256\",\"name\":\"amount\",\"type\":\"uint256\"}],\"name\":\"deposit\",\"outputs\":[],\"payable\":true,\"stateMutability\":\"payable\",\"type\":\"function\"},{\"constant\":false,\"inputs\":[{\"internalType\":\"address payable\",\"name\":\"_receiver\",\"type\":\"address\"}],\"name\":\"forwardTo\",\"outputs\":[],\"payable\":true,\"stateMutability\":\"payable\",\"type\":\"function\"},{\"constant\":true,\"inputs\":[],\"name\":\"getBalance\",\"outputs\":[{\"internalType\":\"uint256\",\"name\":\"\",\"type\":\"uint256\"},{\"internalType\":\"uint256\",\"name\":\"\",\"type\":\"uint256\"}],\"payable\":false,\"stateMutability\":\"view\",\"type\":\"function\"},{\"constant\":false,\"inputs\":[],\"name\":\"widthdrawAll\",\"outputs\":[],\"payable\":false,\"stateMutability\":\"nonpayable\",\"type\":\"function\"}];\n",
    "var bank = new web3.eth.Contract(_abiArray,\"0xeBA4a31a432c4Cd54bD0b123e85264CecaCf1f90\");\n",
    "bank.methods.getBalance().call().then(function(value) {console.log(value);});"
   ]
  },
  {
   "cell_type": "code",
   "execution_count": 78,
   "metadata": {},
   "outputs": [
    {
     "name": "stdout",
     "output_type": "stream",
     "text": [
      "Result { '0': '11000', '1': '11333' }\n"
     ]
    }
   ],
   "source": [
    "!node src/BankUse22.js"
   ]
  },
  {
   "cell_type": "code",
   "execution_count": 79,
   "metadata": {},
   "outputs": [
    {
     "name": "stdout",
     "output_type": "stream",
     "text": [
      "Overwriting src/BankUse31.js\n"
     ]
    }
   ],
   "source": [
    "%%writefile src/BankUse31.js\n",
    "\n",
    "//ganache\n",
    "var Web3=require('web3');\n",
    "var web3 = new Web3(new Web3.providers.HttpProvider(\"http://127.0.0.1:8345\"));\n",
    "var _abiArray=[{\"inputs\":[],\"payable\":false,\"stateMutability\":\"nonpayable\",\"type\":\"constructor\"},{\"constant\":false,\"inputs\":[{\"internalType\":\"uint256\",\"name\":\"amount\",\"type\":\"uint256\"}],\"name\":\"deposit\",\"outputs\":[],\"payable\":true,\"stateMutability\":\"payable\",\"type\":\"function\"},{\"constant\":false,\"inputs\":[{\"internalType\":\"address payable\",\"name\":\"_receiver\",\"type\":\"address\"}],\"name\":\"forwardTo\",\"outputs\":[],\"payable\":true,\"stateMutability\":\"payable\",\"type\":\"function\"},{\"constant\":true,\"inputs\":[],\"name\":\"getBalance\",\"outputs\":[{\"internalType\":\"uint256\",\"name\":\"\",\"type\":\"uint256\"},{\"internalType\":\"uint256\",\"name\":\"\",\"type\":\"uint256\"}],\"payable\":false,\"stateMutability\":\"view\",\"type\":\"function\"},{\"constant\":false,\"inputs\":[],\"name\":\"widthdrawAll\",\"outputs\":[],\"payable\":false,\"stateMutability\":\"nonpayable\",\"type\":\"function\"}];\n",
    "var bank = new web3.eth.Contract(_abiArray,\"0xeBA4a31a432c4Cd54bD0b123e85264CecaCf1f90\");\n",
    "bank.methods.widthdrawAll().send({from:\"0x7954C6dD0459cB8e17361738c49e15593aE189ec\",gas:800000});"
   ]
  },
  {
   "cell_type": "code",
   "execution_count": 80,
   "metadata": {},
   "outputs": [],
   "source": [
    "!node src/BankUse31.js"
   ]
  },
  {
   "cell_type": "code",
   "execution_count": 81,
   "metadata": {},
   "outputs": [
    {
     "name": "stdout",
     "output_type": "stream",
     "text": [
      "Overwriting src/BankUse32.js\n"
     ]
    }
   ],
   "source": [
    "%%writefile src/BankUse32.js\n",
    "\n",
    "//ganache\n",
    "var Web3=require('web3');\n",
    "var web3 = new Web3(new Web3.providers.HttpProvider(\"http://127.0.0.1:8345\"));\n",
    "var _abiArray=[{\"inputs\":[],\"payable\":false,\"stateMutability\":\"nonpayable\",\"type\":\"constructor\"},{\"constant\":false,\"inputs\":[{\"internalType\":\"uint256\",\"name\":\"amount\",\"type\":\"uint256\"}],\"name\":\"deposit\",\"outputs\":[],\"payable\":true,\"stateMutability\":\"payable\",\"type\":\"function\"},{\"constant\":false,\"inputs\":[{\"internalType\":\"address payable\",\"name\":\"_receiver\",\"type\":\"address\"}],\"name\":\"forwardTo\",\"outputs\":[],\"payable\":true,\"stateMutability\":\"payable\",\"type\":\"function\"},{\"constant\":true,\"inputs\":[],\"name\":\"getBalance\",\"outputs\":[{\"internalType\":\"uint256\",\"name\":\"\",\"type\":\"uint256\"},{\"internalType\":\"uint256\",\"name\":\"\",\"type\":\"uint256\"}],\"payable\":false,\"stateMutability\":\"view\",\"type\":\"function\"},{\"constant\":false,\"inputs\":[],\"name\":\"widthdrawAll\",\"outputs\":[],\"payable\":false,\"stateMutability\":\"nonpayable\",\"type\":\"function\"}];\n",
    "var bank = new web3.eth.Contract(_abiArray,\"0xeBA4a31a432c4Cd54bD0b123e85264CecaCf1f90\");\n",
    "bank.methods.getBalance().call().then(function(value) {console.log(value);});"
   ]
  },
  {
   "cell_type": "code",
   "execution_count": 82,
   "metadata": {},
   "outputs": [
    {
     "name": "stdout",
     "output_type": "stream",
     "text": [
      "Result { '0': '0', '1': '11333' }\n"
     ]
    }
   ],
   "source": [
    "!node src/BankUse32.js"
   ]
  },
  {
   "cell_type": "markdown",
   "metadata": {},
   "source": [
    "### Geth로 오류가 난 이유..?\n",
    "솔직히 말하면 정확한 이유를 모르겠다. 배포 단계에서 계속 gas도 gasPrice도 바꿔보았음에도 정말 단 한번도 성공한 적이 없다. 금요일 밤부터 이 오류가 있었는데 일요일이 되었는데도 아무것도 해결하지 못하였다..ㅎ 나만 계속 오류가 발생하는 것인지 궁금하여 API수업을 듣는 몇몇 친구들에게 혹시 geth로 성공했냐고 물어보고, 성공했다고 하면 gas와 gasPrice값을 어떻게 바꾸어주었는지 물어봤다. 나도 같은 수로 바꿔보았음에도 불구하고 계속 같은 오류가 났다. 리믹스 코드가 문제인 것인가 싶어 계속 리믹스 코드를 수정해보기도 했다. 심지어 리믹스로도 컴파일은 되나 전액인출이나 문제에서 의도하는 대로 구현되지 않은 코드로 주피터 노트북에 복사하여 실행했다는 학우도, geth로 배포했을 때 오류없이 배포에 성공했다고 했었다. \n",
    "\n",
    "교수님 진짜 무엇이 문제인지 모르겠습니다..ㅠㅠ 솔리디티 버전이며 genesis며 모두 수정해보고 그랬는데도 되지를 않네요..ㅠㅠ "
   ]
  },
  {
   "cell_type": "code",
   "execution_count": null,
   "metadata": {},
   "outputs": [],
   "source": []
  }
 ],
 "metadata": {
  "kernelspec": {
   "display_name": "Python 3",
   "language": "python",
   "name": "python3"
  },
  "language_info": {
   "codemirror_mode": {
    "name": "ipython",
    "version": 3
   },
   "file_extension": ".py",
   "mimetype": "text/x-python",
   "name": "python",
   "nbconvert_exporter": "python",
   "pygments_lexer": "ipython3",
   "version": "3.7.6"
  }
 },
 "nbformat": 4,
 "nbformat_minor": 4
}
