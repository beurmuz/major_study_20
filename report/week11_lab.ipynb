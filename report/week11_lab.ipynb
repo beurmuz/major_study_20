{
 "cells": [
  {
   "cell_type": "markdown",
   "metadata": {},
   "source": [
    "## 연습문제: 은행 송금\n",
    "\n",
    "\n",
    "은행은 자신이 계정을 개설하여, 입출금을 할 수 있다.\n",
    "컨트랙을 프로그램하여 아래 기능을 실행하도록 하세요.\n",
    "주피터 노트북으로 프로그램하세요.\n",
    "\n",
    "은행 컨트랙의 함수는 다음과 같이 만드세요.\n",
    "\n",
    "* 입금액을 정해서 입금\n",
    "\tfunction deposit(uint amount) public payable\n",
    "* 전액 인출 함수\n",
    "\tfunction widthdrawAll() public\n",
    "* 컨트랙 잔고확인 함수 (this를 이용한 잔고, 상태변수 잔고 (this 잔고가 맞는지 확인하는 용도)\n",
    "\tfunction getBalance() public view returns(uint, uint)\n",
    "* 다른 계정으로 계좌이체 함수\n",
    "\tfunction forwardTo(address payable _receiver) public payable\n",
    "\n",
    "\n",
    "\n",
    "아래 기능을 실행해 보세요.\n",
    "\n",
    "- 입금 11111 wei, 222 wei를 하고 잔고 11333 wei 출력\n",
    "\n",
    "- 자신의 2번째 계정으로 계좌이체 333 wei하고 컨트랙 잔고 11000 wei 출력, 자신의 2번째 계정 잔고 증가분 (+333 wei) 출력\n",
    "\n",
    "- 전액 인출하고 11000 wei, 자신의 잔고 증가분 출력 (+11000 wei)"
   ]
  },
  {
   "cell_type": "markdown",
   "metadata": {},
   "source": [
    "## 1단계 : 컨트랙개발"
   ]
  },
  {
   "cell_type": "code",
   "execution_count": 1,
   "metadata": {},
   "outputs": [
    {
     "name": "stdout",
     "output_type": "stream",
     "text": [
      "Overwriting src/Bank.sol\n"
     ]
    }
   ],
   "source": [
    "%%writefile src/Bank.sol\n",
    "pragma solidity ^0.5.0;\n",
    "\n",
    "contract Bank {\n",
    "    address payable owner; //sender\n",
    "    uint balance; //contract balance\n",
    "    constructor() public {\n",
    "        owner = msg.sender;\n",
    "        balance = address(this).balance; //contract balance\n",
    "    }\n",
    "    \n",
    "    // 입금액을 정해서 입금하는 함수\n",
    "    function deposit(uint amount) public payable {\n",
    "        require(msg.value == amount);\n",
    "        balance += amount;\n",
    "    }\n",
    "    \n",
    "    // 전액 인출 함수\n",
    "    function widthdrawAll() public {\n",
    "        owner.transfer(address(this).balance);\n",
    "    }\n",
    "    \n",
    "    // 컨트랙 잔고확인 함수 (this를 이용한 잔고, 상태변수 잔고 (this 잔고가 맞는지 확인하는 용도)\n",
    "    function getBalance() public view returns(uint,uint) {\n",
    "        return (address(this).balance, balance);\n",
    "    }\n",
    "\n",
    "    // 다른 계정으로 계좌이체 함수\n",
    "    function forwardTo(address payable _receiver) public payable {\n",
    "        _receiver.transfer(333);\n",
    "    }\n",
    "}"
   ]
  },
  {
   "cell_type": "markdown",
   "metadata": {},
   "source": [
    "## 2단계 : 컴파일"
   ]
  },
  {
   "cell_type": "code",
   "execution_count": 2,
   "metadata": {},
   "outputs": [
    {
     "name": "stdout",
     "output_type": "stream",
     "text": [
      "\n",
      "======= src/Bank.sol:Bank =======\n",
      "Binary:\n",
      "608060405234801561001057600080fd5b50336000806101000a81548173ffffffffffffffffffffffffffffffffffffffff021916908373ffffffffffffffffffffffffffffffffffffffff16021790555047600181905550610218806100676000396000f3fe60806040526004361061003f5760003560e01c806312065fe01461004457806327d8ad88146100765780633c459375146100ba578063b6b55f25146100d1575b600080fd5b34801561005057600080fd5b506100596100ff565b604051808381526020018281526020019250505060405180910390f35b6100b86004803603602081101561008c57600080fd5b81019080803573ffffffffffffffffffffffffffffffffffffffff16906020019092919050505061010e565b005b3480156100c657600080fd5b506100cf61015a565b005b6100fd600480360360208110156100e757600080fd5b81019080803590602001909291905050506101c4565b005b60008047600154915091509091565b8073ffffffffffffffffffffffffffffffffffffffff166108fc61014d9081150290604051600060405180830381858888f19350505050158015610156573d6000803e3d6000fd5b5050565b6000809054906101000a900473ffffffffffffffffffffffffffffffffffffffff1673ffffffffffffffffffffffffffffffffffffffff166108fc479081150290604051600060405180830381858888f193505050501580156101c1573d6000803e3d6000fd5b50565b8034146101d057600080fd5b806001600082825401925050819055505056fea265627a7a723158206d0489633afc897071c3f6fca904305ee46670af234d9616f107d010672f8f3f64736f6c63430005100032\n",
      "Contract JSON ABI\n",
      "[{\"inputs\":[],\"payable\":false,\"stateMutability\":\"nonpayable\",\"type\":\"constructor\"},{\"constant\":false,\"inputs\":[{\"internalType\":\"uint256\",\"name\":\"amount\",\"type\":\"uint256\"}],\"name\":\"deposit\",\"outputs\":[],\"payable\":true,\"stateMutability\":\"payable\",\"type\":\"function\"},{\"constant\":false,\"inputs\":[{\"internalType\":\"address payable\",\"name\":\"_receiver\",\"type\":\"address\"}],\"name\":\"forwardTo\",\"outputs\":[],\"payable\":true,\"stateMutability\":\"payable\",\"type\":\"function\"},{\"constant\":true,\"inputs\":[],\"name\":\"getBalance\",\"outputs\":[{\"internalType\":\"uint256\",\"name\":\"\",\"type\":\"uint256\"},{\"internalType\":\"uint256\",\"name\":\"\",\"type\":\"uint256\"}],\"payable\":false,\"stateMutability\":\"view\",\"type\":\"function\"},{\"constant\":false,\"inputs\":[],\"name\":\"widthdrawAll\",\"outputs\":[],\"payable\":false,\"stateMutability\":\"nonpayable\",\"type\":\"function\"}]\n"
     ]
    }
   ],
   "source": [
    "!solc --abi --bin src/Bank.sol"
   ]
  },
  {
   "cell_type": "code",
   "execution_count": 3,
   "metadata": {},
   "outputs": [
    {
     "name": "stdout",
     "output_type": "stream",
     "text": [
      "\n",
      "======= src/Bank.sol:Bank =======\n",
      "Gas estimation:\n",
      "construction:\n",
      "   41035 + 107200 = 148235\n",
      "external:\n",
      "   deposit(uint256):\t21103\n",
      "   forwardTo(address):\tinfinite\n",
      "   getBalance():\t1027\n",
      "   widthdrawAll():\tinfinite\n"
     ]
    }
   ],
   "source": [
    "!solc --gas src/Bank.sol"
   ]
  },
  {
   "cell_type": "markdown",
   "metadata": {},
   "source": [
    "## 3단계 : 컨트랙 배포 - geth로 배포"
   ]
  },
  {
   "cell_type": "code",
   "execution_count": 13,
   "metadata": {},
   "outputs": [
    {
     "name": "stdout",
     "output_type": "stream",
     "text": [
      "Overwriting src/BankDeploy.js\n"
     ]
    }
   ],
   "source": [
    "%%writefile src/BankDeploy.js\n",
    "//geth\n",
    "var Web3=require('web3');\n",
    "var web3;\n",
    "if (typeof web3 !== 'undefined') {\n",
    "    web3 = new Web3(web3.currentProvider);\n",
    "} else {\n",
    "    web3 = new Web3(new Web3.providers.HttpProvider(\"http://localhost:8445\"));\n",
    "}\n",
    "var _abiArray=[{\"inputs\":[],\"payable\":false,\"stateMutability\":\"nonpayable\",\"type\":\"constructor\"},{\"constant\":false,\"inputs\":[{\"internalType\":\"uint256\",\"name\":\"amount\",\"type\":\"uint256\"}],\"name\":\"deposit\",\"outputs\":[],\"payable\":true,\"stateMutability\":\"payable\",\"type\":\"function\"},{\"constant\":false,\"inputs\":[{\"internalType\":\"address payable\",\"name\":\"_receiver\",\"type\":\"address\"}],\"name\":\"forwardTo\",\"outputs\":[],\"payable\":true,\"stateMutability\":\"payable\",\"type\":\"function\"},{\"constant\":true,\"inputs\":[],\"name\":\"getBalance\",\"outputs\":[{\"internalType\":\"uint256\",\"name\":\"\",\"type\":\"uint256\"},{\"internalType\":\"uint256\",\"name\":\"\",\"type\":\"uint256\"}],\"payable\":false,\"stateMutability\":\"view\",\"type\":\"function\"},{\"constant\":false,\"inputs\":[],\"name\":\"widthdrawAll\",\"outputs\":[],\"payable\":false,\"stateMutability\":\"nonpayable\",\"type\":\"function\"}];\n",
    "var _bin=\"608060405234801561001057600080fd5b50336000806101000a81548173ffffffffffffffffffffffffffffffffffffffff021916908373ffffffffffffffffffffffffffffffffffffffff16021790555047600181905550610218806100676000396000f3fe60806040526004361061003f5760003560e01c806312065fe01461004457806327d8ad88146100765780633c459375146100ba578063b6b55f25146100d1575b600080fd5b34801561005057600080fd5b506100596100ff565b604051808381526020018281526020019250505060405180910390f35b6100b86004803603602081101561008c57600080fd5b81019080803573ffffffffffffffffffffffffffffffffffffffff16906020019092919050505061010e565b005b3480156100c657600080fd5b506100cf61015a565b005b6100fd600480360360208110156100e757600080fd5b81019080803590602001909291905050506101c4565b005b60008047600154915091509091565b8073ffffffffffffffffffffffffffffffffffffffff166108fc61014d9081150290604051600060405180830381858888f19350505050158015610156573d6000803e3d6000fd5b5050565b6000809054906101000a900473ffffffffffffffffffffffffffffffffffffffff1673ffffffffffffffffffffffffffffffffffffffff166108fc479081150290604051600060405180830381858888f193505050501580156101c1573d6000803e3d6000fd5b50565b8034146101d057600080fd5b806001600082825401925050819055505056fea265627a7a723158206d0489633afc897071c3f6fca904305ee46670af234d9616f107d010672f8f3f64736f6c63430005100032\";\n",
    "var _contract = new web3.eth.Contract(_abiArray);\n",
    "//unlock the account with a password provided\n",
    "//web3.personal.unlockAccount(web3.eth.accounts[0],'password');\n",
    "_contract\n",
    "    .deploy({data:\"0x\"+_bin})\n",
    "    .send({from: \"0xc920e93d60afac15d7e2ca2c3fccf5307b3e227e\", gas: 200000, gasPrice: '10000000'})\n",
    "    .then(function(newContractInstance){\n",
    "        console.log(newContractInstance.options.address) // instance with the new contract address\n",
    "    });"
   ]
  },
  {
   "cell_type": "code",
   "execution_count": 14,
   "metadata": {},
   "outputs": [
    {
     "name": "stderr",
     "output_type": "stream",
     "text": [
      "(node:3404) UnhandledPromiseRejectionWarning: Error: The contract code couldn't be stored, please check your gas limit.\n",
      "    at Object.TransactionError (C:\\Users\\15Z970-G.AA5BK\\Code\\jsr\\node_modules\\web3-core-helpers\\src\\errors.js:93:21)\n",
      "    at Object.ContractCodeNotStoredError (C:\\Users\\15Z970-G.AA5BK\\Code\\jsr\\node_modules\\web3-core-helpers\\src\\errors.js:102:21)\n",
      "    at C:\\Users\\15Z970-G.AA5BK\\Code\\jsr\\node_modules\\web3-core-method\\src\\index.js:394:40\n",
      "    at processTicksAndRejections (internal/process/task_queues.js:97:5)\n",
      "(node:3404) UnhandledPromiseRejectionWarning: Unhandled promise rejection. This error originated either by throwing inside of an async function without a catch block, or by rejecting a promise which was not handled with .catch(). To terminate the node process on unhandled promise rejection, use the CLI flag `--unhandled-rejections=strict` (see https://nodejs.org/api/cli.html#cli_unhandled_rejections_mode). (rejection id: 5)\n",
      "(node:3404) [DEP0018] DeprecationWarning: Unhandled promise rejections are deprecated. In the future, promise rejections that are not handled will terminate the Node.js process with a non-zero exit code.\n"
     ]
    }
   ],
   "source": [
    "!node src/BankDeploy.js"
   ]
  },
  {
   "cell_type": "markdown",
   "metadata": {},
   "source": [
    "## 4단계 : 사용 "
   ]
  },
  {
   "cell_type": "code",
   "execution_count": null,
   "metadata": {},
   "outputs": [],
   "source": [
    "%%writefile src/BankUse.js\n",
    "//geth\n",
    "var Web3=require('web3');\n",
    "var web3 = new Web3(new Web3.providers.HttpProvider(\"http://127.0.0.1:8445\"));\n",
    "var abi = [{\"inputs\":[],\"payable\":false,\"stateMutability\":\"nonpayable\",\"type\":\"constructor\"},{\"constant\":false,\"inputs\":[{\"internalType\":\"uint256\",\"name\":\"amount\",\"type\":\"uint256\"}],\"name\":\"deposit\",\"outputs\":[],\"payable\":true,\"stateMutability\":\"payable\",\"type\":\"function\"},{\"constant\":false,\"inputs\":[{\"internalType\":\"address payable\",\"name\":\"_receiver\",\"type\":\"address\"}],\"name\":\"forwardTo\",\"outputs\":[],\"payable\":true,\"stateMutability\":\"payable\",\"type\":\"function\"},{\"constant\":true,\"inputs\":[],\"name\":\"getBalance\",\"outputs\":[{\"internalType\":\"uint256\",\"name\":\"\",\"type\":\"uint256\"},{\"internalType\":\"uint256\",\"name\":\"\",\"type\":\"uint256\"}],\"payable\":false,\"stateMutability\":\"view\",\"type\":\"function\"},{\"constant\":true,\"inputs\":[],\"name\":\"getBalanceOfOwner\",\"outputs\":[{\"internalType\":\"uint256\",\"name\":\"\",\"type\":\"uint256\"}],\"payable\":false,\"stateMutability\":\"view\",\"type\":\"function\"},{\"constant\":false,\"inputs\":[],\"name\":\"widthdrawAll\",\"outputs\":[],\"payable\":false,\"stateMutability\":\"nonpayable\",\"type\":\"function\"}];\n",
    "var addr = \"0xF5cB44f22f4F0e7200197b6Ef03Fd3b25400d781\";\n",
    "var counter = new web3.eth.Contract(abi,addr);\n",
    "bank.methods.deposit(11111).send({from:\"0xc920e93d60afac15d7e2ca2c3fccf5307b3e227e\",gas:800000,value:11111});\n",
    "bank.methods.deposit(222).send({from:\"0xc920e93d60afac15d7e2ca2c3fccf5307b3e227e\",gas:800000,value:222});\n",
    "bank.methods.getBalance().call().then(function(value) {console.log(value);});\n",
    "bank.methods.forwardTo(\"0xa921C56A63a40EA82D51d6588A2B93e919D71829\").send({from:\"0xc920e93d60afac15d7e2ca2c3fccf5307b3e227e\",gas:100000});\n",
    "bank.methods.getBalance().call().then(function(value) {console.log(value);});\n",
    "bank.methods.widthdrawAll().send({from:\"0xc920e93d60afac15d7e2ca2c3fccf5307b3e227e\",gas:800000});\n",
    "bank.methods.getBalance().call().then(function(value) {console.log(value);});"
   ]
  },
  {
   "cell_type": "code",
   "execution_count": null,
   "metadata": {},
   "outputs": [],
   "source": [
    "!node src/BankUse.js"
   ]
  }
 ],
 "metadata": {
  "kernelspec": {
   "display_name": "Python 3",
   "language": "python",
   "name": "python3"
  },
  "language_info": {
   "codemirror_mode": {
    "name": "ipython",
    "version": 3
   },
   "file_extension": ".py",
   "mimetype": "text/x-python",
   "name": "python",
   "nbconvert_exporter": "python",
   "pygments_lexer": "ipython3",
   "version": "3.7.6"
  }
 },
 "nbformat": 4,
 "nbformat_minor": 4
}
