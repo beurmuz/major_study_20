{
 "cells": [
  {
   "cell_type": "markdown",
   "metadata": {},
   "source": [
    "## 연습문제 - 201810803 장서령\n",
    "\n",
    "주의:\n",
    "\n",
    " - 다른 과제보다 많이 약 10% 배점합니다\n",
    "\n",
    " - 다른 학생과 협력하지 마세요.\n",
    "\n",
    " - 제한시간이 다른 과제에 비해 짧아요 (3.5일)\n",
    "\n",
    "\n",
    "\n",
    "A, B 2인의 가위바위보 후 내기금액을 이긴 사람에게 지급하는 게임을 블록체인에 개발하세요.\n",
    "\n",
    "게임 컨트랙은 Rsp, 구현할 함수는 다음과 같다. 그 외 필요로 하는 함수는 추가할 수 있다.\n",
    "\n",
    "\n",
    "\n",
    "함수 | 설명\n",
    "\n",
    "-----|-----\n",
    "\n",
    "setA | 무작위로 가위, 바위, 보를 생성하고, 설정한다. ```1000 wei```씩 금액을 건다.\n",
    "\n",
    "setB | 외부에서 직접 입력하여 설정한다. ```1000 wei```씩 금액을 건다.\n",
    "\n",
    "play | 가위, 바위, 보의 승패를 정한다.\n",
    "\n",
    "distributeBetAmount | 이긴 측에게 내기 금액을 분배한다. A가 이기면 B의 내기 금액 ```1000 wei```를 가지게 된다.\n",
    "\n",
    "getMatchResult() | \"A wins\", \"B wins\", \"tie\" 결과를 출력\n",
    "\n",
    "\n",
    "\n",
    "노드에서 게임을 다음과 같이 진행하세요.\n",
    "\n",
    "- 게임 전의 A잔고, B잔고, 컨트랙 잔고 출력\n",
    "\n",
    "- A가 내기금액 걸고, 컴퓨터에서 무작위로 선택한 가위바위보\n",
    "\n",
    "- B가 내기금액 걸고, 사용자가 입력한 가위바위보\n",
    "\n",
    "- 승부내기\n",
    "\n",
    "- 누가 이겼는지 출력\n",
    "\n",
    "- 게임 끝나고 A잔고, B잔고, 컨트랙 잔고 출력"
   ]
  },
  {
   "cell_type": "markdown",
   "metadata": {},
   "source": [
    "# 1단계 : 컨트랙 개발"
   ]
  },
  {
   "cell_type": "code",
   "execution_count": 52,
   "metadata": {},
   "outputs": [
    {
     "name": "stdout",
     "output_type": "stream",
     "text": [
      "Overwriting src/Rsp.sol\n"
     ]
    }
   ],
   "source": [
    "%%writefile src/Rsp.sol\n",
    "pragma solidity ^0.6.0;\n",
    "\n",
    "contract Rsp { //32bit짜리 숫자를 생성하는 rand함수 만들기\n",
    "    uint8 randA;\n",
    "    uint8 randB;\n",
    "    uint8 whatresult;\n",
    "    string transresult=\"\";\n",
    "    address owner; //컨트랙 제작자\n",
    "    mapping (address => uint) balanceOf; // 잔고를 저장하는 mapping. 잔고의 key는 address, address의 key는 uint\n",
    "    constructor() public { // 생성자, 누구나 객체를 만들 수 있음\n",
    "        owner = msg.sender;  \n",
    "    }\n",
    "    \n",
    "    //무작위로 가위, 바위, 보를 생성하고, 설정한다. 1000 wei씩 금액을 건다.\n",
    "    function setA(uint amount) payable public {\n",
    "        require(msg.value == amount);\n",
    "        balanceOf[msg.sender] += amount;\n",
    "        randA = uint8(uint256(keccak256(abi.encodePacked(block.timestamp, block.difficulty)))%3);\n",
    "        // 0 : 가위, 1 : 바위, 2 : 보\n",
    "    } \n",
    "\n",
    "    //외부에서 직접 입력하여 설정한다. 1000 wei씩 금액을 건다.\n",
    "    function setB(address addr, uint amount, uint8 _value) payable public {\n",
    "        require(msg.value == amount);\n",
    "        balanceOf[addr] += amount;\n",
    "        randB = _value;\n",
    "    }\n",
    "    \n",
    "    //가위, 바위, 보의 승패를 정한다.\n",
    "    function play() public { //tie = 3, A win = 4, B win = 5\n",
    "        if(randA==0) { //가위\n",
    "            if(randB==0) { //가위\n",
    "                whatresult= 3;\n",
    "            }\n",
    "            else if(randB==1){ //바위\n",
    "                whatresult= 5;\n",
    "            }\n",
    "            else{ //B가 보\n",
    "                whatresult= 4;\n",
    "            }\n",
    "        }\n",
    "        else if(randA == 1) { //바위\n",
    "            if(randB==0) { //가위\n",
    "                whatresult= 4;\n",
    "            }\n",
    "            else if(randB==1) {\n",
    "                whatresult= 3;\n",
    "            }\n",
    "            else {\n",
    "                whatresult= 5;\n",
    "            }\n",
    "        }\n",
    "        else if(randA==2){ //보\n",
    "            if(randB==0){ //가위\n",
    "                whatresult= 5;\n",
    "            }\n",
    "            else if(randB==1){\n",
    "                whatresult= 4;\n",
    "            }\n",
    "            else {\n",
    "                whatresult= 3;\n",
    "            }\n",
    "        }\n",
    "        if(whatresult==3){\n",
    "            transresult = \"tie\";\n",
    "        }\n",
    "        else if(whatresult==4){\n",
    "            transresult = \"A win\";\n",
    "        }\n",
    "        else if(whatresult==5){\n",
    "            transresult = \"B win\";\n",
    "        }\n",
    "    }\n",
    "    \n",
    "    //이긴 측에게 내기 금액을 분배한다. A가 이기면 B의 내기 금액 1000 wei를 가지게 된다.\n",
    "    function distributeBetAmount(address payable receiver) public payable{\n",
    "        if(whatresult==3){ //tie\n",
    "            balanceOf[receiver];\n",
    "            balanceOf[msg.sender];\n",
    "        }\n",
    "        else if(whatresult==4){ //A win\n",
    "            balanceOf[receiver] -= 1000;\n",
    "            balanceOf[msg.sender] += 1000;\n",
    "        }\n",
    "        else if(whatresult==5){ //B win\n",
    "            balanceOf[msg.sender] -= 1000;\n",
    "            balanceOf[receiver] += 1000;\n",
    "        }\n",
    "    }\n",
    "    \n",
    "    // 컨트랙 잔고 확인\n",
    "    function getContract() public view returns(uint){\n",
    "         return (address(this).balance);\n",
    "    }\n",
    "    \n",
    "    //A의 잔고 확인\n",
    "    function getA() public view returns(uint) {\n",
    "        return (balanceOf[owner]); // A의 잔고 출력       \n",
    "    }\n",
    "    \n",
    "    //B의 잔고 확인\n",
    "    function getB(address addr) public view returns(uint) {\n",
    "        return balanceOf[addr]; //B의 계좌 잔고를 읽어옴\n",
    "    }\n",
    "    \n",
    "    //\"A wins\", \"B wins\", \"tie\" 결과를 출력\n",
    "    function getMatchResult()public view returns(string memory) {\n",
    "        return (transresult);\n",
    "    }\n",
    "    \n",
    "    function getwhatresult() public view returns(uint) {\n",
    "        return (whatresult);\n",
    "    }\n",
    "    \n",
    "}"
   ]
  },
  {
   "cell_type": "markdown",
   "metadata": {},
   "source": [
    "# 2단계 : 컴파일"
   ]
  },
  {
   "cell_type": "code",
   "execution_count": 53,
   "metadata": {},
   "outputs": [
    {
     "name": "stdout",
     "output_type": "stream",
     "text": [
      "\n",
      "======= src/Rsp.sol:Rsp =======\n",
      "Gas estimation:\n",
      "construction:\n",
      "   infinite + 606800 = infinite\n",
      "external:\n",
      "   distributeBetAmount(address):\t44855\n",
      "   getA():\t2005\n",
      "   getB(address):\t1263\n",
      "   getContract():\t237\n",
      "   getMatchResult():\tinfinite\n",
      "   getwhatresult():\t1150\n",
      "   play():\tinfinite\n",
      "   setA(uint256):\t42294\n",
      "   setB(address,uint256,uint8):\t42137\n"
     ]
    }
   ],
   "source": [
    "!solc --gas src/Rsp.sol"
   ]
  },
  {
   "cell_type": "code",
   "execution_count": 54,
   "metadata": {},
   "outputs": [],
   "source": [
    "!solc src/Rsp.sol --combined-json abi,bin > src/Rsp.json"
   ]
  },
  {
   "cell_type": "markdown",
   "metadata": {},
   "source": [
    "# 3단계 : 컨트랙 배포"
   ]
  },
  {
   "cell_type": "code",
   "execution_count": 55,
   "metadata": {},
   "outputs": [
    {
     "name": "stdout",
     "output_type": "stream",
     "text": [
      "Overwriting src/RspDeploy.js\n"
     ]
    }
   ],
   "source": [
    "%%writefile src/RspDeploy.js\n",
    "var Web3 = require('web3');\n",
    "var web3 = new Web3(new Web3.providers.HttpProvider(\"http://127.0.0.1:8445\"));\n",
    "var fs=require('fs');\n",
    "var _str = fs.readFileSync(\"src/Rsp.json\");\n",
    "var _json = JSON.parse(_str)\n",
    "//var _abiArray = JSON.parse(_json.contracts.sHello2.abi);\n",
    "var _abiArray = JSON.parse(_json.contracts[\"src/Rsp.sol:Rsp\"].abi);\n",
    "//var _bin = _json.contracts.sHello2.bin;\n",
    "var _bin=\"0x\" + _json.contracts[\"src/Rsp.sol:Rsp\"].bin;\n",
    "\n",
    "//unlock the account with a password provided\n",
    "//web3.personal.unlockAccount(web3.eth.accounts[0],'password');\n",
    "async function deploy() {\n",
    "    const accounts = await web3.eth.getAccounts();\n",
    "    console.log(\"Deploying the contract from \" + accounts[0]);\n",
    "\n",
    "    new web3.eth.Contract(_abiArray).deploy({data: _bin}).estimateGas(function(err, gas) {\n",
    "        if(!err) console.log(\">> gas: \"+ gas); //gas를 산정하는 함수를 위에 넣어놓음 \n",
    "    });\n",
    "\n",
    "    var deployed = await new web3.eth.Contract(_abiArray)\n",
    "        .deploy({data: _bin})\n",
    "        .send({from: accounts[0], gas: 898371}, function(err, transactionHash) {\n",
    "                if(!err) console.log(\"hash: \" + transactionHash); \n",
    "        })\n",
    "        //.then(function(newContractInstance){\n",
    "        //    console.log(newContractInstance.options.address)\n",
    "        //});\n",
    "    console.log(\"---> The contract deployed to: \" + deployed.options.address)\n",
    "}\n",
    "\n",
    "deploy()"
   ]
  },
  {
   "cell_type": "code",
   "execution_count": 56,
   "metadata": {},
   "outputs": [
    {
     "name": "stdout",
     "output_type": "stream",
     "text": [
      "Deploying the contract from 0xC920E93d60AFaC15d7e2ca2C3fcCF5307b3e227e\n",
      ">> gas: 898371\n",
      "hash: 0x9025bdf4d2220dbafdf7e96a5e7b1a5526826034d56e47f4cddfe4027aa4aa77\n",
      "---> The contract deployed to: 0xD6544EE46863607196B617724209EAd57d3F9Ac2\n"
     ]
    }
   ],
   "source": [
    "!node src/RspDeploy.js"
   ]
  },
  {
   "cell_type": "markdown",
   "metadata": {},
   "source": [
    "# 4단계 : 사용"
   ]
  },
  {
   "cell_type": "code",
   "execution_count": 66,
   "metadata": {},
   "outputs": [
    {
     "name": "stdout",
     "output_type": "stream",
     "text": [
      "Overwriting src/RspUse.js\n"
     ]
    }
   ],
   "source": [
    "%%writefile src/RspUse.js\n",
    "var Web3=require('web3');\n",
    "var web3=new Web3(new Web3.providers.HttpProvider(\"http://127.0.0.1:8445\"));       //ok\n",
    "var fs=require('fs');\n",
    "var _str = fs.readFileSync(\"src/Rsp.json\");\n",
    "var _json = JSON.parse(_str)\n",
    "var _abiArray = JSON.parse(_json.contracts[\"src/Rsp.sol:Rsp\"].abi);\n",
    "\n",
    "async function doIt() {//arr 대신 _rspGame\n",
    "    var _rspGame = new web3.eth.Contract(_abiArray, \"0xD6544EE46863607196B617724209EAd57d3F9Ac2\");\n",
    "    const accounts = await web3.eth.getAccounts();\n",
    "    console.log(\"<The Init Balance>\"); //A,B,컨트랙 초기잔고 출력 \n",
    "    const Ainit = await _rspGame.methods.getA().call();           \n",
    "    const Binit = await _rspGame.methods.getB(accounts[1]).call(); \n",
    "    const Cinit = await _rspGame.methods.getContract().call();\n",
    "    miner.start(1);admin.sleepBlocks(1);miner.stop(); \n",
    "    console.log(\"A : \" + Ainit);\n",
    "    console.log(\"Contract : \" + Cinit);\n",
    "    console.log(\"B : \" + Binit);\n",
    "    console.log(\"setA, setB---------\");\n",
    "   /* console.log(\"\\n\");\n",
    "    await _rspGame.methods.setA(\"1000\").send({from: accounts[0], gas:42294,value:1000}); //A 가위바위보\n",
    "    await _rspGame.methods.setB(accounts[1],\"1000\",\"1\").send({from: accounts[0], gas:42137,value:1000}); //B 가위바위보\n",
    "    const A = await _rspGame.methods.getA().call();           \n",
    "    const B = await _rspGame.methods.getB(accounts[1]).call(); \n",
    "    const C = await _rspGame.methods.getContract().call();\n",
    "    console.log(\"<The Balance Before The Game>\"); //A,B,컨트랙 게임 전 잔고 출력 \n",
    "    console.log(\"A : \" + A);\n",
    "    //console.log(\"Contract : \" + C);\n",
    "    console.log(\"B : \" + B);\n",
    "    \n",
    "    console.log(\"play----------------\");\n",
    "    await _rspGame.methods.play().send({from: accounts[0], gas:77777}); //승부내기\n",
    "    console.log(\"\\n\");\n",
    "    console.log(\"<The Match Result>\");\n",
    "    const Mresult = await _rspGame.methods.getMatchResult().call();\n",
    "    console.log(\"result is... \" + Mresult); //이긴사람 출력  \n",
    "    const what = await _rspGame.methods.getwhatresult().call();   // \n",
    "    console.log(\"whatresult is \"+what); //                  \n",
    "    console.log(\"send the money-------\"); \n",
    "    await _rspGame.methods.distributeBetAmount(accounts[1]).send({from: accounts[0], gas:44855});\n",
    "    console.log(\"\\n\");\n",
    "                       \n",
    "    console.log(\"<The Last Balance>\");\n",
    "    const AafterBal = await _rspGame.methods.getA().call();\n",
    "    const ContractafterBal = await _rspGame.methods.getB(accounts[1]).call(); \n",
    "    const BafterBal = await _rspGame.methods.getContract().call();\n",
    "    console.log(\"A : \" + AafterBal);\n",
    "    console.log(\"Contract : \" + ContractafterBal);\n",
    "    console.log(\"B : \" + BafterBal);*/\n",
    "}\n",
    "\n",
    "doIt()"
   ]
  },
  {
   "cell_type": "code",
   "execution_count": 67,
   "metadata": {},
   "outputs": [
    {
     "name": "stdout",
     "output_type": "stream",
     "text": [
      "<The Init Balance>\n"
     ]
    },
    {
     "name": "stderr",
     "output_type": "stream",
     "text": [
      "(node:6000) UnhandledPromiseRejectionWarning: Error: Returned values aren't valid, did it run Out of Gas? You might also see this error if you are not using the correct ABI for the contract you are retrieving data from, requesting data from a block number that does not exist, or querying a node which is not fully synced.\n",
      "    at ABICoder.decodeParameters (C:\\Users\\15Z970-G.AA5BK\\Code\\jsr\\node_modules\\web3-eth-abi\\src\\index.js:332:15)\n",
      "    at Contract._decodeMethodReturn (C:\\Users\\15Z970-G.AA5BK\\Code\\jsr\\node_modules\\web3-eth-contract\\src\\index.js:572:22)\n",
      "    at Method.outputFormatter (C:\\Users\\15Z970-G.AA5BK\\Code\\jsr\\node_modules\\web3-eth-contract\\src\\index.js:932:42)\n",
      "    at Method.formatOutput (C:\\Users\\15Z970-G.AA5BK\\Code\\jsr\\node_modules\\web3-core-method\\src\\index.js:169:54)\n",
      "    at sendTxCallback (C:\\Users\\15Z970-G.AA5BK\\Code\\jsr\\node_modules\\web3-core-method\\src\\index.js:640:33)\n",
      "    at C:\\Users\\15Z970-G.AA5BK\\Code\\jsr\\node_modules\\web3-core-requestmanager\\src\\index.js:177:9\n",
      "    at XMLHttpRequest.request.onreadystatechange (C:\\Users\\15Z970-G.AA5BK\\Code\\jsr\\node_modules\\web3-providers-http\\src\\index.js:111:13)\n",
      "    at XMLHttpRequestEventTarget.dispatchEvent (C:\\Users\\15Z970-G.AA5BK\\Code\\jsr\\node_modules\\xhr2-cookies\\dist\\xml-http-request-event-target.js:34:22)\n",
      "    at XMLHttpRequest._setReadyState (C:\\Users\\15Z970-G.AA5BK\\Code\\jsr\\node_modules\\xhr2-cookies\\dist\\xml-http-request.js:208:14)\n",
      "    at XMLHttpRequest._onHttpResponseEnd (C:\\Users\\15Z970-G.AA5BK\\Code\\jsr\\node_modules\\xhr2-cookies\\dist\\xml-http-request.js:318:14)\n",
      "    at IncomingMessage.<anonymous> (C:\\Users\\15Z970-G.AA5BK\\Code\\jsr\\node_modules\\xhr2-cookies\\dist\\xml-http-request.js:289:61)\n",
      "    at IncomingMessage.emit (events.js:322:22)\n",
      "    at endReadableNT (_stream_readable.js:1187:12)\n",
      "    at processTicksAndRejections (internal/process/task_queues.js:84:21)\n",
      "(node:6000) UnhandledPromiseRejectionWarning: Unhandled promise rejection. This error originated either by throwing inside of an async function without a catch block, or by rejecting a promise which was not handled with .catch(). To terminate the node process on unhandled promise rejection, use the CLI flag `--unhandled-rejections=strict` (see https://nodejs.org/api/cli.html#cli_unhandled_rejections_mode). (rejection id: 1)\n",
      "(node:6000) [DEP0018] DeprecationWarning: Unhandled promise rejections are deprecated. In the future, promise rejections that are not handled will terminate the Node.js process with a non-zero exit code.\n"
     ]
    }
   ],
   "source": [
    "!node src/RspUse.js"
   ]
  },
  {
   "cell_type": "code",
   "execution_count": null,
   "metadata": {},
   "outputs": [],
   "source": []
  }
 ],
 "metadata": {
  "kernelspec": {
   "display_name": "Python 3",
   "language": "python",
   "name": "python3"
  },
  "language_info": {
   "codemirror_mode": {
    "name": "ipython",
    "version": 3
   },
   "file_extension": ".py",
   "mimetype": "text/x-python",
   "name": "python",
   "nbconvert_exporter": "python",
   "pygments_lexer": "ipython3",
   "version": "3.7.6"
  }
 },
 "nbformat": 4,
 "nbformat_minor": 4
}
