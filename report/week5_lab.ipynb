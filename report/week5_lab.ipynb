{
 "cells": [
  {
   "cell_type": "markdown",
   "metadata": {},
   "source": [
    "# 연습문제 1\n",
    "다음 4건의 데이터에 대해 Merkle Root 값을 계산하고 출력하세요.\n",
    "중간 노드의 AB, CD의 해시도 출력하세요.\n",
    "* txA = 'Hello'\n",
    "* txB = 'How are you?'\n",
    "* txC = 'This is Thursday'\n",
    "* txD = 'Happy new Year'"
   ]
  },
  {
   "cell_type": "code",
   "execution_count": 20,
   "metadata": {},
   "outputs": [],
   "source": [
    "import hashlib\n",
    "nonce = 1\n",
    "txA='Hello'.encode()\n",
    "txB='How are you?'.encode()\n",
    "txC='This is Thursday'.encode()\n",
    "txD='Happy new Year'.encode()"
   ]
  },
  {
   "cell_type": "code",
   "execution_count": 21,
   "metadata": {},
   "outputs": [],
   "source": [
    "#Hash, 1단계 해싱하기\n",
    "hashA=hashlib.sha256(txA)\n",
    "hashB=hashlib.sha256(txB)\n",
    "hashC=hashlib.sha256(txC)\n",
    "hashD=hashlib.sha256(txD)"
   ]
  },
  {
   "cell_type": "code",
   "execution_count": 22,
   "metadata": {},
   "outputs": [
    {
     "name": "stdout",
     "output_type": "stream",
     "text": [
      "hashA: 185f8db32271fe25f561a6fc938b2e264306ec304eda518007d1764826381969\n",
      "hashB: df287dfc1406ed2b692e1c2c783bb5cec97eac53151ee1d9810397aa0afa0d89\n"
     ]
    }
   ],
   "source": [
    "print(\"hashA:\",hashA.hexdigest()) #hashA의 해시값\n",
    "print(\"hashB:\",hashB.hexdigest()) #hashB의 해시값"
   ]
  },
  {
   "cell_type": "code",
   "execution_count": 23,
   "metadata": {},
   "outputs": [],
   "source": [
    "#ByteSwap A\n",
    "hashAswap=\"\".join(reversed([hashA.hexdigest()[i:i+2] for i in range(0, hashA.digest_size*2, 2)]))\n",
    "#ByteSwap B\n",
    "hashBswap=\"\".join(reversed([hashB.hexdigest()[i:i+2] for i in range(0, hashB.digest_size*2, 2)]))"
   ]
  },
  {
   "cell_type": "code",
   "execution_count": 24,
   "metadata": {},
   "outputs": [
    {
     "name": "stdout",
     "output_type": "stream",
     "text": [
      "hashAswap:  691938264876d1078051da4e30ec0643262e8b93fca661f525fe7122b38d5f18 \n",
      "hashBswap:  890dfa0aaa970381d9e11e1553ac7ec9ceb53b782c1c2e692bed0614fc7d28df\n"
     ]
    }
   ],
   "source": [
    "#A와 B의 ByteSwap 결과\n",
    "print(\"hashAswap: \",hashAswap,\"\\nhashBswap: \",hashBswap)"
   ]
  },
  {
   "cell_type": "code",
   "execution_count": 25,
   "metadata": {},
   "outputs": [
    {
     "name": "stdout",
     "output_type": "stream",
     "text": [
      "hashAB: 691938264876d1078051da4e30ec0643262e8b93fca661f525fe7122b38d5f18890dfa0aaa970381d9e11e1553ac7ec9ceb53b782c1c2e692bed0614fc7d28df\n",
      "\n",
      "A&B doubleHash: a7dca36b1e6fe56e1d7bc34fe56ceea8ab64f47a55e929b712fab58885dcdc37\n"
     ]
    }
   ],
   "source": [
    "#해시A+B\n",
    "hashAB=hashAswap+hashBswap\n",
    "print(\"hashAB:\",hashAB)\n",
    "#더블해싱\n",
    "doubleHashAB=hashlib.sha256(hashAB.encode()).hexdigest() # 3-2단계 더블해싱을 진행\n",
    "print(\"\\nA&B doubleHash:\",doubleHashAB)"
   ]
  },
  {
   "cell_type": "code",
   "execution_count": 26,
   "metadata": {},
   "outputs": [
    {
     "name": "stdout",
     "output_type": "stream",
     "text": [
      "hashC: 0d1e99a735b8d38f73e4639a2cf3ff6e612a137ed9c7895529eee71cccb3063b\n",
      "hashD: 127b4bccb4a3122b7112140a8257e38677a959b8f9355dc3cd3b8d1fc078852f\n"
     ]
    }
   ],
   "source": [
    "print(\"hashC:\",hashC.hexdigest()) #hashC의 해시값\n",
    "print(\"hashD:\",hashD.hexdigest()) #hashD의 해시값"
   ]
  },
  {
   "cell_type": "code",
   "execution_count": 27,
   "metadata": {},
   "outputs": [],
   "source": [
    "#ByteSwap C\n",
    "hashCswap=\"\".join(reversed([hashC.hexdigest()[i:i+2] for i in range(0, hashC.digest_size*2, 2)]))\n",
    "#ByteSwap D\n",
    "hashDswap=\"\".join(reversed([hashD.hexdigest()[i:i+2] for i in range(0, hashD.digest_size*2, 2)]))"
   ]
  },
  {
   "cell_type": "code",
   "execution_count": 28,
   "metadata": {},
   "outputs": [
    {
     "name": "stdout",
     "output_type": "stream",
     "text": [
      "hashCswap:  3b06b3cc1ce7ee295589c7d97e132a616efff32c9a63e4738fd3b835a7991e0d \n",
      "hashDswap:  2f8578c01f8d3bcdc35d35f9b859a97786e357820a1412712b12a3b4cc4b7b12\n"
     ]
    }
   ],
   "source": [
    "#C와 D의 ByteSwap 결과\n",
    "print(\"hashCswap: \",hashCswap,\"\\nhashDswap: \",hashDswap)"
   ]
  },
  {
   "cell_type": "code",
   "execution_count": 29,
   "metadata": {},
   "outputs": [
    {
     "name": "stdout",
     "output_type": "stream",
     "text": [
      "hashCD: 3b06b3cc1ce7ee295589c7d97e132a616efff32c9a63e4738fd3b835a7991e0d2f8578c01f8d3bcdc35d35f9b859a97786e357820a1412712b12a3b4cc4b7b12\n",
      "\n",
      "C&D doubleHash: 15524f5c1b536c2fe0f717fd8b1bbede37f94654fae6f47c20521ce476c8e0b2\n"
     ]
    }
   ],
   "source": [
    "#해시 C+D\n",
    "hashCD=hashCswap+hashDswap\n",
    "print(\"hashCD:\",hashCD)\n",
    "#더블해싱\n",
    "doubleHashCD=hashlib.sha256(hashCD.encode()).hexdigest()\n",
    "print(\"\\nC&D doubleHash:\",doubleHashCD) #sha512"
   ]
  },
  {
   "cell_type": "code",
   "execution_count": 34,
   "metadata": {},
   "outputs": [
    {
     "name": "stdout",
     "output_type": "stream",
     "text": [
      "doubleHashABswap: 37dcdc8588b5fa12b729e9557af464aba8ee6ce54fc37b1d6ee56f1e6ba3dca7\n",
      "doubleHashCDswap: b2e0c876e41c52207cf4e6fa5446f937debe1b8bfd17f7e02f6c531b5c4f5215\n"
     ]
    }
   ],
   "source": [
    "# doubleHashAB 값 ByteSwap \n",
    "doubleHashABswap=\"\".join(reversed([doubleHashAB[i:i+2] for i in range(0,len(doubleHashAB),2)]))\n",
    "print(\"doubleHashABswap:\",doubleHashABswap)\n",
    "# doubleHashCD 값 ByteSwap\n",
    "doubleHashCDswap=\"\".join(reversed([doubleHashCD[i:i+2] for i in range(0,len(doubleHashCD),2)]))\n",
    "print(\"doubleHashCDswap:\",doubleHashCDswap)"
   ]
  },
  {
   "cell_type": "code",
   "execution_count": 37,
   "metadata": {},
   "outputs": [
    {
     "name": "stdout",
     "output_type": "stream",
     "text": [
      "hashABCD:  37dcdc8588b5fa12b729e9557af464aba8ee6ce54fc37b1d6ee56f1e6ba3dca7b2e0c876e41c52207cf4e6fa5446f937debe1b8bfd17f7e02f6c531b5c4f5215\n",
      "ABCD doubleHash: 00aa61af726d4cd0d5a5e0d2e3e3280552acb6d587c15413a713b7a96275cefc\n"
     ]
    }
   ],
   "source": [
    "#doubleHashABswap + doubleHashCDswap\n",
    "hashABCD=doubleHashABswap+doubleHashCDswap\n",
    "print(\"hashABCD: \",hashABCD)\n",
    "\n",
    "#ABCD를 더블해싱\n",
    "doubleHashABCD=hashlib.sha256(hashABCD.encode()).hexdigest()\n",
    "print(\"ABCD doubleHash:\",doubleHashABCD)"
   ]
  },
  {
   "cell_type": "code",
   "execution_count": 38,
   "metadata": {},
   "outputs": [
    {
     "name": "stdout",
     "output_type": "stream",
     "text": [
      "murkle root is: 00aa61af726d4cd0d5a5e0d2e3e3280552acb6d587c15413a713b7a96275cefc\n"
     ]
    }
   ],
   "source": [
    "#ABCD를 더블해싱 한 결과를 murkle_root에 저장\n",
    "murkle_root=doubleHashABCD\n",
    "print(\"murkle root is:\",murkle_root)"
   ]
  },
  {
   "cell_type": "markdown",
   "metadata": {},
   "source": [
    "# 연습문제2\n",
    "친구에게  주소를 구하고, 그 주소로 송금해 보자. 송금이 되지 않으면 왜 안되는지 이유를 알아보자.안되면 친구의 주소를 만들고 전송한다.잔고의 증가분을 출력하세요. 소요된 gas비용 출력하세요.\n",
    "\n",
    "## → 연습문제 2번은 PPT 자료로 첨부했습니다. 아직 사용이 미숙해서 2번만 따로 제출하겠습니다!!"
   ]
  },
  {
   "cell_type": "markdown",
   "metadata": {},
   "source": [
    "# 연습문제3\n",
    "해시는 100미만의 양수로 정해진다고 하자.\n",
    "NONCE는 반복회수로만 쓰이고 무작위 수를 생성하는데 입력되지는 않는다.\n",
    "목표해시는 난이도에 따라 결정이 된다고 하자.\n",
    "마이닝을 해서, 목표 해시를 찾아보자."
   ]
  },
  {
   "cell_type": "markdown",
   "metadata": {},
   "source": [
    "### 10을 목표해시로 정하고 몇 회만에 마이닝에 성공하는지 출력하는 코드"
   ]
  },
  {
   "cell_type": "code",
   "execution_count": 101,
   "metadata": {},
   "outputs": [
    {
     "name": "stdout",
     "output_type": "stream",
     "text": [
      "Q.10보다 작은 수를 맞춰보자.\n",
      "87 16 38 29 12 72 70 84 16 19 76 51 72 38 \n",
      "A.10이하의 수는 1이고, 15번만에 성공했다.\n"
     ]
    }
   ],
   "source": [
    "from random import randint \n",
    "scopenum = randint(1, 100) #1~100 사이에서 랜덤값 생성\n",
    "num = 90  #100-10,돌리는 횟수는 최대 90번일 것\n",
    "NONCE = 0 #반복횟수\n",
    "x = randint(1, 10) #x는 1~10사이의 랜덤 값\n",
    "print(\"Q.10보다 작은 수를 맞춰보자.\")\n",
    "while NONCE < num:#반복횟수가 num보다 작으면 \n",
    "    NONCE = NONCE + 1 #반복 횟수를 하나 더 증가시킴\n",
    "    if scopenum <= 10 :\n",
    "        print(\"\\nA.10이하의 수는 %d이고,\" %x,\"%d번만에 성공했다.\" %NONCE)\n",
    "        break    # 맞추면 종료\n",
    "    else:\n",
    "        print(scopenum, end=' ')\n",
    "        scopenum = randint(1, 100)"
   ]
  },
  {
   "cell_type": "markdown",
   "metadata": {},
   "source": [
    "### 90을 목표해시로 정하고 몇 회만에 마이닝에 성공하는지 출력하는 코드"
   ]
  },
  {
   "cell_type": "code",
   "execution_count": 106,
   "metadata": {},
   "outputs": [
    {
     "name": "stdout",
     "output_type": "stream",
     "text": [
      "Q.90보다 작은 수를 맞춰보자.\n",
      "93 \n",
      "A.90이하의 수는 38이고, 2번만에 성공했다.\n"
     ]
    }
   ],
   "source": [
    "from random import randint \n",
    "scopenum = randint(1, 100) #1~100 사이에서 랜덤값 생성\n",
    "num = 10  #100-90,돌리는 횟수는 최대 10번일 것\n",
    "NONCE = 0 #반복횟수\n",
    "x = randint(1, 90) #x는 1~90사이의 랜덤 값\n",
    "print(\"Q.90보다 작은 수를 맞춰보자.\")\n",
    "while NONCE < num:#반복횟수가 num보다 작으면 \n",
    "    NONCE = NONCE + 1 #반복 횟수를 하나 더 증가시킴\n",
    "    if scopenum <= 90 :\n",
    "        print(\"\\nA.90이하의 수는 %d이고,\" %x,\"%d번만에 성공했다.\" %NONCE)\n",
    "        break    # 맞추면 종료\n",
    "    else:\n",
    "        print(scopenum, end=' ')\n",
    "        scopenum = randint(1, 100)"
   ]
  },
  {
   "cell_type": "code",
   "execution_count": null,
   "metadata": {},
   "outputs": [],
   "source": []
  }
 ],
 "metadata": {
  "kernelspec": {
   "display_name": "Python 3",
   "language": "python",
   "name": "python3"
  },
  "language_info": {
   "codemirror_mode": {
    "name": "ipython",
    "version": 3
   },
   "file_extension": ".py",
   "mimetype": "text/x-python",
   "name": "python",
   "nbconvert_exporter": "python",
   "pygments_lexer": "ipython3",
   "version": "3.7.6"
  }
 },
 "nbformat": 4,
 "nbformat_minor": 4
}
