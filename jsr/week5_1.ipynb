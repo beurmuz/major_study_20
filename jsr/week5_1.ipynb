{
 "cells": [
  {
   "cell_type": "code",
   "execution_count": 15,
   "metadata": {},
   "outputs": [],
   "source": [
    "import hashlib\n",
    "version=\"01000000\";  #4 bytes\n",
    "prevBlockHash=\"81cd02ab7e569e8bcd9317e2fe99f2de44d49ab2b8851ba4a308000000000000\"; #32 bytes\n",
    "merkleRoot=\"e320b6c2fffc8d750423db8b1eb942ae710e951ed797f7affc8892b0f1fc122b\";  #32 bytes\n",
    "timestamp=\"c7f5d74d\"; #4 bytes\n",
    "difficulty=\"f2b9441a\"; #4 bytes\n",
    "nonce=\"42a14695\";  #4 bytes"
   ]
  },
  {
   "cell_type": "code",
   "execution_count": 16,
   "metadata": {},
   "outputs": [],
   "source": [
    "header_hex = version + prevBlockHash + merkleRoot + timestamp + difficulty + nonce"
   ]
  },
  {
   "cell_type": "code",
   "execution_count": 17,
   "metadata": {},
   "outputs": [
    {
     "name": "stdout",
     "output_type": "stream",
     "text": [
      "0100000081cd02ab7e569e8bcd9317e2fe99f2de44d49ab2b8851ba4a308000000000000e320b6c2fffc8d750423db8b1eb942ae710e951ed797f7affc8892b0f1fc122bc7f5d74df2b9441a42a14695\n"
     ]
    }
   ],
   "source": [
    "print(header_hex) #Header hex는 단순히 위의 값들을 연결시켜 출력한 것"
   ]
  },
  {
   "cell_type": "code",
   "execution_count": 18,
   "metadata": {},
   "outputs": [],
   "source": [
    "header_bin=header_hex.encode('utf-8') #Header hex를 바이너리로바꾸어 인코딩"
   ]
  },
  {
   "cell_type": "code",
   "execution_count": 19,
   "metadata": {},
   "outputs": [
    {
     "data": {
      "text/plain": [
       "b'e\\x00\\xf1;\\xc2T\\xc5\\x9e\\x9f=w\\xbd\\x0b\\x19\\x99\\xe6\\x86\\xfa\\xdfwe\\xae+Y&m\\x1d\\x83[\\x86\\x90\\x83'"
      ]
     },
     "execution_count": 19,
     "metadata": {},
     "output_type": "execute_result"
    }
   ],
   "source": [
    "hashlib.sha256(hashlib.sha256(header_bin).digest()).digest() \n",
    "#이 값을 header bin에 저장해준 후, header_bin을 이중해싱"
   ]
  },
  {
   "cell_type": "code",
   "execution_count": 20,
   "metadata": {},
   "outputs": [],
   "source": [
    "hash=hashlib.sha256(hashlib.sha256(header_bin).digest()).digest()\n",
    "# 이중해싱한 값을 hash에 저장"
   ]
  },
  {
   "cell_type": "code",
   "execution_count": 21,
   "metadata": {},
   "outputs": [
    {
     "data": {
      "text/plain": [
       "'6500f13bc254c59e9f3d77bd0b1999e686fadf7765ae2b59266d1d835b869083'"
      ]
     },
     "execution_count": 21,
     "metadata": {},
     "output_type": "execute_result"
    }
   ],
   "source": [
    "hash.hex() #이 결과가 블록 헤더값!!"
   ]
  },
  {
   "cell_type": "code",
   "execution_count": 22,
   "metadata": {},
   "outputs": [
    {
     "data": {
      "text/plain": [
       "'8390865b831d6d26592bae6577dffa86e699190bbd773d9f9ec554c23bf10065'"
      ]
     },
     "execution_count": 22,
     "metadata": {},
     "output_type": "execute_result"
    }
   ],
   "source": [
    "hash[::-1].hex() #Byte Swap작업을 함.(뒤에서부터 2자리씩 앞으로 가져오는 것)"
   ]
  },
  {
   "cell_type": "code",
   "execution_count": null,
   "metadata": {},
   "outputs": [],
   "source": []
  }
 ],
 "metadata": {
  "kernelspec": {
   "display_name": "Python 3",
   "language": "python",
   "name": "python3"
  },
  "language_info": {
   "codemirror_mode": {
    "name": "ipython",
    "version": 3
   },
   "file_extension": ".py",
   "mimetype": "text/x-python",
   "name": "python",
   "nbconvert_exporter": "python",
   "pygments_lexer": "ipython3",
   "version": "3.7.6"
  }
 },
 "nbformat": 4,
 "nbformat_minor": 4
}
