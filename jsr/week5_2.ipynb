{
 "cells": [
  {
   "cell_type": "code",
   "execution_count": 4,
   "metadata": {},
   "outputs": [],
   "source": [
    "import hashlib\n",
    "\n",
    "nonce=1 #임의로 정할 수 있음\n",
    "txA='Hello'.encode()\n",
    "txB='How are you?'.encode()\n",
    "txC='This is Thursday'.encode()\n",
    "txD='Happy new Year'.encode() #shift+enter을하면 실행과 동시에 번호가 뜸"
   ]
  },
  {
   "cell_type": "code",
   "execution_count": 5,
   "metadata": {},
   "outputs": [],
   "source": [
    "#Hash, 1단계 해싱하기\n",
    "hashA=hashlib.sha256(txA)\n",
    "hashB=hashlib.sha256(txB)\n",
    "hashC=hashlib.sha256(txC)\n",
    "hashD=hashlib.sha256(txD)"
   ]
  },
  {
   "cell_type": "code",
   "execution_count": 37,
   "metadata": {},
   "outputs": [
    {
     "data": {
      "text/plain": [
       "'185f8db32271fe25f561a6fc938b2e264306ec304eda518007d1764826381969'"
      ]
     },
     "execution_count": 37,
     "metadata": {},
     "output_type": "execute_result"
    }
   ],
   "source": [
    "hashA.hexdigest() #hashA의 해시값"
   ]
  },
  {
   "cell_type": "code",
   "execution_count": 38,
   "metadata": {},
   "outputs": [
    {
     "data": {
      "text/plain": [
       "'df287dfc1406ed2b692e1c2c783bb5cec97eac53151ee1d9810397aa0afa0d89'"
      ]
     },
     "execution_count": 38,
     "metadata": {},
     "output_type": "execute_result"
    }
   ],
   "source": [
    "hashB.hexdigest()"
   ]
  },
  {
   "cell_type": "markdown",
   "metadata": {},
   "source": [
    "1 바이트, 즉 2 niddles씩 출력해보자. 전체 글자수(32*2=64)에 대해 1바이트인 2글자씩 반복하면서 출력한다."
   ]
  },
  {
   "cell_type": "code",
   "execution_count": 34,
   "metadata": {},
   "outputs": [],
   "source": [
    "#for i in range(0, hashA.digest_size*2,2): \n",
    "    #32바이트인 hashA*2를해서 64바이트로 만들어준 후, 바이트 출력이니 2자리씩 출력!\n",
    "    #print(hashA.hexdigest()[i:i+2]) #2칸씩 해서 두자리 출력! "
   ]
  },
  {
   "cell_type": "markdown",
   "metadata": {},
   "source": [
    "반복문을 pythonic하게 줄여보자.(파이썬 문법으로 짧게 줄여쓰는 것)\n",
    "그리고 2바이트씩 잘라서 '''reversed()'''함수로 뒤집는다. "
   ]
  },
  {
   "cell_type": "code",
   "execution_count": 40,
   "metadata": {},
   "outputs": [],
   "source": [
    "#ByteSwap, 2단계 ByteSwap\n",
    "hashAswap=\"\".join(reversed([hashA.hexdigest()[i:i+2] for i in range(0, hashA.digest_size*2, 2)]))\n",
    "#reversed로 거꾸로 뒤집음"
   ]
  },
  {
   "cell_type": "code",
   "execution_count": 41,
   "metadata": {},
   "outputs": [],
   "source": [
    "#ByteSwap\n",
    "hashBswap=\"\".join(reversed([hashB.hexdigest()[i:i+2] for i in range(0, hashB.digest_size*2, 2)]))"
   ]
  },
  {
   "cell_type": "code",
   "execution_count": 42,
   "metadata": {},
   "outputs": [
    {
     "name": "stdout",
     "output_type": "stream",
     "text": [
      "hashAswap:  691938264876d1078051da4e30ec0643262e8b93fca661f525fe7122b38d5f18 \n",
      "hashBswap:  890dfa0aaa970381d9e11e1553ac7ec9ceb53b782c1c2e692bed0614fc7d28df\n"
     ]
    }
   ],
   "source": [
    "print(\"hashAswap: \",hashAswap,\"\\nhashBswap: \",hashBswap) #ByteSwap 결과"
   ]
  },
  {
   "cell_type": "markdown",
   "metadata": {},
   "source": [
    "여기까지 Hash A와 B를 준비했으니, 지금부터는 Hash A와 B를 더하고 더블해싱 해보자."
   ]
  },
  {
   "cell_type": "code",
   "execution_count": 43,
   "metadata": {},
   "outputs": [
    {
     "name": "stdout",
     "output_type": "stream",
     "text": [
      "hashAB: 691938264876d1078051da4e30ec0643262e8b93fca661f525fe7122b38d5f18890dfa0aaa970381d9e11e1553ac7ec9ceb53b782c1c2e692bed0614fc7d28df\n"
     ]
    }
   ],
   "source": [
    "#hashAB=hashA.hexdigest()+hashB.hexdigest(), 3-1단계 해시A+B\n",
    "hashAB=hashAswap+hashBswap\n",
    "#A와 B를 더했음\n",
    "print(\"hashAB:\",hashAB)"
   ]
  },
  {
   "cell_type": "code",
   "execution_count": 12,
   "metadata": {},
   "outputs": [
    {
     "name": "stdout",
     "output_type": "stream",
     "text": [
      "a7dca36b1e6fe56e1d7bc34fe56ceea8ab64f47a55e929b712fab58885dcdc37\n"
     ]
    }
   ],
   "source": [
    "doubleHashAB=hashlib.sha256(hashAB.encode()).hexdigest() # 3-2단계 더블해싱을 진행\n",
    "print(doubleHashAB) #거리1,2를 묶은거의 해시값이 나옴"
   ]
  },
  {
   "cell_type": "code",
   "execution_count": 13,
   "metadata": {},
   "outputs": [],
   "source": [
    "hashCswap=\"\".join(reversed([hashC.hexdigest()[i:i+2] for i in range(0, hashC.digest_size*2, 2)]))\n",
    "#reversed로 거꾸로 뒤집음, byteswap"
   ]
  },
  {
   "cell_type": "code",
   "execution_count": 44,
   "metadata": {},
   "outputs": [],
   "source": [
    "#for i in range(0, hashC.digest_size*2,2): \n",
    "    #32바이트인 hashA*2를해서 64바이트로 만들어준 후, 바이트 출력이니 2자리씩 출력!\n",
    "    #print(hashC.hexdigest()[i:i+2]) #2칸씩 해서 두자리 출력! "
   ]
  },
  {
   "cell_type": "code",
   "execution_count": 14,
   "metadata": {},
   "outputs": [],
   "source": [
    "hashDswap=\"\".join(reversed([hashD.hexdigest()[i:i+2] for i in range(0, hashD.digest_size*2, 2)])) #거꾸로 뒤집기"
   ]
  },
  {
   "cell_type": "code",
   "execution_count": 17,
   "metadata": {},
   "outputs": [
    {
     "name": "stdout",
     "output_type": "stream",
     "text": [
      "hashCswap:  3b06b3cc1ce7ee295589c7d97e132a616efff32c9a63e4738fd3b835a7991e0d \n",
      "hashDswap:  2f8578c01f8d3bcdc35d35f9b859a97786e357820a1412712b12a3b4cc4b7b12\n"
     ]
    }
   ],
   "source": [
    "print(\"hashCswap: \",hashCswap,\"\\nhashDswap: \",hashDswap) #swap한 결과 출력"
   ]
  },
  {
   "cell_type": "code",
   "execution_count": 31,
   "metadata": {},
   "outputs": [
    {
     "name": "stdout",
     "output_type": "stream",
     "text": [
      "hashCD: 3b06b3cc1ce7ee295589c7d97e132a616efff32c9a63e4738fd3b835a7991e0d2f8578c01f8d3bcdc35d35f9b859a97786e357820a1412712b12a3b4cc4b7b12\n"
     ]
    }
   ],
   "source": [
    "hashCD=hashCswap+hashDswap #C와 D를 더해줌\n",
    "print(\"hashCD:\",hashCD)"
   ]
  },
  {
   "cell_type": "code",
   "execution_count": 19,
   "metadata": {},
   "outputs": [
    {
     "name": "stdout",
     "output_type": "stream",
     "text": [
      "15524f5c1b536c2fe0f717fd8b1bbede37f94654fae6f47c20521ce476c8e0b2\n"
     ]
    }
   ],
   "source": [
    "doubleHashCD=hashlib.sha256(hashCD.encode()).hexdigest() #더블해싱 진행\n",
    "print(doubleHashCD)"
   ]
  },
  {
   "cell_type": "code",
   "execution_count": 23,
   "metadata": {},
   "outputs": [],
   "source": [
    "hashABCD=hashAB+hashCD"
   ]
  },
  {
   "cell_type": "code",
   "execution_count": 46,
   "metadata": {},
   "outputs": [
    {
     "name": "stdout",
     "output_type": "stream",
     "text": [
      "1f6c01c684b6a2d4ebf88cf03b9e4571803c9dcb6bef6868d2dd59d06fd001fe\n"
     ]
    }
   ],
   "source": [
    "doubleHashABCD=hashlib.sha256(hashABCD.encode()).hexdigest()\n",
    "print(doubleHashABCD) #거리1,2를 묶은거의 해시값이 나옴 #이것이 머클루트 값"
   ]
  },
  {
   "cell_type": "code",
   "execution_count": null,
   "metadata": {
    "scrolled": true
   },
   "outputs": [],
   "source": []
  },
  {
   "cell_type": "markdown",
   "metadata": {},
   "source": [
    "##난이도 문제 풀기"
   ]
  },
  {
   "cell_type": "code",
   "execution_count": 48,
   "metadata": {},
   "outputs": [
    {
     "name": "stdout",
     "output_type": "stream",
     "text": [
      "NONCE:  10000000 660b9e057377381579f5c54347901cf462fce656c069a4d0f26bdd4cf1e05e66\n"
     ]
    },
    {
     "ename": "KeyboardInterrupt",
     "evalue": "",
     "output_type": "error",
     "traceback": [
      "\u001b[1;31m---------------------------------------------------------------------------\u001b[0m",
      "\u001b[1;31mKeyboardInterrupt\u001b[0m                         Traceback (most recent call last)",
      "\u001b[1;32m<ipython-input-48-97e4c88ca4d7>\u001b[0m in \u001b[0;36m<module>\u001b[1;34m\u001b[0m\n\u001b[0;32m      8\u001b[0m \u001b[1;31m# 해시값도 임의로 정함\u001b[0m\u001b[1;33m\u001b[0m\u001b[1;33m\u001b[0m\u001b[1;33m\u001b[0m\u001b[0m\n\u001b[0;32m      9\u001b[0m \u001b[1;32mwhile\u001b[0m \u001b[0mfound\u001b[0m\u001b[1;33m==\u001b[0m\u001b[1;32mFalse\u001b[0m\u001b[1;33m:\u001b[0m\u001b[1;33m\u001b[0m\u001b[1;33m\u001b[0m\u001b[0m\n\u001b[1;32m---> 10\u001b[1;33m     \u001b[0mz\u001b[0m\u001b[1;33m=\u001b[0m\u001b[0mstr\u001b[0m\u001b[1;33m(\u001b[0m\u001b[0mblockNumber\u001b[0m\u001b[1;33m)\u001b[0m\u001b[1;33m+\u001b[0m\u001b[0mstr\u001b[0m\u001b[1;33m(\u001b[0m\u001b[0mNONCE\u001b[0m\u001b[1;33m)\u001b[0m\u001b[1;33m+\u001b[0m\u001b[0mdata\u001b[0m\u001b[1;33m+\u001b[0m\u001b[0mpreviousHash\u001b[0m \u001b[1;31m#문자열로 만든 다음\u001b[0m\u001b[1;33m\u001b[0m\u001b[1;33m\u001b[0m\u001b[0m\n\u001b[0m\u001b[0;32m     11\u001b[0m     \u001b[0mguessHash\u001b[0m\u001b[1;33m=\u001b[0m\u001b[0mhashlib\u001b[0m\u001b[1;33m.\u001b[0m\u001b[0msha256\u001b[0m\u001b[1;33m(\u001b[0m\u001b[0mz\u001b[0m\u001b[1;33m.\u001b[0m\u001b[0mencode\u001b[0m\u001b[1;33m(\u001b[0m\u001b[1;34m'utf-8'\u001b[0m\u001b[1;33m)\u001b[0m\u001b[1;33m)\u001b[0m\u001b[1;33m.\u001b[0m\u001b[0mhexdigest\u001b[0m\u001b[1;33m(\u001b[0m\u001b[1;33m)\u001b[0m\u001b[1;33m\u001b[0m\u001b[1;33m\u001b[0m\u001b[0m\n\u001b[0;32m     12\u001b[0m     \u001b[1;31m#해싱을 해서 목표 해시값을 맞추고자만들어낸 해시값\u001b[0m\u001b[1;33m\u001b[0m\u001b[1;33m\u001b[0m\u001b[1;33m\u001b[0m\u001b[0m\n",
      "\u001b[1;31mKeyboardInterrupt\u001b[0m: "
     ]
    }
   ],
   "source": [
    "import hashlib\n",
    "ntry=1 #시도를 1로 했는데, 지금은 안써도 될듯\n",
    "found=False #loop를 마칠지에 대한 것, while문에 들어가며 False는 while문 종료 조건\n",
    "blockNumber=54 # hex, 임의로 정한 것\n",
    "NONCE=0\n",
    "data='Hello' #임의로 정한 것\n",
    "previousHash='5d7c7ba21cbbcd75d14800b100252d5b428e5b1213d27c385bc141ca6b47989e'\n",
    "# 해시값도 임의로 정함\n",
    "while found==False:\n",
    "    z=str(blockNumber)+str(NONCE)+data+previousHash #문자열로 만든 다음\n",
    "    guessHash=hashlib.sha256(z.encode('utf-8')).hexdigest()\n",
    "    #해싱을 해서 목표 해시값을 맞추고자만들어낸 해시값\n",
    "    if guessHash[:4]=='00000': #앞의 자리수가 6개가 되는 경우 마치게 됨\n",
    "        found=True\n",
    "    NONCE+=1 #위의 경우가 아닌경우 Nonce값을 하나 증가시켜 루프를 반복시킴\n",
    "    if(NONCE%10000000==0):   #print guessHash every 10000000\n",
    "        print(\"NONCE: \",NONCE, guessHash) #이 간격마다 출력되도록 함. 혹시 몰라서!\n",
    "print(guessHash) #while문이 종료되면 내가 만든 해시값과 그 때의 난수값이 출력됨\n",
    "print(NONCE)"
   ]
  },
  {
   "cell_type": "code",
   "execution_count": 60,
   "metadata": {},
   "outputs": [
    {
     "name": "stdout",
     "output_type": "stream",
     "text": [
      "80 72 24 89 45 22 42 37 90 61 92 59 66 34 12 34 84 16 1 "
     ]
    }
   ],
   "source": [
    "#과제 3번 랜덤함수 이용\n",
    "from random import randint\n",
    "for i in range(1,20): #총20개 출력, end는 출력을 이어서 하게 만듦\n",
    "    print(random.randint(1,99), end=\" \") #1부터99사이(양수)의 무작위 수 생성"
   ]
  },
  {
   "cell_type": "code",
   "execution_count": 62,
   "metadata": {},
   "outputs": [],
   "source": [
    "#과제 3번 랜덤함수 이용해서 목표해시 찾기\n",
    "import hashlib\n",
    "from random import randint\n",
    "\n",
    "found=False #loop를 마칠지에 대한 것, while문에 들어가며 False는 While문 종료 조건\n",
    "blocknumber="
   ]
  },
  {
   "cell_type": "code",
   "execution_count": 61,
   "metadata": {},
   "outputs": [
    {
     "ename": "KeyboardInterrupt",
     "evalue": "",
     "output_type": "error",
     "traceback": [
      "\u001b[1;31m---------------------------------------------------------------------------\u001b[0m",
      "\u001b[1;31mKeyboardInterrupt\u001b[0m                         Traceback (most recent call last)",
      "\u001b[1;32m<ipython-input-61-554189f57859>\u001b[0m in \u001b[0;36m<module>\u001b[1;34m\u001b[0m\n\u001b[0;32m     11\u001b[0m \u001b[1;32mwhile\u001b[0m \u001b[0mfound\u001b[0m\u001b[1;33m==\u001b[0m\u001b[1;32mFalse\u001b[0m\u001b[1;33m:\u001b[0m\u001b[1;33m\u001b[0m\u001b[1;33m\u001b[0m\u001b[0m\n\u001b[0;32m     12\u001b[0m     \u001b[0mz\u001b[0m\u001b[1;33m=\u001b[0m\u001b[0mstr\u001b[0m\u001b[1;33m(\u001b[0m\u001b[0mblockNumber\u001b[0m\u001b[1;33m)\u001b[0m\u001b[1;33m+\u001b[0m\u001b[0mstr\u001b[0m\u001b[1;33m(\u001b[0m\u001b[0mNONCE\u001b[0m\u001b[1;33m)\u001b[0m\u001b[1;33m+\u001b[0m\u001b[0mdata\u001b[0m\u001b[1;33m+\u001b[0m\u001b[0mpreviousHash\u001b[0m \u001b[1;31m#문자열로 만든 다음\u001b[0m\u001b[1;33m\u001b[0m\u001b[1;33m\u001b[0m\u001b[0m\n\u001b[1;32m---> 13\u001b[1;33m     \u001b[0mguessHash\u001b[0m\u001b[1;33m=\u001b[0m\u001b[0mhashlib\u001b[0m\u001b[1;33m.\u001b[0m\u001b[0msha256\u001b[0m\u001b[1;33m(\u001b[0m\u001b[0mz\u001b[0m\u001b[1;33m.\u001b[0m\u001b[0mencode\u001b[0m\u001b[1;33m(\u001b[0m\u001b[1;34m'utf-8'\u001b[0m\u001b[1;33m)\u001b[0m\u001b[1;33m)\u001b[0m\u001b[1;33m.\u001b[0m\u001b[0mhexdigest\u001b[0m\u001b[1;33m(\u001b[0m\u001b[1;33m)\u001b[0m\u001b[1;33m\u001b[0m\u001b[1;33m\u001b[0m\u001b[0m\n\u001b[0m\u001b[0;32m     14\u001b[0m     \u001b[1;31m#해싱을 해서 목표 해시값을 맞추고자만들어낸 해시값\u001b[0m\u001b[1;33m\u001b[0m\u001b[1;33m\u001b[0m\u001b[1;33m\u001b[0m\u001b[0m\n\u001b[0;32m     15\u001b[0m     \u001b[1;32mif\u001b[0m \u001b[0mguessHash\u001b[0m\u001b[1;33m[\u001b[0m\u001b[1;33m:\u001b[0m\u001b[1;36m4\u001b[0m\u001b[1;33m]\u001b[0m\u001b[1;33m==\u001b[0m\u001b[1;34m'00000'\u001b[0m\u001b[1;33m:\u001b[0m \u001b[1;31m#앞의 자리수가 6개가 되는 경우 마치게 됨\u001b[0m\u001b[1;33m\u001b[0m\u001b[1;33m\u001b[0m\u001b[0m\n",
      "\u001b[1;31mKeyboardInterrupt\u001b[0m: "
     ]
    }
   ],
   "source": [
    "#과제3번\n",
    "import hashlib\n",
    "\n",
    "ntry=1 #시도를 1로 했는데, 지금은 안써도 될듯\n",
    "found=False #loop를 마칠지에 대한 것, while문에 들어가며 False는 while문 종료 조건\n",
    "blockNumber=54 # hex, 임의로 정한 것\n",
    "NONCE=0\n",
    "data='Hello' #임의로 정한 것\n",
    "previousHash='5d7c7ba21cbbcd75d14800b100252d5b428e5b1213d27c385bc141ca6b47989e'\n",
    "# 해시값도 임의로 정함\n",
    "while found==False:\n",
    "    z=str(blockNumber)+str(NONCE)+data+previousHash #문자열로 만든 다음\n",
    "    guessHash=hashlib.sha256(z.encode('utf-8')).hexdigest()\n",
    "    #해싱을 해서 목표 해시값을 맞추고자만들어낸 해시값\n",
    "    if guessHash[:4]=='00000': #앞의 자리수가 6개가 되는 경우 마치게 됨\n",
    "        found=True\n",
    "    NONCE+=1 #위의 경우가 아닌경우 Nonce값을 하나 증가시켜 루프를 반복시킴\n",
    "    if(NONCE%10000000==0):   #print guessHash every 10000000\n",
    "        print(\"NONCE: \",NONCE, guessHash) #이 간격마다 출력되도록 함. 혹시 몰라서!\n",
    "print(guessHash) #while문이 종료되면 내가 만든 해시값과 그 때의 난수값이 출력됨\n",
    "print(NONCE)"
   ]
  },
  {
   "cell_type": "code",
   "execution_count": null,
   "metadata": {},
   "outputs": [],
   "source": []
  }
 ],
 "metadata": {
  "kernelspec": {
   "display_name": "Python 3",
   "language": "python",
   "name": "python3"
  },
  "language_info": {
   "codemirror_mode": {
    "name": "ipython",
    "version": 3
   },
   "file_extension": ".py",
   "mimetype": "text/x-python",
   "name": "python",
   "nbconvert_exporter": "python",
   "pygments_lexer": "ipython3",
   "version": "3.7.6"
  }
 },
 "nbformat": 4,
 "nbformat_minor": 4
}
