{
 "cells": [
  {
   "cell_type": "markdown",
   "metadata": {},
   "source": [
    "### ganache-cli\n",
    "배치 파일을 만들고 ganache를 실행해보자."
   ]
  },
  {
   "cell_type": "code",
   "execution_count": 4,
   "metadata": {},
   "outputs": [
    {
     "name": "stdout",
     "output_type": "stream",
     "text": [
      "Overwriting _ganacheNow.bat\n"
     ]
    }
   ],
   "source": [
    "%%writefile _ganacheNow.bat\n",
    "node_modules\\.bin\\ganache-cli --unlock 0 --host \"127.0.0.1\" --port \"8345\""
   ]
  },
  {
   "cell_type": "markdown",
   "metadata": {},
   "source": [
    "위의 실행은 반드시 명령창에서 해야한다. jupyterNotebook에서 할 경우 블록됨 "
   ]
  },
  {
   "cell_type": "markdown",
   "metadata": {},
   "source": [
    "### geth attach\n",
    "명령창2를 켜고 설정하자.이를 통해 ganache 상태를 볼 수 있다. "
   ]
  },
  {
   "cell_type": "code",
   "execution_count": null,
   "metadata": {},
   "outputs": [],
   "source": []
  },
  {
   "cell_type": "markdown",
   "metadata": {},
   "source": [
    "### node\n",
    "명령창3을 켜고 node를 실행한다. 이는 프로그래밍을 할 때 쓴다.\n",
    "여기서 web3.js를 통해서 블록체인에 연결한다.\n",
    "- 블록체인은 ganache의 서버창(첫번째 명령창)에서 돌아가고 있고, 이것을 두번째 서버창에서 볼 수 있으며, 세번째 창은 인터럽트하게 상호작용할 수 있다. "
   ]
  },
  {
   "cell_type": "code",
   "execution_count": 6,
   "metadata": {},
   "outputs": [
    {
     "name": "stdout",
     "output_type": "stream",
     "text": [
      "Overwriting src/web3ethCommands.js\n"
     ]
    }
   ],
   "source": [
    "%%writefile src/web3ethCommands.js\n",
    "var Web3 = require('web3');\n",
    "var web3 = new Web3('http://127.0.0.1:8345');\n",
    "web3.eth.getCoinbase().then(console.log);\n",
    "//web3.eth.getChainId().then(console.log);\n",
    "web3.eth.getAccounts(console.log);\n",
    "web3.eth.getCoinbase().then(console.log);\n",
    "web3.eth.getBlockNumber().then(console.log);\n",
    "web3.eth.getBalance('0x84293ED1B46DbF3BB932358996d12b7D9f8acbc9').then(console.log);\n",
    "web3.eth.getNodeInfo().then(console.log);"
   ]
  },
  {
   "cell_type": "code",
   "execution_count": 8,
   "metadata": {},
   "outputs": [
    {
     "name": "stdout",
     "output_type": "stream",
     "text": [
      "0x84293ed1b46dbf3bb932358996d12b7d9f8acbc9\n",
      "null [\n",
      "  '0x84293ED1B46DbF3BB932358996d12b7D9f8acbc9',\n",
      "  '0xd94BcD342d6570c25da2BE56739f5731f3CAF809',\n",
      "  '0xf158a3c72d67173871276431d2475fA3e910d4Fc',\n",
      "  '0x505c84b144a12BA57E262DECC02A49f84f6CcF4f',\n",
      "  '0xcE5935E65Edeb51FdFe8c3Eee02ea23172AE12Dc',\n",
      "  '0xD197f68d2Fef3f78FCE0061AD2707E4B078fb577',\n",
      "  '0xd0ec6aF8FDB550709a796E26279Dd274cF1671e0',\n",
      "  '0xEA859bAf17B6eae365e5e2C130A74490840CC7C4',\n",
      "  '0x1Fb116Db902b8F882C43e9124181a95Cc4dE776B',\n",
      "  '0xF56F5082A4035060e33b04B78dd99a3adE85426c'\n",
      "]\n",
      "0x84293ed1b46dbf3bb932358996d12b7d9f8acbc9\n",
      "0\n",
      "100000000000000000000\n",
      "EthereumJS TestRPC/v2.10.2/ethereum-js\n"
     ]
    }
   ],
   "source": [
    "!node src/web3ethCommands.js"
   ]
  },
  {
   "cell_type": "markdown",
   "metadata": {},
   "source": [
    "아래의 배치파일은 accounts와 관련된 것이다.\n",
    "* 매번 실행하기 때문에 아래의 두 줄은 항상 넣어주어야 한다.\n",
    "\n",
    "var Web3 = require('web3');\n",
    "\n",
    "var web3 = new Web3('http://127.0.0.1:8345');"
   ]
  },
  {
   "cell_type": "code",
   "execution_count": 11,
   "metadata": {},
   "outputs": [
    {
     "name": "stdout",
     "output_type": "stream",
     "text": [
      "Overwriting src/web3accounts.js\n"
     ]
    }
   ],
   "source": [
    "%%writefile src/web3accounts.js\n",
    "var Web3 = require('web3');\n",
    "var web3 = new Web3('http://127.0.0.1:8345');\n",
    "web3.eth.getAccounts(function(err,res) { console.log(\"accounts: \" + res); } );\n",
    "my=[]\n",
    "web3.eth.getAccounts(function(err, res) { for (x in res) { my.push(res[x]) } } );\n",
    "console.log(\"accounts from array: \" + my[0]);"
   ]
  },
  {
   "cell_type": "code",
   "execution_count": 12,
   "metadata": {},
   "outputs": [
    {
     "name": "stdout",
     "output_type": "stream",
     "text": [
      "accounts from array: undefined\n",
      "accounts: 0x84293ED1B46DbF3BB932358996d12b7D9f8acbc9,0xd94BcD342d6570c25da2BE56739f5731f3CAF809,0xf158a3c72d67173871276431d2475fA3e910d4Fc,0x505c84b144a12BA57E262DECC02A49f84f6CcF4f,0xcE5935E65Edeb51FdFe8c3Eee02ea23172AE12Dc,0xD197f68d2Fef3f78FCE0061AD2707E4B078fb577,0xd0ec6aF8FDB550709a796E26279Dd274cF1671e0,0xEA859bAf17B6eae365e5e2C130A74490840CC7C4,0x1Fb116Db902b8F882C43e9124181a95Cc4dE776B,0xF56F5082A4035060e33b04B78dd99a3adE85426c\n"
     ]
    }
   ],
   "source": [
    "!node src/web3accounts.js"
   ]
  },
  {
   "cell_type": "markdown",
   "metadata": {},
   "source": [
    "### utils 함수\n"
   ]
  },
  {
   "cell_type": "code",
   "execution_count": 14,
   "metadata": {},
   "outputs": [
    {
     "name": "stdout",
     "output_type": "stream",
     "text": [
      "Overwriting src/web3utils.js\n"
     ]
    }
   ],
   "source": [
    "%%writefile src/web3utils.js\n",
    "var Web3 = require('web3');\n",
    "var web3 = new Web3('http://127.0.0.1:8345');\n",
    "console.log(web3.utils.randomHex(32));    //generate random 32 byte hex\n",
    "console.log(web3.utils.keccak256('234'));  //calculate keccak256 for '234'\n",
    "console.log(web3.utils.isAddress('0xf2a4f09c903a0a7b3450d9d16bbca14dea36aee1'));  //check if the input is a valid address\n",
    "console.log(web3.utils.utf8ToHex('안녕'));\n",
    "console.log(web3.utils.toWei('1', 'ether'));"
   ]
  },
  {
   "cell_type": "code",
   "execution_count": 15,
   "metadata": {},
   "outputs": [
    {
     "name": "stdout",
     "output_type": "stream",
     "text": [
      "0x957b311eaaa7e99b32978ac06e4e6a2cdba3da449adc7111e4b16680b89b6221\n",
      "0xc1912fee45d61c87cc5ea59dae311904cd86b84fee17cc96966216f811ce6a79\n",
      "true\n",
      "0xec9588eb8595\n",
      "1000000000000000000\n"
     ]
    }
   ],
   "source": [
    "!node src/web3utils.js"
   ]
  },
  {
   "cell_type": "code",
   "execution_count": null,
   "metadata": {},
   "outputs": [],
   "source": []
  }
 ],
 "metadata": {
  "kernelspec": {
   "display_name": "Python 3",
   "language": "python",
   "name": "python3"
  },
  "language_info": {
   "codemirror_mode": {
    "name": "ipython",
    "version": 3
   },
   "file_extension": ".py",
   "mimetype": "text/x-python",
   "name": "python",
   "nbconvert_exporter": "python",
   "pygments_lexer": "ipython3",
   "version": "3.7.6"
  }
 },
 "nbformat": 4,
 "nbformat_minor": 4
}
